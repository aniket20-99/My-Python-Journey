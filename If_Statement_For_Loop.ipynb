{
 "cells": [
  {
   "cell_type": "markdown",
   "id": "5d167697-1531-4424-bf49-b22e9727be11",
   "metadata": {},
   "source": [
    "## IF Statement"
   ]
  },
  {
   "cell_type": "code",
   "execution_count": 6,
   "id": "d3f801f6-5325-487e-a0a5-3c7953133305",
   "metadata": {},
   "outputs": [
    {
     "name": "stdout",
     "output_type": "stream",
     "text": [
      "congrats, You can drive\n"
     ]
    }
   ],
   "source": [
    "Age = 21\n",
    "\n",
    "if Age >= 18:\n",
    "    print(\"Congrats, You can drive\")\n",
    "\n",
    "else:\n",
    "    print(\"Sorry due to age limitation, you are not eligible\")"
   ]
  },
  {
   "cell_type": "code",
   "execution_count": 25,
   "id": "04a5eb20-357d-4202-9a84-de610595771d",
   "metadata": {},
   "outputs": [
    {
     "name": "stdin",
     "output_type": "stream",
     "text": [
      "Enter student name Tom\n",
      "Enter the score 88\n"
     ]
    },
    {
     "name": "stdout",
     "output_type": "stream",
     "text": [
      "Great performance,Tom\n",
      " your Grade is A\n"
     ]
    }
   ],
   "source": [
    "name = input(\"Enter student name\")\n",
    "score = int(input(\"Enter the score\"))\n",
    "if score >= 90:\n",
    "    print(f\"Excellent performance,{name}\\nYour grade is A+\")\n",
    "\n",
    "elif score >= 80:\n",
    "    print(f\"Great performance,{name}\\n your Grade is A\")\n",
    "\n",
    "elif score >= 70:\n",
    "    print(f\"Good performance,{name}\\n your Grade is B+\")\n",
    "\n",
    "\n",
    "elif score >= 60:\n",
    "    print(f\"Be careful, {name}\\n your Grade is B\")\n",
    "    \n",
    "else:\n",
    "    print(f\"Performance is poor, {name}\\n your Grade is C\")\n"
   ]
  },
  {
   "cell_type": "code",
   "execution_count": 27,
   "id": "8a139211-8087-4531-9546-ee13e80687f2",
   "metadata": {},
   "outputs": [
    {
     "name": "stdout",
     "output_type": "stream",
     "text": [
      "c is the largest number 50\n"
     ]
    }
   ],
   "source": [
    "#find the largest number\n",
    "a = 30\n",
    "b = 40\n",
    "c = 50\n",
    "\n",
    "if (a >= b) and (a >=c):\n",
    "    print(\"a is the largest number\", a)\n",
    "\n",
    "elif (b >=a ) and (b >= c):\n",
    "    print(\"b is the largest number\", b)\n",
    "\n",
    "else:\n",
    "    print(\"c is the largest number\",c)\n",
    "    \n",
    "    "
   ]
  },
  {
   "cell_type": "code",
   "execution_count": 29,
   "id": "9f3d42ec-72d8-4b92-a503-2ba0088812d8",
   "metadata": {},
   "outputs": [
    {
     "name": "stdin",
     "output_type": "stream",
     "text": [
      "Enter your first number:-  56\n",
      "Enter your second number:-  98\n",
      "Enter your third number:-  45\n"
     ]
    },
    {
     "name": "stdout",
     "output_type": "stream",
     "text": [
      "second largest no is:-  56\n"
     ]
    }
   ],
   "source": [
    "num1 = int(input(\"Enter your first number:- \"))\n",
    "num2 = int(input(\"Enter your second number:- \"))\n",
    "num3 = int(input(\"Enter your third number:- \"))\n",
    "\n",
    "if (num1 >= num2) and (num1 >= num3):\n",
    "    if num2 >= num3:\n",
    "        print(\"second largest no is:- \", num2)\n",
    "    else:\n",
    "        print(\"second largest no is:- \", num3)\n",
    "\n",
    "\n",
    "if (num2 >= num1) and (num2 >= num3):\n",
    "    if num1 >= num3:\n",
    "        print(\"second largest no is:- \", num1)\n",
    "    else:\n",
    "        print(\"second largest no is:- \", num3)\n",
    "\n",
    "\n",
    "\n",
    "if (num3 >= num1) and (num3 >= num2):\n",
    "    if num2 >= num1:\n",
    "        print(\"second largest no is:- \", num2)\n",
    "    else:\n",
    "        print(\"second largest no is:- \", num1)\n",
    "\n",
    "\n",
    "        \n",
    "    \n",
    "\n"
   ]
  },
  {
   "cell_type": "code",
   "execution_count": 31,
   "id": "1625da95-3162-4e77-bab1-0ba4b20c7ac8",
   "metadata": {},
   "outputs": [
    {
     "name": "stdin",
     "output_type": "stream",
     "text": [
      "Enter your choice, (add/sub/mult/div):  div\n",
      "Enter your first no:-  75\n",
      "Enter your second no:-  13\n"
     ]
    },
    {
     "name": "stdout",
     "output_type": "stream",
     "text": [
      "(75.0, '/', 13.0, '=', 5.769230769230769)\n"
     ]
    }
   ],
   "source": [
    "# let us make a simple calculator that takes the choice of operation from the user\n",
    "# Also, the user entered two numbers that needed to be computed.\n",
    "\n",
    "choice = input(\"Enter your choice, (add/sub/mult/div): \")\n",
    "\n",
    "num1 = float(input(\"Enter your first no:- \"))\n",
    "num2 = float(input(\"Enter your second no:- \"))\n",
    "\n",
    "if choice == \"add\":\n",
    "    print(num1, \"+\" ,num2, \"=\" ,num1 + num2)\n",
    "\n",
    "elif choice == \"sub\":\n",
    "    print((num1, \"-\" ,num2, \"=\" ,num1 - num2))\n",
    "\n",
    "elif choice == \"mult\":\n",
    "    print((num1, \"*\" ,num2, \"=\" ,num1 * num2))\n",
    "\n",
    "elif choice == \"div\":\n",
    "    print((num1, \"/\" ,num2, \"=\" ,num1 / num2))\n",
    "\n",
    "else:\n",
    "    print(\"select the right choice\")\n"
   ]
  },
  {
   "cell_type": "code",
   "execution_count": 42,
   "id": "50eba9e6-d63e-4554-a4e2-6be61fade462",
   "metadata": {},
   "outputs": [
    {
     "name": "stdin",
     "output_type": "stream",
     "text": [
      "Enter your choice, (Executive/Manager/Senior Manager):  MANAGER\n"
     ]
    },
    {
     "name": "stdout",
     "output_type": "stream",
     "text": [
      "The salary range of the Manager is: 60000-90000\n"
     ]
    }
   ],
   "source": [
    "# We have 3 designations: Executive, Manager, Senior Manager\n",
    "# take input from the user \"Designation\" and print the salary range of that designation\n",
    "# Executive: 30000-40000\n",
    "# Manager: 60000-90000\n",
    "# Senior Manager:  120000-160000\n",
    "\n",
    "# Input: Ask the designation from user: \"Executive\"\n",
    "# Output: The salary range of the Executive is: 30000-40000\n",
    "\n",
    "\n",
    "designation = input(\"Enter your choice, (Executive/Manager/Senior Manager): \")\n",
    "\n",
    "designation = designation.lower()\n",
    "\n",
    "if designation == \"executive\":\n",
    "    print(\"The salary range of the Executive is: 30000-40000\")\n",
    "\n",
    "elif designation == \"manager\":\n",
    "    print(\"The salary range of the Manager is: 60000-90000\")\n",
    "\n",
    "elif designation == \"senior manager\":\n",
    "    print(\"The salary range of the Senior Manager is: 120000-160000\")\n",
    "\n",
    "else:\n",
    "    print(\"Please select the correct choice (Executive/Manager/Senior Manager)\")\n",
    "\n"
   ]
  },
  {
   "cell_type": "markdown",
   "id": "16963a5f-09f8-4adb-820a-463c2cefb36e",
   "metadata": {},
   "source": [
    "## For LOOP\n"
   ]
  },
  {
   "cell_type": "code",
   "execution_count": 43,
   "id": "48df18f8-96c4-4232-9aae-3915f75b6f70",
   "metadata": {},
   "outputs": [
    {
     "name": "stdout",
     "output_type": "stream",
     "text": [
      "0\n",
      "1\n",
      "2\n",
      "3\n",
      "4\n"
     ]
    }
   ],
   "source": [
    "# range: generating a sequence of numbers 1,2,3,4,5.\n",
    "# In the range there are three parameters (start, stop, and step)\n",
    "for i in range(5): # i=0,i=1,i=2 ....i\n",
    "    print(i)\n",
    "    "
   ]
  },
  {
   "cell_type": "code",
   "execution_count": 45,
   "id": "47519175-5b24-4524-9914-9494131394d8",
   "metadata": {},
   "outputs": [
    {
     "name": "stdout",
     "output_type": "stream",
     "text": [
      "2\n",
      "4\n",
      "6\n",
      "8\n"
     ]
    }
   ],
   "source": [
    "for i in range(2,9): # i=0,i=1,i=2 .... i\n",
    "    print(i)\n",
    "    "
   ]
  },
  {
   "cell_type": "code",
   "execution_count": null,
   "id": "78e952d7-9ded-4d6b-9590-3b677b161b79",
   "metadata": {},
   "outputs": [],
   "source": []
  },
  {
   "cell_type": "code",
   "execution_count": 46,
   "id": "2974008b-2184-442d-994a-b5f86fa511f6",
   "metadata": {},
   "outputs": [
    {
     "name": "stdout",
     "output_type": "stream",
     "text": [
      "2\n",
      "4\n",
      "6\n",
      "8\n",
      "10\n",
      "12\n"
     ]
    }
   ],
   "source": [
    "# range(start,stop,step)\n",
    "for i in range(2,14,2): # i=0,i=1,i=2 .... i\n",
    "    print(i)"
   ]
  },
  {
   "cell_type": "markdown",
   "id": "a9ddc658-7ad0-4945-908b-c0c8e68b2601",
   "metadata": {},
   "source": [
    "## For Loop on List\n"
   ]
  },
  {
   "cell_type": "code",
   "execution_count": 47,
   "id": "d7d97a7a-abc2-49c1-a5bc-155080383be4",
   "metadata": {},
   "outputs": [
    {
     "name": "stdout",
     "output_type": "stream",
     "text": [
      "Apple\n",
      "Banana\n",
      "Cherry\n",
      "Grapes\n"
     ]
    }
   ],
   "source": [
    "Fruit = [\"Apple\", \"Banana\", \"Cherry\", \"Grapes\"]\n",
    "\n",
    "for fruits in Fruit:\n",
    "    print(fruits)"
   ]
  },
  {
   "cell_type": "code",
   "execution_count": 48,
   "id": "9b5fa938-9d57-4383-8113-fd7366177f9f",
   "metadata": {},
   "outputs": [
    {
     "name": "stdout",
     "output_type": "stream",
     "text": [
      "India\n",
      "Australia\n",
      "U.K\n",
      "U.S.A\n"
     ]
    }
   ],
   "source": [
    "Country = [\"India\", \"Australia\", \"U.K\", \"U.S.A\"]\n",
    "\n",
    "for country in Country:\n",
    "    print(country)"
   ]
  },
  {
   "cell_type": "code",
   "execution_count": 59,
   "id": "899bbaf7-6570-40bb-ad46-3e06cf798fb2",
   "metadata": {},
   "outputs": [
    {
     "name": "stdout",
     "output_type": "stream",
     "text": [
      "India\n",
      "Australia\n",
      "U.K\n",
      "U.S.A\n",
      "Nepal\n",
      "Ukraine\n"
     ]
    }
   ],
   "source": [
    "Country = [\"India\", \"Australia\", \"U.K\", \"U.S.A\", \"Nepal\", \"Ukraine\"]\n",
    "\n",
    "for index in range(len(Country)):\n",
    "    print(Country[index])"
   ]
  },
  {
   "cell_type": "code",
   "execution_count": null,
   "id": "8e51b6de-b0d4-49aa-985e-4851a4d5f69a",
   "metadata": {},
   "outputs": [],
   "source": []
  }
 ],
 "metadata": {
  "kernelspec": {
   "display_name": "Python 3 (ipykernel)",
   "language": "python",
   "name": "python3"
  },
  "language_info": {
   "codemirror_mode": {
    "name": "ipython",
    "version": 3
   },
   "file_extension": ".py",
   "mimetype": "text/x-python",
   "name": "python",
   "nbconvert_exporter": "python",
   "pygments_lexer": "ipython3",
   "version": "3.11.5"
  }
 },
 "nbformat": 4,
 "nbformat_minor": 5
}
