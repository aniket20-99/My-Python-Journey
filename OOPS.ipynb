{
 "cells": [
  {
   "cell_type": "markdown",
   "id": "88fe346c-9309-4ce7-a03b-08e2ccfb1343",
   "metadata": {},
   "source": [
    "# Classes"
   ]
  },
  {
   "cell_type": "code",
   "execution_count": 242,
   "id": "45cf0b33-793c-4df3-b690-02cd7fe9d03f",
   "metadata": {},
   "outputs": [],
   "source": [
    "class PERSON:\n",
    "    pass"
   ]
  },
  {
   "cell_type": "code",
   "execution_count": 243,
   "id": "2a2f2e60-d69a-4ad0-8eea-eff688753f8c",
   "metadata": {},
   "outputs": [],
   "source": [
    "#person1 is object or instance\n",
    "person1 = PERSON()"
   ]
  },
  {
   "cell_type": "code",
   "execution_count": 244,
   "id": "2da7e133-ef68-4ebe-94a5-5e9f5ce414e2",
   "metadata": {},
   "outputs": [
    {
     "name": "stdout",
     "output_type": "stream",
     "text": [
      "<__main__.PERSON object at 0x00000261EB7754D0>\n"
     ]
    }
   ],
   "source": [
    "print(person1)"
   ]
  },
  {
   "cell_type": "code",
   "execution_count": 11,
   "id": "2ad7241e-01c1-4d76-b499-3951ae740ce6",
   "metadata": {},
   "outputs": [
    {
     "data": {
      "text/plain": [
       "['__class__',\n",
       " '__delattr__',\n",
       " '__dict__',\n",
       " '__dir__',\n",
       " '__doc__',\n",
       " '__eq__',\n",
       " '__format__',\n",
       " '__ge__',\n",
       " '__getattribute__',\n",
       " '__getstate__',\n",
       " '__gt__',\n",
       " '__hash__',\n",
       " '__init__',\n",
       " '__init_subclass__',\n",
       " '__le__',\n",
       " '__lt__',\n",
       " '__module__',\n",
       " '__ne__',\n",
       " '__new__',\n",
       " '__reduce__',\n",
       " '__reduce_ex__',\n",
       " '__repr__',\n",
       " '__setattr__',\n",
       " '__sizeof__',\n",
       " '__str__',\n",
       " '__subclasshook__',\n",
       " '__weakref__',\n",
       " 'name']"
      ]
     },
     "execution_count": 11,
     "metadata": {},
     "output_type": "execute_result"
    }
   ],
   "source": [
    "dir(person1)"
   ]
  },
  {
   "cell_type": "code",
   "execution_count": 10,
   "id": "dbe26a85-54b9-4b60-b2b8-6c19c71d3d9b",
   "metadata": {},
   "outputs": [
    {
     "name": "stdout",
     "output_type": "stream",
     "text": [
      "Rohit\n"
     ]
    }
   ],
   "source": [
    "person1.name = \"Rohit\"\n",
    "print(person1.name)"
   ]
  },
  {
   "cell_type": "code",
   "execution_count": 9,
   "id": "ba9fd8f0-77c4-4151-b89e-b77bf4d63438",
   "metadata": {},
   "outputs": [
    {
     "data": {
      "text/plain": [
       "<__main__.person at 0x261eb75bed0>"
      ]
     },
     "execution_count": 9,
     "metadata": {},
     "output_type": "execute_result"
    }
   ],
   "source": [
    "# Attribute is the values variable which we defining inside a person class\n",
    "# Object is a blue print coppy of the class"
   ]
  },
  {
   "cell_type": "code",
   "execution_count": 241,
   "id": "2fa96b51-d492-448f-95d9-20333ad4fd7b",
   "metadata": {},
   "outputs": [],
   "source": [
    "class Person1:\n",
    "    def __init__(self,first_name,last_name): # constructor(attributes or parameter of class)\n",
    "        self.first_name = first_name # self is the current instance of the class\n",
    "        self.last_name = last_name \n",
    "    def __str__(self):\n",
    "        return (f\"The name is {self.first_name} and the last name is {self.last_name}\")\n",
    "        \n",
    "        "
   ]
  },
  {
   "cell_type": "code",
   "execution_count": 36,
   "id": "98b2ee6c-bb6f-4420-b087-6f0fd061a4fe",
   "metadata": {},
   "outputs": [
    {
     "name": "stdout",
     "output_type": "stream",
     "text": [
      "The name is Rajeev and the last name is Chauhan\n"
     ]
    }
   ],
   "source": [
    "person2 = Person(\"Rajeev\",\"Chauhan\")\n",
    "print(person2)"
   ]
  },
  {
   "cell_type": "code",
   "execution_count": 28,
   "id": "95a9f830-df19-4bae-9d4b-8207485cb3c4",
   "metadata": {},
   "outputs": [
    {
     "data": {
      "text/plain": [
       "'Chauhan'"
      ]
     },
     "execution_count": 28,
     "metadata": {},
     "output_type": "execute_result"
    }
   ],
   "source": [
    "person2.first_name\n"
   ]
  },
  {
   "cell_type": "code",
   "execution_count": 31,
   "id": "ef39c8c4-6a6d-4a96-b38c-592cdb472fb9",
   "metadata": {},
   "outputs": [
    {
     "data": {
      "text/plain": [
       "'Chauhan'"
      ]
     },
     "execution_count": 31,
     "metadata": {},
     "output_type": "execute_result"
    }
   ],
   "source": [
    "person2.last_name"
   ]
  },
  {
   "cell_type": "code",
   "execution_count": 26,
   "id": "e30f6151-7715-492f-9039-1930379408c4",
   "metadata": {},
   "outputs": [],
   "source": [
    "person3 = Person(\"Aniket\",\"Kumar\")"
   ]
  },
  {
   "cell_type": "code",
   "execution_count": 30,
   "id": "ec6ad4dc-7410-499c-9467-3dd49a6af1b3",
   "metadata": {},
   "outputs": [
    {
     "data": {
      "text/plain": [
       "'Aniket'"
      ]
     },
     "execution_count": 30,
     "metadata": {},
     "output_type": "execute_result"
    }
   ],
   "source": [
    "person3.first_name\n"
   ]
  },
  {
   "cell_type": "code",
   "execution_count": 37,
   "id": "0a178561-3571-440a-b606-967495b77905",
   "metadata": {},
   "outputs": [
    {
     "data": {
      "text/plain": [
       "'Kumar'"
      ]
     },
     "execution_count": 37,
     "metadata": {},
     "output_type": "execute_result"
    }
   ],
   "source": [
    "person3.last_name"
   ]
  },
  {
   "cell_type": "code",
   "execution_count": 113,
   "id": "325c7f40-0e28-4924-9336-c3b7e284bf9e",
   "metadata": {},
   "outputs": [],
   "source": [
    "class bank_account:\n",
    "    def __init__(self,acc_no,acc_holder_name,balance=0):\n",
    "        self.acc_no = acc_no\n",
    "        self.acc_holder_name = acc_holder_name\n",
    "        self.balance = balance\n",
    "    def deposit(self,deposit):\n",
    "        self.balance = self.balance + deposit\n",
    "\n",
    "    def withdrawl(self,withdrawl_amt):\n",
    "        if withdrawl_amt <= self.balance:\n",
    "            self.balance = self.balance - withdrawl_amt\n",
    "\n",
    "        else:\n",
    "            print(\"Low balance\")\n",
    "    "
   ]
  },
  {
   "cell_type": "code",
   "execution_count": 114,
   "id": "6591922c-25f1-4b39-83ea-590336e94e95",
   "metadata": {},
   "outputs": [
    {
     "name": "stdout",
     "output_type": "stream",
     "text": [
      "<__main__.bank_account object at 0x00000261EC5056D0>\n"
     ]
    }
   ],
   "source": [
    "cust1 = bank_account(1234456667,\"Aniket\",1000000)\n",
    "print(cust1)"
   ]
  },
  {
   "cell_type": "code",
   "execution_count": 115,
   "id": "8640a318-b857-4727-af4c-6c99d5e2e331",
   "metadata": {},
   "outputs": [
    {
     "data": {
      "text/plain": [
       "1234456667"
      ]
     },
     "execution_count": 115,
     "metadata": {},
     "output_type": "execute_result"
    }
   ],
   "source": [
    "cust1.acc_no\n"
   ]
  },
  {
   "cell_type": "code",
   "execution_count": 44,
   "id": "176caa18-1687-40a0-8591-ad7696a6b6ca",
   "metadata": {},
   "outputs": [
    {
     "data": {
      "text/plain": [
       "'Aniket'"
      ]
     },
     "execution_count": 44,
     "metadata": {},
     "output_type": "execute_result"
    }
   ],
   "source": [
    "cust1.acc_holder_name"
   ]
  },
  {
   "cell_type": "code",
   "execution_count": 116,
   "id": "e806b420-69f2-4932-84b0-36013c2b81ea",
   "metadata": {},
   "outputs": [],
   "source": [
    "account1 = bank_account(1234456667,\"Aniket\",0)"
   ]
  },
  {
   "cell_type": "code",
   "execution_count": 103,
   "id": "a339ecd5-a73a-4b28-99c3-3dcbf0e6a9c1",
   "metadata": {},
   "outputs": [
    {
     "data": {
      "text/plain": [
       "['__class__',\n",
       " '__delattr__',\n",
       " '__dict__',\n",
       " '__dir__',\n",
       " '__doc__',\n",
       " '__eq__',\n",
       " '__format__',\n",
       " '__ge__',\n",
       " '__getattribute__',\n",
       " '__getstate__',\n",
       " '__gt__',\n",
       " '__hash__',\n",
       " '__init__',\n",
       " '__init_subclass__',\n",
       " '__le__',\n",
       " '__lt__',\n",
       " '__module__',\n",
       " '__ne__',\n",
       " '__new__',\n",
       " '__reduce__',\n",
       " '__reduce_ex__',\n",
       " '__repr__',\n",
       " '__setattr__',\n",
       " '__sizeof__',\n",
       " '__str__',\n",
       " '__subclasshook__',\n",
       " '__weakref__',\n",
       " 'acc_holder_name',\n",
       " 'acc_no',\n",
       " 'balance',\n",
       " 'deposit',\n",
       " 'withdrawl']"
      ]
     },
     "execution_count": 103,
     "metadata": {},
     "output_type": "execute_result"
    }
   ],
   "source": [
    "dir(account1)"
   ]
  },
  {
   "cell_type": "code",
   "execution_count": 117,
   "id": "b6fa1b6c-95c2-4ea0-8400-0cf06df3c04b",
   "metadata": {},
   "outputs": [
    {
     "name": "stdout",
     "output_type": "stream",
     "text": [
      "0\n"
     ]
    }
   ],
   "source": [
    "print(account1.balance)"
   ]
  },
  {
   "cell_type": "code",
   "execution_count": 124,
   "id": "ca75b94d-22dd-4f64-a06a-58b0f9b66ed6",
   "metadata": {},
   "outputs": [],
   "source": [
    "account1.deposit(9000)"
   ]
  },
  {
   "cell_type": "code",
   "execution_count": 126,
   "id": "987e0a67-5b43-4e42-95c6-082c9b6f84ac",
   "metadata": {},
   "outputs": [
    {
     "name": "stdout",
     "output_type": "stream",
     "text": [
      "9900\n"
     ]
    }
   ],
   "source": [
    "print(account1.balance)"
   ]
  },
  {
   "cell_type": "code",
   "execution_count": 127,
   "id": "60410ec1-bf73-4ce1-9640-5e5a40da0a26",
   "metadata": {},
   "outputs": [],
   "source": [
    "account1.withdrawl(100)"
   ]
  },
  {
   "cell_type": "code",
   "execution_count": 128,
   "id": "032710b9-63cd-4bab-b026-b15fe7cd36c9",
   "metadata": {},
   "outputs": [
    {
     "name": "stdout",
     "output_type": "stream",
     "text": [
      "9800\n"
     ]
    }
   ],
   "source": [
    "print(account1.balance)"
   ]
  },
  {
   "cell_type": "code",
   "execution_count": 130,
   "id": "3130f375-eba3-4fe9-9446-e2370f4ffcfc",
   "metadata": {},
   "outputs": [],
   "source": [
    "class TodoList:\n",
    "    # Constructor\n",
    "    def __init__(self,owner):\n",
    "        self.owner = owner\n",
    "        self.task = []\n",
    "    def add_task(self,task):\n",
    "        self.task.append(task)\n",
    "\n",
    "    def complete_task(self,task):\n",
    "        if task in self.task:\n",
    "            self.task.remove(task)\n",
    "            print(f\"Task'{task}' completed\")\n",
    "\n",
    "        else:\n",
    "            print(\"The task is not found\")\n",
    "    def display_task(self):\n",
    "        print(f\"The todo task of {self.owner}:\")\n",
    "        for task in self.task:\n",
    "            print(task)"
   ]
  },
  {
   "cell_type": "code",
   "execution_count": 133,
   "id": "6c5febc3-79d4-4877-b3e5-fbac7a32812a",
   "metadata": {},
   "outputs": [],
   "source": [
    "Ani =TodoList(\"Aniket\")"
   ]
  },
  {
   "cell_type": "code",
   "execution_count": 134,
   "id": "ab06854c-5652-40aa-aee3-dcbe060e5e99",
   "metadata": {},
   "outputs": [
    {
     "data": {
      "text/plain": [
       "[]"
      ]
     },
     "execution_count": 134,
     "metadata": {},
     "output_type": "execute_result"
    }
   ],
   "source": [
    "Ani.task"
   ]
  },
  {
   "cell_type": "code",
   "execution_count": 136,
   "id": "422e5380-1105-445e-9cd5-f0d65a5f1dcc",
   "metadata": {},
   "outputs": [],
   "source": [
    "Ani.add_task(\"I have to go class at 10AM\")"
   ]
  },
  {
   "cell_type": "code",
   "execution_count": 137,
   "id": "1761f68b-21b8-4490-98c1-80286b40f35c",
   "metadata": {},
   "outputs": [
    {
     "name": "stdout",
     "output_type": "stream",
     "text": [
      "The todo task of Aniket:\n",
      "I have to go class at 10AM\n"
     ]
    }
   ],
   "source": [
    "Ani.display_task()"
   ]
  },
  {
   "cell_type": "code",
   "execution_count": 138,
   "id": "9c262d78-97d9-4329-8853-aecb39259c96",
   "metadata": {},
   "outputs": [],
   "source": [
    "Ani.add_task(\"I have to star DSA class from 4th march\")"
   ]
  },
  {
   "cell_type": "code",
   "execution_count": 139,
   "id": "224b5ceb-55aa-41a6-94e8-4a883b2d53e9",
   "metadata": {},
   "outputs": [
    {
     "name": "stdout",
     "output_type": "stream",
     "text": [
      "The todo task of Aniket:\n",
      "I have to go class at 10AM\n",
      "I have to star DSA class from 4th march\n"
     ]
    }
   ],
   "source": [
    "Ani.display_task()"
   ]
  },
  {
   "cell_type": "code",
   "execution_count": 140,
   "id": "4f4acc5b-f363-4c1b-ba65-685ce6f4fd20",
   "metadata": {},
   "outputs": [
    {
     "name": "stdout",
     "output_type": "stream",
     "text": [
      "Task'I have to go class at 10AM' completed\n"
     ]
    }
   ],
   "source": [
    "Ani.complete_task(\"I have to go class at 10AM\")"
   ]
  },
  {
   "cell_type": "code",
   "execution_count": 141,
   "id": "1fa2d42a-6ccf-4276-be14-3995f4208b09",
   "metadata": {},
   "outputs": [
    {
     "name": "stdout",
     "output_type": "stream",
     "text": [
      "The todo task of Aniket:\n",
      "I have to star DSA class from 4th march\n"
     ]
    }
   ],
   "source": [
    "Ani.display_task()"
   ]
  },
  {
   "cell_type": "code",
   "execution_count": 167,
   "id": "4c0ef685-9f08-457e-a226-f03eccc58c73",
   "metadata": {},
   "outputs": [],
   "source": [
    "class ToDolist:\n",
    "    def __init__(self,owner):\n",
    "        self.owner = owner\n",
    "        self.task = []\n",
    "\n",
    "    def add_task(self,task):\n",
    "        self.task.append(task)\n",
    "\n",
    "    def complete_task(self,task):\n",
    "        if task in self.task:\n",
    "            self.task.remove(task)\n",
    "            print(f\"Task {task} is completed\")\n",
    "        else:\n",
    "            print(f\"Task {task}is not in the list\")\n",
    "            \n",
    "    def display_task(self):\n",
    "        if self.task == []:\n",
    "            print(\"Your have no task pending\")\n",
    "        else:   \n",
    "            print(f\"The Todo task of {self.owner}\")\n",
    "        for task in self.task:\n",
    "            print(task)\n",
    "            "
   ]
  },
  {
   "cell_type": "code",
   "execution_count": 168,
   "id": "2bc97fc2-d2e1-4efc-9e3b-e85d7aad904b",
   "metadata": {},
   "outputs": [],
   "source": [
    "Aniket = ToDolist(\"Aniket\")"
   ]
  },
  {
   "cell_type": "code",
   "execution_count": 169,
   "id": "439551ae-aee6-4852-9789-a9a2a077393d",
   "metadata": {},
   "outputs": [],
   "source": [
    "Aniket.add_task(\"I have to start DSA from tommorow\")"
   ]
  },
  {
   "cell_type": "code",
   "execution_count": 170,
   "id": "f2ddf831-35f1-445c-b13d-1b913ff95438",
   "metadata": {},
   "outputs": [
    {
     "name": "stdout",
     "output_type": "stream",
     "text": [
      "The Todo task of Aniket\n",
      "I have to start DSA from tommorow\n"
     ]
    }
   ],
   "source": [
    "Aniket.display_task()"
   ]
  },
  {
   "cell_type": "code",
   "execution_count": 171,
   "id": "38e365bd-2671-480a-b064-58676b5be49e",
   "metadata": {},
   "outputs": [
    {
     "name": "stdout",
     "output_type": "stream",
     "text": [
      "Task I have to start DSA from tommorow is completed\n"
     ]
    }
   ],
   "source": [
    "Aniket.complete_task(\"I have to start DSA from tommorow\")"
   ]
  },
  {
   "cell_type": "code",
   "execution_count": 172,
   "id": "e3a4cf80-97db-4bbc-909a-87e2fbbc3f19",
   "metadata": {},
   "outputs": [
    {
     "name": "stdout",
     "output_type": "stream",
     "text": [
      "Your have no task pending\n"
     ]
    }
   ],
   "source": [
    "Aniket.display_task()"
   ]
  },
  {
   "cell_type": "code",
   "execution_count": 200,
   "id": "b4ca5a15-5f87-42c2-8006-bec075c89833",
   "metadata": {},
   "outputs": [],
   "source": [
    "class Car:\n",
    "    def __init__(self,brand,model,color):\n",
    "        self.brand = brand\n",
    "        self.model = model\n",
    "        self.color = color\n",
    "\n",
    "    def start(self):\n",
    "        print(f\"{self.brand} {self.model} {self.color} is starting\")\n",
    "    def stop(self):\n",
    "        print(f\"{self.brand}is stopping\")\n",
    "        "
   ]
  },
  {
   "cell_type": "code",
   "execution_count": 201,
   "id": "32ac2461-5b2e-47f2-9e36-8ae12741277b",
   "metadata": {},
   "outputs": [],
   "source": [
    "car1 = Car(\"BMW\",\"EV\",\"Black\")"
   ]
  },
  {
   "cell_type": "code",
   "execution_count": 202,
   "id": "a2699c20-f288-4d2e-ae0d-990a8f25e021",
   "metadata": {},
   "outputs": [
    {
     "data": {
      "text/plain": [
       "'BMW'"
      ]
     },
     "execution_count": 202,
     "metadata": {},
     "output_type": "execute_result"
    }
   ],
   "source": [
    "car1.brand"
   ]
  },
  {
   "cell_type": "code",
   "execution_count": 203,
   "id": "99a69389-5e2a-4e36-97bf-92f1dc7d304c",
   "metadata": {},
   "outputs": [
    {
     "name": "stdout",
     "output_type": "stream",
     "text": [
      "BMW EV Black is starting\n"
     ]
    }
   ],
   "source": [
    "car1.start()"
   ]
  },
  {
   "cell_type": "code",
   "execution_count": 226,
   "id": "82204194-1487-4d9a-a2de-6beb346ec1c7",
   "metadata": {},
   "outputs": [],
   "source": [
    "class Mobile:\n",
    "    def __init__(self,brand,ram,color,price):\n",
    "        self.brand = brand\n",
    "        self.ram = ram\n",
    "        self.color = color\n",
    "        self.price = price\n",
    "    def make_calls(self,number):\n",
    "        print(f\"make a call from {number} {self.brand} {self.ram} {self.color} having price of {self.price}\")\n",
    "    def play_games(self):\n",
    "        print(f\"play games from {self.brand} {self.ram} {self.color} having price of {self.price}\")\n",
    "    def send_messages(self,number,message):\n",
    "        print(f\"sending a message to {number} : {message}\")\n",
    "\n",
    "    def end_call(self,number):\n",
    "        print(f\"call is disconnected with {number}\")"
   ]
  },
  {
   "cell_type": "code",
   "execution_count": 227,
   "id": "ab53b684-20f4-466b-ba3b-88f442d67e0d",
   "metadata": {},
   "outputs": [],
   "source": [
    "mobile = Mobile(\"Samsung\",\"8GB\",\"Black\",120000)"
   ]
  },
  {
   "cell_type": "code",
   "execution_count": 220,
   "id": "e2611af8-7dbc-4b72-858d-83e011dc6c32",
   "metadata": {},
   "outputs": [
    {
     "name": "stdout",
     "output_type": "stream",
     "text": [
      "make a call from 890766555 Samsung 8GB Black having price of 120000\n"
     ]
    }
   ],
   "source": [
    "mobile.make_calls(890766555)"
   ]
  },
  {
   "cell_type": "code",
   "execution_count": 221,
   "id": "f490a84e-c77f-4025-92bd-9c48f7348e48",
   "metadata": {},
   "outputs": [
    {
     "name": "stdout",
     "output_type": "stream",
     "text": [
      "play games from Samsung 8GB Black having price of 120000\n"
     ]
    }
   ],
   "source": [
    "mobile.play_games()"
   ]
  },
  {
   "cell_type": "code",
   "execution_count": 223,
   "id": "3da83ec9-b979-40e2-b833-b8e923128786",
   "metadata": {},
   "outputs": [
    {
     "name": "stdout",
     "output_type": "stream",
     "text": [
      "send a message to 8794940958 : I love coding\n"
     ]
    }
   ],
   "source": [
    "mobile.send_messages(8794940958,\"I love coding\")"
   ]
  },
  {
   "cell_type": "code",
   "execution_count": 228,
   "id": "3441f6d0-383e-4679-a0a7-b0e0460ce30c",
   "metadata": {},
   "outputs": [
    {
     "name": "stdout",
     "output_type": "stream",
     "text": [
      "call is disconnected with 90485904330\n"
     ]
    }
   ],
   "source": [
    "mobile.end_call(90485904330)"
   ]
  },
  {
   "cell_type": "code",
   "execution_count": 230,
   "id": "a1948e2f-86aa-4e53-8001-d306f1f8b838",
   "metadata": {},
   "outputs": [],
   "source": [
    "class laptop:\n",
    "    def __init__(self,model,brand,ram):\n",
    "        self.model = model\n",
    "        self.brand = brand\n",
    "        self.ram = ram\n",
    "\n",
    "    def power_on(self):\n",
    "        print(f\"{self.brand} is switching on\")\n",
    "    def power_of(self):\n",
    "        print(f\"{self.brand} is switching off\")"
   ]
  },
  {
   "cell_type": "code",
   "execution_count": 231,
   "id": "649154bb-ba51-4350-968d-537dcca940d5",
   "metadata": {},
   "outputs": [],
   "source": [
    "lap = laptop(\"vivobook\",\"Asus\",\"16GB\")"
   ]
  },
  {
   "cell_type": "code",
   "execution_count": 232,
   "id": "656aa6ef-f6c3-43dc-acf4-d7123e0e91c8",
   "metadata": {},
   "outputs": [
    {
     "name": "stdout",
     "output_type": "stream",
     "text": [
      "Asus is switching on\n"
     ]
    }
   ],
   "source": [
    "lap.power_on()"
   ]
  },
  {
   "cell_type": "code",
   "execution_count": 233,
   "id": "704cd970-ba42-4bd8-9b79-9447efee73a7",
   "metadata": {},
   "outputs": [
    {
     "data": {
      "text/plain": [
       "['__class__',\n",
       " '__delattr__',\n",
       " '__dict__',\n",
       " '__dir__',\n",
       " '__doc__',\n",
       " '__eq__',\n",
       " '__format__',\n",
       " '__ge__',\n",
       " '__getattribute__',\n",
       " '__getstate__',\n",
       " '__gt__',\n",
       " '__hash__',\n",
       " '__init__',\n",
       " '__init_subclass__',\n",
       " '__le__',\n",
       " '__lt__',\n",
       " '__module__',\n",
       " '__ne__',\n",
       " '__new__',\n",
       " '__reduce__',\n",
       " '__reduce_ex__',\n",
       " '__repr__',\n",
       " '__setattr__',\n",
       " '__sizeof__',\n",
       " '__str__',\n",
       " '__subclasshook__',\n",
       " '__weakref__',\n",
       " 'power_of',\n",
       " 'power_on']"
      ]
     },
     "execution_count": 233,
     "metadata": {},
     "output_type": "execute_result"
    }
   ],
   "source": [
    "dir(laptop)"
   ]
  },
  {
   "cell_type": "code",
   "execution_count": 234,
   "id": "da0308ef-d49e-449c-a988-23c43a8e9767",
   "metadata": {},
   "outputs": [],
   "source": [
    "## VLC media player\n",
    "## camera\n",
    "## Games\n",
    "##Dishwasher\n",
    "##Washing machine"
   ]
  },
  {
   "cell_type": "code",
   "execution_count": null,
   "id": "0b64025f-4dd7-4058-a78d-83bc87716883",
   "metadata": {},
   "outputs": [],
   "source": []
  },
  {
   "cell_type": "code",
   "execution_count": 253,
   "id": "b916718a-5685-4ac0-9535-4d127b9b8a4f",
   "metadata": {},
   "outputs": [],
   "source": [
    "class Human:\n",
    "    def __init__(self,name):\n",
    "        self.name = name\n",
    "    def display_info(self):\n",
    "        print(f\"Name is : {self.name}\")"
   ]
  },
  {
   "cell_type": "code",
   "execution_count": 258,
   "id": "23dcca5b-8ee4-4fc7-a2d6-b8343c4618d9",
   "metadata": {},
   "outputs": [],
   "source": [
    "class Student(Human):\n",
    "    def __init__(self,name,grade):\n",
    "        super().__init__(name)\n",
    "        self.grade = grade\n",
    "    def display_info(self):\n",
    "        super().display_info()\n",
    "        print(f\"Grade is : {self.grade}\")\n",
    "        "
   ]
  },
  {
   "cell_type": "code",
   "execution_count": 259,
   "id": "9ea98e0c-f30a-4d78-a35a-ef3920253499",
   "metadata": {},
   "outputs": [],
   "source": [
    "student1 = Student(\"Aniket\",\"A+\")"
   ]
  },
  {
   "cell_type": "code",
   "execution_count": 260,
   "id": "e6872c1f-229e-46c6-a1a5-625bd8241fdf",
   "metadata": {},
   "outputs": [
    {
     "name": "stdout",
     "output_type": "stream",
     "text": [
      "Name is : Aniket\n",
      "Grade is : A+\n"
     ]
    }
   ],
   "source": [
    "student1.display_info()"
   ]
  },
  {
   "cell_type": "code",
   "execution_count": 261,
   "id": "356d8436-386c-4c28-8b83-14315160a879",
   "metadata": {},
   "outputs": [],
   "source": [
    "class Teacher(Human):\n",
    "    def __init__(self,name,subject):\n",
    "        super().__init__(name)\n",
    "        self.subject = subject\n",
    "    def display_info(self):\n",
    "        super().display_info()\n",
    "        print(f\"Subject: {self.subject}\")"
   ]
  },
  {
   "cell_type": "code",
   "execution_count": 262,
   "id": "b0319b85-f449-4f6f-8a31-373f252e724b",
   "metadata": {},
   "outputs": [],
   "source": [
    "teacher1 = Teacher(\"Vikas\",\"Mathematics\")"
   ]
  },
  {
   "cell_type": "code",
   "execution_count": 263,
   "id": "d97ab51b-6f0a-4fd2-b695-a3235fe1f70a",
   "metadata": {},
   "outputs": [
    {
     "name": "stdout",
     "output_type": "stream",
     "text": [
      "Name is : Vikas\n",
      "Subject: Mathematics\n"
     ]
    }
   ],
   "source": [
    "teacher1.display_info()"
   ]
  },
  {
   "cell_type": "code",
   "execution_count": null,
   "id": "1bbf14cf-ca87-40b1-83f0-38875e3756d2",
   "metadata": {},
   "outputs": [],
   "source": []
  }
 ],
 "metadata": {
  "kernelspec": {
   "display_name": "Python 3 (ipykernel)",
   "language": "python",
   "name": "python3"
  },
  "language_info": {
   "codemirror_mode": {
    "name": "ipython",
    "version": 3
   },
   "file_extension": ".py",
   "mimetype": "text/x-python",
   "name": "python",
   "nbconvert_exporter": "python",
   "pygments_lexer": "ipython3",
   "version": "3.11.5"
  }
 },
 "nbformat": 4,
 "nbformat_minor": 5
}
