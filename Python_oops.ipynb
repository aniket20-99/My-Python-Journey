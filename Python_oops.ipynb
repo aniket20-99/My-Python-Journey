{
 "cells": [
  {
   "cell_type": "code",
   "execution_count": 2,
   "id": "029abd25-fbb4-4774-b04a-77eeff748df0",
   "metadata": {},
   "outputs": [
    {
     "name": "stdout",
     "output_type": "stream",
     "text": [
      "ipcs\n"
     ]
    }
   ],
   "source": [
    "class my_class:\n",
    "    x=\"ipcs\"\n",
    "p1=my_class()\n",
    "print(p1.x)"
   ]
  },
  {
   "cell_type": "code",
   "execution_count": 8,
   "id": "f73f5073-4947-48ee-bd7f-23737a6bb5a2",
   "metadata": {},
   "outputs": [
    {
     "name": "stdout",
     "output_type": "stream",
     "text": [
      "Aniket\n",
      "Kumar\n"
     ]
    }
   ],
   "source": [
    "# intialization\n",
    "class data:\n",
    "    def __init__(self,first_name,last_name):\n",
    "        self.first_name = first_name\n",
    "        self.last_name = last_name\n",
    "d1 = data(\"Aniket\",\"Kumar\")\n",
    "print(d1.first_name)\n",
    "print(d1.last_name)\n"
   ]
  },
  {
   "cell_type": "code",
   "execution_count": 11,
   "id": "685a4196-bc29-48f9-babc-b5a8a7708168",
   "metadata": {},
   "outputs": [
    {
     "name": "stdout",
     "output_type": "stream",
     "text": [
      "('aniket', 'Data_scientist')\n",
      "('Ajay', 'jr_Data')\n"
     ]
    }
   ],
   "source": [
    "# String method\n",
    "\n",
    "class employee:\n",
    "    def __init__(self,emp_name,emp_designation):\n",
    "        self.emp_name = emp_name\n",
    "        self.emp_designation = emp_designation\n",
    "    def __str__(self):\n",
    "        return f\"{self.emp_name,self.emp_designation}\"\n",
    "s1 = employee(\"aniket\",\"Data_scientist\")\n",
    "s2 = employee(\"Ajay\",\"jr_Data\")\n",
    "print(s1)\n",
    "print(s2)\n"
   ]
  },
  {
   "cell_type": "code",
   "execution_count": 16,
   "id": "448e54a1-08cd-43ed-8f5e-72ead1b44225",
   "metadata": {},
   "outputs": [
    {
     "name": "stdout",
     "output_type": "stream",
     "text": [
      "name:Aniket id:1234\n",
      "name:Raha id:567\n"
     ]
    }
   ],
   "source": [
    "#encapsulation\n",
    "class student:\n",
    "    def __init__(self,name=\"Aniket\",id= 1234):\n",
    "        self.name = name\n",
    "        self.id = id\n",
    "s1 = student()\n",
    "s2 = student(\"Raha\",567)\n",
    "print(\"name:{} id:{}\".format(s1.name,s1.id))\n",
    "print(\"name:{} id:{}\".format(s2.name,s2.id))"
   ]
  },
  {
   "cell_type": "code",
   "execution_count": 17,
   "id": "7f8f9257-ef80-4267-bc8e-1f655740eccc",
   "metadata": {},
   "outputs": [
    {
     "name": "stdout",
     "output_type": "stream",
     "text": [
      "abc jkl def ijk\n"
     ]
    }
   ],
   "source": [
    "#inheritance\n",
    "class family:\n",
    "    def __init__(self,dad,mom,sis,brother):\n",
    "        self.dad = dad\n",
    "        self.mom = mom\n",
    "        self.sis = sis\n",
    "        self.brother = brother\n",
    "    def display(self):\n",
    "        print(self.dad,self.mom,self.sis,self.brother)\n",
    "f1 = family(\"abc\",\"jkl\",\"def\",\"ijk\")\n",
    "f1.display()\n"
   ]
  },
  {
   "cell_type": "code",
   "execution_count": 18,
   "id": "746eb019-df69-409e-b647-f41fee021d43",
   "metadata": {},
   "outputs": [
    {
     "name": "stdout",
     "output_type": "stream",
     "text": [
      "abd erf rht uhy\n"
     ]
    }
   ],
   "source": [
    "class family:\n",
    "    def __init__(self,dad,mom,sis,brother):\n",
    "        self.dad = dad\n",
    "        self.mom = mom\n",
    "        self.sis = sis\n",
    "        self.brother = brother\n",
    "    def display(self):\n",
    "        print(self.dad,self.mom,self.sis,self.brother)\n",
    "\n",
    "class family2(family):\n",
    "    pass\n",
    "f2 = family2(\"and\", \"erf\", \"rht\", \"uhy\")\n",
    "f2.display()"
   ]
  },
  {
   "cell_type": "code",
   "execution_count": 5,
   "id": "8a468d37-ef6b-466a-9480-4c7c6067577d",
   "metadata": {},
   "outputs": [
    {
     "name": "stdout",
     "output_type": "stream",
     "text": [
      "BMW X5 Black\n",
      "Mahindra Thar Black\n"
     ]
    }
   ],
   "source": [
    "class Vehical:\n",
    "    type = \"Car\"\n",
    "\n",
    "    def __init__(self,name,model,color):\n",
    "        self.name = name\n",
    "        self.model = model\n",
    "        self.color = color\n",
    "\n",
    "car1 = Vehical(\"BMW\",\"X5\",\"Black\")\n",
    "car2 = Vehical(\"Mahindra\",\"Thar\",\"Black\")\n",
    "\n",
    "print(car1.name,car1.model,car1.color)\n",
    "print(car2.name,car2.model,car2.color)"
   ]
  },
  {
   "cell_type": "code",
   "execution_count": 10,
   "id": "b20b57db-9e90-48d2-9861-57ce9cb7774b",
   "metadata": {},
   "outputs": [
    {
     "name": "stdout",
     "output_type": "stream",
     "text": [
      "Tata\n",
      "X5\n",
      "move\n",
      "Cagro\n",
      "Touring\n",
      "Sail\n",
      "Indigo\n",
      "Economic\n",
      "Fly\n"
     ]
    }
   ],
   "source": [
    "class Vehical:\n",
    "    def __init__(self,brand,model):\n",
    "        self.brand = brand\n",
    "        self.model=model\n",
    "    def move(self):\n",
    "        print(\"move\")\n",
    "\n",
    "class Car(Vehical):\n",
    "    pass\n",
    "\n",
    "class boat(Vehical):\n",
    "    def move(self):\n",
    "        print(\"Sail\")\n",
    "\n",
    "class aeroplane(Vehical):\n",
    "    def move(self):\n",
    "        print(\"Fly\")\n",
    "\n",
    "car1 = Car(\"Tata\",\"X5\")\n",
    "boat1 = boat(\"Cagro\",\"Touring\")\n",
    "plane = aeroplane(\"Indigo\",\"Economic\")\n",
    "\n",
    "for x in (car1,boat1,plane):\n",
    "    print(x.brand)\n",
    "    print(x.model)\n",
    "    x.move()\n",
    "    \n"
   ]
  },
  {
   "cell_type": "code",
   "execution_count": 25,
   "id": "a7d53571-669d-4684-8f48-909525303785",
   "metadata": {},
   "outputs": [
    {
     "name": "stdout",
     "output_type": "stream",
     "text": [
      "Ajay\n",
      "1st\n",
      "16\n",
      "english\n",
      "vimal\n",
      "1st\n",
      "18\n",
      "english\n",
      "vijay\n",
      "3rd\n",
      "23\n",
      "english\n",
      "Aniket\n",
      "1st\n",
      "24\n",
      "english\n",
      "Rajiv\n",
      "4th\n",
      "23\n",
      "english\n"
     ]
    }
   ],
   "source": [
    "#Polymorphism:\n",
    "class student:\n",
    "    def __init__(self,name,batch,age):#(method,parameters)\n",
    "        self.name  = name\n",
    "        self.batch = batch\n",
    "        self.age = age\n",
    "\n",
    "    def subjects(self):\n",
    "        print(\"english\")\n",
    "        \n",
    "class student1(student):\n",
    "    pass\n",
    "\n",
    "class student2(student):\n",
    "    def subjects(self):\n",
    "        print(\"hindi\")\n",
    "\n",
    "class student3(student):\n",
    "    def subject(self):\n",
    "        print(\"Science\")\n",
    "        \n",
    "class student4(student):\n",
    "    def subject(self):\n",
    "        print(\"Economics\")\n",
    "\n",
    "\n",
    "class student5(student):\n",
    "    def subject(self):\n",
    "        print(\"Mathematics\")\n",
    "\n",
    "student1 = student(\"Ajay\",\"1st\",16) # obj1 = parent class(parameters)\n",
    "student2 = student(\"vimal\",\"1st\",18)\n",
    "student3 = student(\"vijay\",\"3rd\",23)\n",
    "student4 = student(\"Aniket\",\"1st\",24)\n",
    "student5 = student(\"Rajiv\",\"4th\",23)\n",
    "\n",
    "for x in (student1,student2,student3,student4,student5): # objects\n",
    "    print(x.name) #(x.parameter)\n",
    "    print(x.batch)\n",
    "    print(x.age)\n",
    "    x.subjects()\n",
    "    \n"
   ]
  },
  {
   "cell_type": "code",
   "execution_count": 24,
   "id": "9d3436af-ebda-4a7b-9c60-7df4395a4f14",
   "metadata": {},
   "outputs": [
    {
     "name": "stdout",
     "output_type": "stream",
     "text": [
      "64\n",
      "8\n",
      "24\n",
      "[2, 4]\n",
      "mapping [2, 4, 6, 8, 10]\n",
      "120\n"
     ]
    }
   ],
   "source": [
    "# Anonymous Function in python\n",
    "def cube(x):\n",
    "    return x*x*x\n",
    "cube1 = lambda x: x*x*x \n",
    "print(cube(4))\n",
    "print(cube(2))\n",
    "\n",
    "# recursive Function\n",
    "def factorial(n):\n",
    "    if n == 0 :\n",
    "        return 1\n",
    "    else:\n",
    "        return n* factorial(n-1)\n",
    "print(factorial(4))\n",
    "\n",
    "# filter\n",
    "a = [1,2,3,4,5]\n",
    "\n",
    "even = filter(lambda x:x%2 == 0,a)\n",
    "print(list(even))\n",
    "\n",
    "#map\n",
    "b = map(lambda x:x*2, a)\n",
    "print(\"mapping\",list(b))\n",
    "\n",
    "#reduce\n",
    "from functools import reduce\n",
    "c= reduce(lambda a1,b1 : a1*b1,a)\n",
    "print(c)\n",
    "\n"
   ]
  },
  {
   "cell_type": "code",
   "execution_count": 34,
   "id": "53c8c622-25d8-43c9-8e94-9932775f5eec",
   "metadata": {},
   "outputs": [
    {
     "name": "stdout",
     "output_type": "stream",
     "text": [
      "125\n",
      "3628800\n",
      "[20, 34, 54, 24]\n",
      "mapping [40, 26, 68, 108, 48]\n",
      "11456640\n"
     ]
    }
   ],
   "source": [
    "def cube(x):\n",
    "    return x*x*x\n",
    "cube1= lambda x: x*x*x\n",
    "print(cube(5))\n",
    "\n",
    "def factorial(n):\n",
    "    if n == 0:\n",
    "        return 1\n",
    "\n",
    "    else:\n",
    "        return n * factorial(n-1)\n",
    "\n",
    "print(factorial(10))\n",
    "\n",
    "a = [20,13,34,54,24]\n",
    "even =  filter(lambda x:x%2 == 0,a)\n",
    "print(list(even))\n",
    "\n",
    "b = map(lambda x:x*2,a)\n",
    "print(\"mapping\",list(b))\n",
    "\n",
    "c= reduce(lambda a1,b1: a1*b1,a)\n",
    "print(c)"
   ]
  },
  {
   "cell_type": "code",
   "execution_count": null,
   "id": "78530233-dfd2-417c-8233-49ae9d430701",
   "metadata": {},
   "outputs": [],
   "source": []
  }
 ],
 "metadata": {
  "kernelspec": {
   "display_name": "Python 3 (ipykernel)",
   "language": "python",
   "name": "python3"
  },
  "language_info": {
   "codemirror_mode": {
    "name": "ipython",
    "version": 3
   },
   "file_extension": ".py",
   "mimetype": "text/x-python",
   "name": "python",
   "nbconvert_exporter": "python",
   "pygments_lexer": "ipython3",
   "version": "3.11.5"
  }
 },
 "nbformat": 4,
 "nbformat_minor": 5
}
