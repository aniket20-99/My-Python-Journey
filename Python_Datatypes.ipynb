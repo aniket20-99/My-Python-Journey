{
 "cells": [
  {
   "cell_type": "code",
   "execution_count": null,
   "id": "20b4d2e2-d253-4a42-a003-dccf623ee390",
   "metadata": {},
   "outputs": [],
   "source": [
    "# Find the index no of any element:- new_var = var.index(element)\n",
    "x = [22, 89, 34, 78, 23, 56, 8, 9, 76, [4, 90, 83, 56]]\n",
    "Index = x.index(34)\n",
    "print(Index)"
   ]
  },
  {
   "cell_type": "code",
   "execution_count": null,
   "id": "65d74e3d-ee55-4be6-812b-b789e3f1550a",
   "metadata": {},
   "outputs": [],
   "source": [
    "a = int(input(\"Enter the first no:-\" ))\n",
    "b= int(input(\"Enter the second no:-\" ))\n",
    "\n",
    "c= a + b\n",
    "\n",
    "print(\"Sum of the two number are:-\", c)"
   ]
  },
  {
   "cell_type": "markdown",
   "id": "5d9aecc8-ce47-4dd6-86b4-7c5ff2d30124",
   "metadata": {},
   "source": [
    "## LIST [ ]"
   ]
  },
  {
   "cell_type": "code",
   "execution_count": null,
   "id": "1cb73923-b071-4567-9855-2c9453d8c3be",
   "metadata": {},
   "outputs": [],
   "source": [
    "# Accessing Element in LIST\n",
    "\n",
    "a = [1, 2, 3, 4, 5, \"Rose\", \"Lotus\", \"Lilly\", \"Mango\", \"Apple\", \"Cherry\", \"Grapes\", \"Guava\"]\n",
    "print(a)\n",
    "print(len(a))\n",
    "print(a[0])\n",
    "print(a[-2])\n",
    "print(a[0:5])\n",
    "print(a[1:])\n",
    "print(a[:-1])\n",
    "print(a[-6:-1])\n",
    "print(a[-9:])\n",
    "print(a[6])\n",
    "\n"
   ]
  },
  {
   "cell_type": "code",
   "execution_count": null,
   "id": "2073e898-8e0a-445b-b2f5-7dc9af333051",
   "metadata": {},
   "outputs": [],
   "source": [
    "# Access element in lIST using LOOP \n",
    "a = [1,2,3,4,5, \"Rose\", \"Lotus\", \"Lilly\", \"Mango\", \"Apple\", \"Cherry\", \"Grapes\", \"Guava\"]\n",
    "for x in a:\n",
    "    print(x)\n",
    "\n"
   ]
  },
  {
   "cell_type": "code",
   "execution_count": null,
   "id": "99add205-ff42-4be7-b641-e206e5f7683b",
   "metadata": {},
   "outputs": [],
   "source": [
    "#Access element in lIST using List comprehension\n",
    "a = [1,2,3,4,5,89,74]\n",
    "b = [val**2 for val in a]\n",
    "print(b)"
   ]
  },
  {
   "cell_type": "code",
   "execution_count": null,
   "id": "c454789e-1702-48ab-9295-8ef46d5afcae",
   "metadata": {},
   "outputs": [],
   "source": [
    "a = [22,89,34,78,23,56,8,9,76]\n",
    "b = [i for i in a if i > 50]\n",
    "print(b)"
   ]
  },
  {
   "cell_type": "code",
   "execution_count": null,
   "id": "a90400de-ff77-4230-add2-e42600e19e71",
   "metadata": {},
   "outputs": [],
   "source": [
    "#Change element in LIST using index\n",
    "a = [1,2,3,4,5, \"Rose\", \"Lotus\", \"Lilly\", \"Mango\", \"Apple\", \"Cherry\", \"Grapes\", \"Guava\"]\n",
    "a[5] = \"Red Rose\"\n",
    "print(a)\n",
    "a[-1]= \"Banana\"\n",
    "print(a)\n",
    "\n",
    "for i in range(len(a)):\n",
    "    if a[i] == 5:\n",
    "       a[i]  = 89\n",
    "print(a)\n"
   ]
  },
  {
   "cell_type": "code",
   "execution_count": null,
   "id": "2c52b243-6b5c-4b7b-9f44-fdb1a9311807",
   "metadata": {},
   "outputs": [],
   "source": [
    "#Change element in LIST using slicing\n",
    "a = [1,2,3,4,5, \"Rose\", \"Lotus\", \"Lilly\", \"Mango\", \"Apple\", \"Cherry\", \"Grapes\", \"Guava\"]\n",
    "a[1:4] = [67,90]\n",
    "print(a)\n",
    "a[1:4:2] = [67,90]\n",
    "print(a)"
   ]
  },
  {
   "cell_type": "code",
   "execution_count": null,
   "id": "6b371c5f-0f89-41d7-8544-e1fa6a31cf9a",
   "metadata": {},
   "outputs": [],
   "source": [
    "a = [22,89,34,78,23,56,8,9,76]\n",
    "i =0\n",
    "while i < len(a):\n",
    "    if a[i] == 34:\n",
    "       a[i] = 45\n",
    "    i += 1\n",
    "print(a)\n"
   ]
  },
  {
   "cell_type": "code",
   "execution_count": null,
   "id": "d260115a-edc6-4022-a64a-8e4d51fa73ee",
   "metadata": {},
   "outputs": [],
   "source": [
    "#Append element in LIST[ ]\n",
    "a = [22, 89, 34, 78, 23, 56, 8, 9, 76, [4, 90, 83, 56]]\n",
    "\n",
    "#list_name.append(element)\n",
    "a.append([4,90,83,56])\n",
    "\n",
    "#list_name.remove(element)\n",
    "a.remove([4,90,83,56])\n",
    "\n",
    "#list_name.insert(index, element)\n",
    "a.insert(2,57)\n",
    "\n",
    "\n",
    "print(a)\n"
   ]
  },
  {
   "cell_type": "code",
   "execution_count": null,
   "id": "1ffeb8f1-adc7-47e5-b8eb-f1094f4ff8da",
   "metadata": {},
   "outputs": [],
   "source": [
    "# Python3 program for Insertion in a list  \n",
    "# before any element using insert() method \n",
    "x = [22, 89, 34, 78, 23, 56, 8, 9, 76, [4, 90, 83, 56]]\n",
    "print(len(a))\n",
    "\n",
    "element = 75\n",
    "before_element = 34\n",
    "\n",
    "index = x.index(before_element)\n",
    "x.insert(index,element)\n",
    "print(x)\n",
    "\n"
   ]
  },
  {
   "cell_type": "code",
   "execution_count": null,
   "id": "a964fba1-d645-4240-a772-de40522c63ca",
   "metadata": {},
   "outputs": [],
   "source": [
    "#Insert list, Tuple, Dict and set into a LIST\n",
    "x = [22, 89, 34, 78, 23, 56, 8, 9, 76, [4, 90, 83, 56]]\n",
    "y =[36,87,40,97,67]\n",
    "tup1 = (45,72,68)\n",
    "dict = {\"Name\":\"Aniket\",\"Sr_no\":102,}\n",
    "set = {34,67,64, \"Amritsar\", \"Delhi\"}\n",
    "\n",
    "       \n",
    "x.insert(6,set)\n",
    "x.insert(7,y)\n",
    "x.insert(8,tup1)\n",
    "x.insert(9,dict)\n",
    "print(x)"
   ]
  },
  {
   "cell_type": "code",
   "execution_count": null,
   "id": "0bdd7fff-f521-41da-9ab6-de48ee88c90a",
   "metadata": {},
   "outputs": [],
   "source": [
    "z = [22, 89, 34, 78, 23, 56, 8, [36, 87, 40, 97, 67], (45, 72, 68), 9, 76, [4, 90, 83, 56]]\n",
    "print(len(z))"
   ]
  },
  {
   "cell_type": "code",
   "execution_count": null,
   "id": "6084d5d7-6478-4ba6-84d6-174382747e84",
   "metadata": {},
   "outputs": [],
   "source": [
    "a = [22, 89, 34, 78, 23, 56, 8, [36, 87, 40, 97, 67], (45, 72, 68), {'Name': 'Aniket', 'Sr_no': 102}, 9, 76, [4, 90, 83, 56]]\n",
    "index = a.index({'Name': 'Aniket', 'Sr_no': 102})\n",
    "print(a[index][\"Sr_no\"])"
   ]
  },
  {
   "cell_type": "code",
   "execution_count": null,
   "id": "4f80ed53-5bbf-4198-af75-6643fd10ee81",
   "metadata": {},
   "outputs": [],
   "source": [
    "list1 = input(\"Enter the first list:- \")\n",
    "list2 = input(\"Enter the second list:- \")\n",
    "list1 = list1  + list2 \n",
    "print(list1)"
   ]
  },
  {
   "cell_type": "code",
   "execution_count": null,
   "id": "bd23f500-0d16-4920-af9c-7b30063d3e86",
   "metadata": {},
   "outputs": [],
   "source": [
    "a = [36, 87, 40, 97, 67]\n",
    "b= [22, 89, 34, 78, 23, 56]\n",
    "\n",
    "c = a + b\n",
    "print(c)"
   ]
  },
  {
   "cell_type": "code",
   "execution_count": null,
   "id": "818446c8-ff51-4d6b-b83b-8aa13b72a524",
   "metadata": {},
   "outputs": [],
   "source": [
    "my_string = 'hello' \n",
    "print(my_string[1:3])"
   ]
  },
  {
   "cell_type": "code",
   "execution_count": null,
   "id": "3d882968-1be7-455b-90e2-c1d4122dc469",
   "metadata": {},
   "outputs": [],
   "source": [
    "a = [36, 87, 40, 97, 67, 22, 89, 34, 78, 23, 56]\n",
    "import bisect\n",
    "bisect.insort(a,76)\n",
    "print(a)"
   ]
  },
  {
   "cell_type": "code",
   "execution_count": null,
   "id": "fbd29b8e-aa73-4c5d-9cc0-fd525480e722",
   "metadata": {},
   "outputs": [],
   "source": [
    "a = [36, 87, 40, 97, 67, 22, 89, 34, 78, 23, 56]\n",
    "a.sort()\n",
    "print(a)\n",
    "bisect.insort(a,74)\n",
    "print(a)"
   ]
  },
  {
   "cell_type": "code",
   "execution_count": null,
   "id": "b3baefd6-61b0-4937-acac-4c263b8027e6",
   "metadata": {},
   "outputs": [],
   "source": [
    "a=[22, 23, 34, 36, 40, 56, 67, 74, 78, 87, 89, 97]\n",
    "b= int(input())\n",
    "\n",
    "for i in range(len(a)):\n",
    "    if b < a[i]:\n",
    "        a.insert(i,b)\n",
    "        break\n",
    "else:\n",
    "    a.append(b)\n",
    "print(a)"
   ]
  },
  {
   "cell_type": "code",
   "execution_count": null,
   "id": "43d038fc-7359-4444-8698-abce1af0881a",
   "metadata": {},
   "outputs": [],
   "source": [
    "a=[22, 23, 34, 36, 40, 56, 67, 74, 78, 87, 89, 97]\n",
    "b= int(input())\n",
    "\n",
    "for i in range(len(a)):\n",
    "    if b < a[i]:      \n",
    "        a.insert(i,b)\n",
    "        break\n",
    "else:\n",
    "    a.append(b)\n",
    "\n",
    "print(a)"
   ]
  },
  {
   "cell_type": "code",
   "execution_count": null,
   "id": "a2867ac6-189c-4525-a709-e432341bf3de",
   "metadata": {},
   "outputs": [],
   "source": [
    "%pwd"
   ]
  },
  {
   "cell_type": "code",
   "execution_count": null,
   "id": "e56a4e99-2227-47c9-b632-5cdd592e4bb4",
   "metadata": {},
   "outputs": [],
   "source": [
    "a  = 0\n",
    "\n",
    "while a <= 20:\n",
    "    a += 1\n",
    "    print(a)"
   ]
  },
  {
   "cell_type": "code",
   "execution_count": null,
   "id": "c738bd4b-2762-479a-a0c8-e8fcf1f6f152",
   "metadata": {},
   "outputs": [],
   "source": [
    "a  = 0\n",
    "\n",
    "while a <= 20:\n",
    "    print(a)\n",
    "    a += 1"
   ]
  },
  {
   "cell_type": "code",
   "execution_count": null,
   "id": "5cde6fed-0dd5-462e-ac71-4dd7b3721890",
   "metadata": {},
   "outputs": [],
   "source": [
    "a  = 0\n",
    "\n",
    "while a <= 20:\n",
    "    print(a)\n",
    "    if a == 12:\n",
    "       break\n",
    "    a +=  1"
   ]
  },
  {
   "cell_type": "code",
   "execution_count": null,
   "id": "d91003e0-8c83-49dd-a533-cb8e4eae8489",
   "metadata": {},
   "outputs": [],
   "source": [
    "a  = 0\n",
    "\n",
    "while a <= 20:\n",
    "    a += 1\n",
    "    if a == 12:\n",
    "       continue\n",
    "    print(a)"
   ]
  },
  {
   "cell_type": "code",
   "execution_count": null,
   "id": "250d21ba-2680-4969-927c-9b7ad1e35fa7",
   "metadata": {},
   "outputs": [],
   "source": [
    "a  = 0\n",
    "\n",
    "while a <= 30:\n",
    "    a += 1\n",
    "    if a == 12:\n",
    "       continue\n",
    "    if a == 18:\n",
    "       break \n",
    "    print(a)"
   ]
  },
  {
   "cell_type": "code",
   "execution_count": null,
   "id": "5ddcdd04-699b-4397-938d-3fdbf10f8281",
   "metadata": {},
   "outputs": [],
   "source": [
    "x = ['India', 'Russia', 'China', 'USA', 'Ukraine', 'Australia']\n",
    "\n",
    "for i in x:\n",
    "    if i == \"USA\":\n",
    "       continue\n",
    "    if i == \"Ukraine\":\n",
    "        break\n",
    "            \n",
    "    print(i)"
   ]
  },
  {
   "cell_type": "code",
   "execution_count": null,
   "id": "b28f3db0-9dae-493d-9eb1-06723a62c05c",
   "metadata": {},
   "outputs": [],
   "source": [
    "n = int(input(\"enter n value: \"))\n",
    "\n",
    "for i in range(n):\n",
    "    for j in range(i+1):\n",
    "        print(\"*\", end=\" \")\n",
    "    print()"
   ]
  },
  {
   "cell_type": "code",
   "execution_count": null,
   "id": "22d7c06a-61d2-4d51-ad80-1b1c0523e141",
   "metadata": {},
   "outputs": [],
   "source": [
    "rows = 10\n",
    "\n",
    "for i in range(rows):\n",
    "    for j in range(i+1):\n",
    "        print(\"*\",end= \" \")\n",
    "    print()"
   ]
  },
  {
   "cell_type": "code",
   "execution_count": 15,
   "id": "c9eacefd-0b38-4ea7-b568-9ad7621aab9a",
   "metadata": {},
   "outputs": [
    {
     "name": "stdin",
     "output_type": "stream",
     "text": [
      "Enter your Value:  14\n"
     ]
    },
    {
     "name": "stdout",
     "output_type": "stream",
     "text": [
      "15\n",
      "16\n",
      "17\n",
      "18\n",
      "19\n",
      "20\n",
      "21\n",
      "22\n",
      "23\n",
      "24\n",
      "25\n",
      "26\n",
      "27\n",
      "28\n",
      "29\n",
      "30\n",
      "31\n",
      "32\n",
      "33\n",
      "34\n",
      "35\n",
      "36\n",
      "37\n",
      "38\n",
      "39\n",
      "40\n",
      "41\n",
      "42\n",
      "43\n",
      "44\n",
      "45\n",
      "46\n",
      "47\n",
      "48\n",
      "49\n",
      "50\n",
      "51\n"
     ]
    }
   ],
   "source": [
    "a = int(input(\"Enter your Value: \"))\n",
    "\n",
    "while a <= 50:\n",
    "    a += 1\n",
    "    if a == 10:\n",
    "       continue \n",
    "    print(a)"
   ]
  },
  {
   "cell_type": "code",
   "execution_count": 12,
   "id": "f2002660-94d2-4192-bbcd-6532fd8798e6",
   "metadata": {},
   "outputs": [
    {
     "name": "stdout",
     "output_type": "stream",
     "text": [
      "        * \n",
      "      * * * \n",
      "    * * * * * \n",
      "  * * * * * * * \n",
      "* * * * * * * * * \n"
     ]
    }
   ],
   "source": [
    "n = 5\n",
    "\n",
    "for i in range(n):\n",
    "    for j in range(n-i-1):\n",
    "        print(' ', end=\" \")\n",
    "    for k in range(2*i+1):\n",
    "        print('*',end=\" \")\n",
    "    print()"
   ]
  },
  {
   "cell_type": "code",
   "execution_count": null,
   "id": "e87646a3-f5da-4a21-a4bf-40c71e0a5c63",
   "metadata": {},
   "outputs": [],
   "source": [
    "#creating LIST"
   ]
  },
  {
   "cell_type": "code",
   "execution_count": 2,
   "id": "6679252a-0955-4911-ae8c-03450d314385",
   "metadata": {},
   "outputs": [
    {
     "name": "stdout",
     "output_type": "stream",
     "text": [
      "[1, 2, 3, 4, 5, 6] ['Alice', 'john', 'Abhi']\n"
     ]
    }
   ],
   "source": [
    "a = [1,2,3,4,5,6]\n",
    "my_list = [\"Alice\",\"john\",\"Abhi\"]\n",
    "print(a,my_list)"
   ]
  },
  {
   "cell_type": "code",
   "execution_count": 4,
   "id": "429491b1-fcf4-49fd-b3ae-24fad44838b7",
   "metadata": {},
   "outputs": [
    {
     "name": "stdout",
     "output_type": "stream",
     "text": [
      "['Alice', 'john', 'Abhi', 45, 56, 23]\n"
     ]
    },
    {
     "data": {
      "text/plain": [
       "6"
      ]
     },
     "execution_count": 4,
     "metadata": {},
     "output_type": "execute_result"
    }
   ],
   "source": [
    "my_list = [\"Alice\",\"john\",\"Abhi\",45,56,23]\n",
    "print(my_list)\n",
    "len(my_list)"
   ]
  },
  {
   "cell_type": "code",
   "execution_count": 8,
   "id": "98805c34-c16d-483a-8fd8-8b688a559e76",
   "metadata": {},
   "outputs": [
    {
     "data": {
      "text/plain": [
       "[23, 56, 45, 'Abhi', 'john', 'Alice']"
      ]
     },
     "execution_count": 8,
     "metadata": {},
     "output_type": "execute_result"
    }
   ],
   "source": [
    "#Indexing/Slicing\n",
    "my_list = [\"Alice\",\"john\",\"Abhi\",45,56,23]\n",
    "my_list[0]\n",
    "my_list [1:]\n",
    "my_list[::-1]"
   ]
  },
  {
   "cell_type": "code",
   "execution_count": 9,
   "id": "bf7bc3fa-b34b-4d41-a838-8c1b9bf31b5d",
   "metadata": {},
   "outputs": [
    {
     "data": {
      "text/plain": [
       "['Alice', 'john', 'Abhi', 45, 56, 23, 'Suraj']"
      ]
     },
     "execution_count": 9,
     "metadata": {},
     "output_type": "execute_result"
    }
   ],
   "source": [
    "my_list + [\"Suraj\"]"
   ]
  },
  {
   "cell_type": "code",
   "execution_count": 10,
   "id": "79acad60-d7fc-492c-8dba-ddf799622381",
   "metadata": {},
   "outputs": [
    {
     "data": {
      "text/plain": [
       "['Alice', 'john', 'Abhi', 45, 56, 23, 'Sohan']"
      ]
     },
     "execution_count": 10,
     "metadata": {},
     "output_type": "execute_result"
    }
   ],
   "source": [
    "#Reassining\n",
    "my_list = my_list + [\"Sohan\"]\n",
    "my_list"
   ]
  },
  {
   "cell_type": "code",
   "execution_count": 13,
   "id": "76775d0a-08b7-408d-8350-172cee8054ec",
   "metadata": {},
   "outputs": [
    {
     "data": {
      "text/plain": [
       "['Alice',\n",
       " 'john',\n",
       " 'Abhi',\n",
       " 45,\n",
       " 56,\n",
       " 23,\n",
       " 'Sohan',\n",
       " 'Alice',\n",
       " 'john',\n",
       " 'Abhi',\n",
       " 45,\n",
       " 56,\n",
       " 23,\n",
       " 'Sohan']"
      ]
     },
     "execution_count": 13,
     "metadata": {},
     "output_type": "execute_result"
    }
   ],
   "source": [
    "my_list * 2"
   ]
  },
  {
   "cell_type": "code",
   "execution_count": 16,
   "id": "a6aa7eaf-2712-4865-8d88-cea111a8f305",
   "metadata": {},
   "outputs": [
    {
     "name": "stdout",
     "output_type": "stream",
     "text": [
      "['Alice', 'john', 'Abhi', 45, 56, 23, 'Sohan', 'Name', 'Name', 'Name']\n"
     ]
    }
   ],
   "source": [
    "my_list.append(\"Name\")\n",
    "print(my_list)"
   ]
  },
  {
   "cell_type": "code",
   "execution_count": 18,
   "id": "f5e550ca-a23c-4701-bd65-151abdcf53d4",
   "metadata": {},
   "outputs": [
    {
     "data": {
      "text/plain": [
       "'Name'"
      ]
     },
     "execution_count": 18,
     "metadata": {},
     "output_type": "execute_result"
    }
   ],
   "source": [
    "my_list.pop()\n"
   ]
  },
  {
   "cell_type": "code",
   "execution_count": 19,
   "id": "3a64a437-0f44-4da5-a130-aa3c4c9b6241",
   "metadata": {},
   "outputs": [],
   "source": [
    "my_list.remove(\"Name\")"
   ]
  },
  {
   "cell_type": "code",
   "execution_count": 20,
   "id": "6c3df681-589d-4c9b-a557-6f90d2b9faf3",
   "metadata": {},
   "outputs": [
    {
     "data": {
      "text/plain": [
       "['Alice', 'john', 'Abhi', 45, 56, 23, 'Sohan', 'Name']"
      ]
     },
     "execution_count": 20,
     "metadata": {},
     "output_type": "execute_result"
    }
   ],
   "source": [
    "my_list"
   ]
  },
  {
   "cell_type": "code",
   "execution_count": 21,
   "id": "f2cdceb8-5679-4971-9613-06c04b963164",
   "metadata": {},
   "outputs": [
    {
     "name": "stdout",
     "output_type": "stream",
     "text": [
      "['Alice', 'john', 'Abhi', 45, 56, 23, 'Sohan']\n"
     ]
    }
   ],
   "source": [
    "my_list.pop()\n",
    "print(my_list)"
   ]
  },
  {
   "cell_type": "code",
   "execution_count": 22,
   "id": "4c8d4236-31bf-4655-a01f-992ce1181b74",
   "metadata": {},
   "outputs": [
    {
     "data": {
      "text/plain": [
       "'Sohan'"
      ]
     },
     "execution_count": 22,
     "metadata": {},
     "output_type": "execute_result"
    }
   ],
   "source": [
    "my_list.pop(6)"
   ]
  },
  {
   "cell_type": "code",
   "execution_count": 23,
   "id": "54cde8e4-c7be-487a-861a-c693c521df64",
   "metadata": {},
   "outputs": [
    {
     "data": {
      "text/plain": [
       "['Alice', 'john', 'Abhi', 45, 56, 23]"
      ]
     },
     "execution_count": 23,
     "metadata": {},
     "output_type": "execute_result"
    }
   ],
   "source": [
    "my_list"
   ]
  },
  {
   "cell_type": "code",
   "execution_count": 25,
   "id": "f89475b7-6355-4ea8-9352-18330f791f49",
   "metadata": {},
   "outputs": [
    {
     "name": "stdout",
     "output_type": "stream",
     "text": [
      "[7, 6, 5, 4, 3, 2, 1]\n"
     ]
    }
   ],
   "source": [
    "new_list = [1,2,3,4,5,6,7]\n",
    "new_list.reverse()\n",
    "print(new_list)"
   ]
  },
  {
   "cell_type": "code",
   "execution_count": 26,
   "id": "5fce73f5-d9ce-44f6-9c86-61f341500c60",
   "metadata": {},
   "outputs": [],
   "source": [
    "new_list.sort()"
   ]
  },
  {
   "cell_type": "code",
   "execution_count": 27,
   "id": "9922b4ff-1862-4e73-a532-2b680ed4e404",
   "metadata": {},
   "outputs": [
    {
     "data": {
      "text/plain": [
       "[1, 2, 3, 4, 5, 6, 7]"
      ]
     },
     "execution_count": 27,
     "metadata": {},
     "output_type": "execute_result"
    }
   ],
   "source": [
    "new_list"
   ]
  },
  {
   "cell_type": "markdown",
   "id": "f87d24f5-aad1-4b2e-a3a9-7743e0ddad38",
   "metadata": {},
   "source": [
    "# Nesting list"
   ]
  },
  {
   "cell_type": "code",
   "execution_count": 28,
   "id": "21cab9cb-37ce-4ea9-bd86-a68d2ce5cb9f",
   "metadata": {},
   "outputs": [],
   "source": [
    "\n",
    "list1 = [1,2,3,4]\n",
    "list2 = [5,6,7,8]\n",
    "list3 = [9,10,11,12]\n",
    "\n",
    "matrix = [list1,list2,list3]"
   ]
  },
  {
   "cell_type": "code",
   "execution_count": 74,
   "id": "d34adf75-9d37-4099-babf-10e40a019f1a",
   "metadata": {},
   "outputs": [
    {
     "data": {
      "text/plain": [
       "[[1, 2, 3, 4], [5, 6, 7, 8], [9, 10, 11, 12]]"
      ]
     },
     "execution_count": 74,
     "metadata": {},
     "output_type": "execute_result"
    }
   ],
   "source": [
    "matrix"
   ]
  },
  {
   "cell_type": "code",
   "execution_count": 32,
   "id": "25399b45-ff9c-42b3-a91c-fc2d6f38ad0b",
   "metadata": {},
   "outputs": [
    {
     "data": {
      "text/plain": [
       "2"
      ]
     },
     "execution_count": 32,
     "metadata": {},
     "output_type": "execute_result"
    }
   ],
   "source": [
    "matrix[0][1]"
   ]
  },
  {
   "cell_type": "markdown",
   "id": "bb04f8aa-4e28-4f5f-9cb3-f101ee16e65b",
   "metadata": {},
   "source": [
    "# Dictionaries"
   ]
  },
  {
   "cell_type": "code",
   "execution_count": 34,
   "id": "5edf35aa-83ec-4aeb-ab5b-fbcf96d54d98",
   "metadata": {},
   "outputs": [
    {
     "data": {
      "text/plain": [
       "2025"
      ]
     },
     "execution_count": 34,
     "metadata": {},
     "output_type": "execute_result"
    }
   ],
   "source": [
    "my_dict = {\"Name\":\"Akash\",\"Branch\":\"CSE\",\"Year\":2025}\n",
    "my_dict[\"Year\"]"
   ]
  },
  {
   "cell_type": "code",
   "execution_count": 37,
   "id": "c64cbbea-c922-435d-8ae4-e03ee72f868f",
   "metadata": {},
   "outputs": [
    {
     "data": {
      "text/plain": [
       "12"
      ]
     },
     "execution_count": 37,
     "metadata": {},
     "output_type": "execute_result"
    }
   ],
   "source": [
    "dict1 = {\"Name\":\"Akash\",\"Branch\":\"CSE\",\"Year\":2025,\"Score\":[12,45,109,55]}\n",
    "dict1[\"Score\"][0]"
   ]
  },
  {
   "cell_type": "code",
   "execution_count": 45,
   "id": "80a8f99e-073c-48c0-9262-1ef417a7d8d6",
   "metadata": {},
   "outputs": [
    {
     "name": "stdout",
     "output_type": "stream",
     "text": [
      "{'Name': 'Akash', 'Branch': 'CSE', 'Year': 2025, 'Score': [12, 45, 109, 55]}\n"
     ]
    }
   ],
   "source": [
    "dict1[\"Name\"].upper()\n",
    "dict1[\"Branch\"].lower()\n",
    "print(dict1)"
   ]
  },
  {
   "cell_type": "code",
   "execution_count": 49,
   "id": "7e200287-3716-498f-82a4-bc007bab1701",
   "metadata": {},
   "outputs": [
    {
     "data": {
      "text/plain": [
       "2000"
      ]
     },
     "execution_count": 49,
     "metadata": {},
     "output_type": "execute_result"
    }
   ],
   "source": [
    "dict1[\"Year\"] = dict1[\"Year\"] - 25\n",
    "dict1[\"Year\"]"
   ]
  },
  {
   "cell_type": "code",
   "execution_count": 55,
   "id": "cac9ee3c-fc5a-41cc-b1e9-bbe2534acde1",
   "metadata": {},
   "outputs": [
    {
     "name": "stdout",
     "output_type": "stream",
     "text": [
      "{'Name': 'Akash', 'Branch': 'CSE', 'Year': 2081, 'Score': [12, 45, 109, 55]}\n"
     ]
    }
   ],
   "source": [
    "dict1[\"Year\"] += 25\n",
    "dict1[\"Year\"] \n",
    "print(dict1)"
   ]
  },
  {
   "cell_type": "code",
   "execution_count": 56,
   "id": "12c3d694-2560-4c56-afbe-d76a998500d3",
   "metadata": {},
   "outputs": [
    {
     "data": {
      "text/plain": [
       "{'Car': 10, 'T.V': 100, 'Fans': 200, 'Cooler': 120}"
      ]
     },
     "execution_count": 56,
     "metadata": {},
     "output_type": "execute_result"
    }
   ],
   "source": [
    "# Create a dictionary\n",
    "dict2 = {\"Car\":10,\"T.V\":100,\"Fans\":200,\"Cooler\":120}\n",
    "dict2"
   ]
  },
  {
   "cell_type": "code",
   "execution_count": 57,
   "id": "03b4af52-15a6-42d3-a27c-abace0807240",
   "metadata": {},
   "outputs": [
    {
     "data": {
      "text/plain": [
       "{'Car': 10, 'T.V': 100, 'Fans': 200, 'Cooler': 120, 'Radio': 150}"
      ]
     },
     "execution_count": 57,
     "metadata": {},
     "output_type": "execute_result"
    }
   ],
   "source": [
    "dict2[\"Radio\"] = 150\n",
    "dict2"
   ]
  },
  {
   "cell_type": "code",
   "execution_count": 58,
   "id": "fea73f2c-78ed-4197-ac9e-4446c3dee9ac",
   "metadata": {},
   "outputs": [
    {
     "data": {
      "text/plain": [
       "{'Car': 1000, 'T.V': 100, 'Fans': 200, 'Cooler': 120, 'Radio': 150}"
      ]
     },
     "execution_count": 58,
     "metadata": {},
     "output_type": "execute_result"
    }
   ],
   "source": [
    "dict2[\"Car\"] = 1000\n",
    "dict2"
   ]
  },
  {
   "cell_type": "markdown",
   "id": "f97076ab-69b1-4f22-b6fe-0b6999d88f99",
   "metadata": {},
   "source": [
    "# Nesting Dictionaries"
   ]
  },
  {
   "cell_type": "code",
   "execution_count": 59,
   "id": "ccabf4ca-5a60-4b51-bdcc-06a8dbab0154",
   "metadata": {},
   "outputs": [
    {
     "data": {
      "text/plain": [
       "{'Key1': {'Nestkey': {'subnestkey': 'value'}}}"
      ]
     },
     "execution_count": 59,
     "metadata": {},
     "output_type": "execute_result"
    }
   ],
   "source": [
    "dict1 = {\"Key1\":{\"Nestkey\":{\"subnestkey\":\"value\"}}}\n",
    "dict1"
   ]
  },
  {
   "cell_type": "code",
   "execution_count": 69,
   "id": "2ef45369-a25b-49cf-a597-c5c47bc096a1",
   "metadata": {},
   "outputs": [
    {
     "data": {
      "text/plain": [
       "{'Key1': {'Nestkey': {'subnestkey': 'value'}}}"
      ]
     },
     "execution_count": 69,
     "metadata": {},
     "output_type": "execute_result"
    }
   ],
   "source": [
    "dict1[\"Key1\"][\"Nestkey\"][\"subnestkey\"][0:5].upper()\n",
    "dict1"
   ]
  },
  {
   "cell_type": "code",
   "execution_count": 75,
   "id": "727653f8-e049-4cb7-a62e-805469567434",
   "metadata": {},
   "outputs": [
    {
     "data": {
      "text/plain": [
       "<function dict.keys>"
      ]
     },
     "execution_count": 75,
     "metadata": {},
     "output_type": "execute_result"
    }
   ],
   "source": [
    "dict1 = {'Car': 1000, 'T.V': 100, 'Fans': 200, 'Cooler': 120, 'Radio': 150}\n"
   ]
  },
  {
   "cell_type": "code",
   "execution_count": 76,
   "id": "5a153896-d5ab-4217-b2d2-5bb88833d543",
   "metadata": {},
   "outputs": [
    {
     "data": {
      "text/plain": [
       "dict_keys(['Car', 'T.V', 'Fans', 'Cooler', 'Radio'])"
      ]
     },
     "execution_count": 76,
     "metadata": {},
     "output_type": "execute_result"
    }
   ],
   "source": [
    "dict1.keys()"
   ]
  },
  {
   "cell_type": "code",
   "execution_count": 77,
   "id": "7e77b43b-052c-4f75-9c1d-87cb9949c8e9",
   "metadata": {},
   "outputs": [
    {
     "data": {
      "text/plain": [
       "dict_values([1000, 100, 200, 120, 150])"
      ]
     },
     "execution_count": 77,
     "metadata": {},
     "output_type": "execute_result"
    }
   ],
   "source": [
    "dict1.values()"
   ]
  },
  {
   "cell_type": "code",
   "execution_count": 78,
   "id": "9405e16a-8f8f-4fcb-b729-2f7eb5b56068",
   "metadata": {},
   "outputs": [
    {
     "data": {
      "text/plain": [
       "dict_items([('Car', 1000), ('T.V', 100), ('Fans', 200), ('Cooler', 120), ('Radio', 150)])"
      ]
     },
     "execution_count": 78,
     "metadata": {},
     "output_type": "execute_result"
    }
   ],
   "source": [
    "dict1.items()"
   ]
  },
  {
   "cell_type": "code",
   "execution_count": 86,
   "id": "3551383a-8948-416d-9590-d1db0464a4ed",
   "metadata": {},
   "outputs": [
    {
     "name": "stdout",
     "output_type": "stream",
     "text": [
      "['CAR', 'T.V', 'FANS', 'COOLER', 'RADIO']\n"
     ]
    }
   ],
   "source": [
    "lst  = ['Car', 'T.V', 'Fans', 'Cooler', 'Radio']\n",
    "\n",
    "lst1 = [x.upper() for x in lst]\n",
    "print(lst1)"
   ]
  },
  {
   "cell_type": "code",
   "execution_count": 87,
   "id": "ba368ffb-b408-4493-b7b0-2de7d8adf11d",
   "metadata": {},
   "outputs": [
    {
     "data": {
      "text/plain": [
       "5"
      ]
     },
     "execution_count": 87,
     "metadata": {},
     "output_type": "execute_result"
    }
   ],
   "source": [
    "tup1 = (23,34,56,47,89)\n",
    "len(tup1)"
   ]
  },
  {
   "cell_type": "code",
   "execution_count": 88,
   "id": "5a0f7359-fcbc-4590-8bf9-dfa5f521a5f0",
   "metadata": {},
   "outputs": [
    {
     "data": {
      "text/plain": [
       "23"
      ]
     },
     "execution_count": 88,
     "metadata": {},
     "output_type": "execute_result"
    }
   ],
   "source": [
    "tup1[0]"
   ]
  },
  {
   "cell_type": "code",
   "execution_count": 93,
   "id": "45f6fd71-5ed5-4f87-92a5-06007dd324f2",
   "metadata": {},
   "outputs": [
    {
     "data": {
      "text/plain": [
       "(23, 34, 56, 47)"
      ]
     },
     "execution_count": 93,
     "metadata": {},
     "output_type": "execute_result"
    }
   ],
   "source": [
    "tup1[0:4]"
   ]
  },
  {
   "cell_type": "code",
   "execution_count": 94,
   "id": "eae38b2d-d75c-4d74-b1bb-08a4efc4681a",
   "metadata": {},
   "outputs": [
    {
     "data": {
      "text/plain": [
       "(89, 47, 56, 34, 23)"
      ]
     },
     "execution_count": 94,
     "metadata": {},
     "output_type": "execute_result"
    }
   ],
   "source": [
    "tup1[::-1]"
   ]
  },
  {
   "cell_type": "code",
   "execution_count": null,
   "id": "ce8669e6-e27b-4e84-88a5-f3dcc81e2bfd",
   "metadata": {},
   "outputs": [],
   "source": []
  },
  {
   "cell_type": "code",
   "execution_count": 99,
   "id": "32e523dc-788a-4651-9bbb-4a6c1e4be599",
   "metadata": {},
   "outputs": [
    {
     "data": {
      "text/plain": [
       "0"
      ]
     },
     "execution_count": 99,
     "metadata": {},
     "output_type": "execute_result"
    }
   ],
   "source": [
    "tup1.index(23)"
   ]
  },
  {
   "cell_type": "code",
   "execution_count": 173,
   "id": "7920217f-2e34-412e-b3ab-619be2b7fa25",
   "metadata": {},
   "outputs": [
    {
     "ename": "TypeError",
     "evalue": "'tuple' object does not support item assignment",
     "output_type": "error",
     "traceback": [
      "\u001b[1;31m---------------------------------------------------------------------------\u001b[0m",
      "\u001b[1;31mTypeError\u001b[0m                                 Traceback (most recent call last)",
      "Cell \u001b[1;32mIn[173], line 1\u001b[0m\n\u001b[1;32m----> 1\u001b[0m tup1[\u001b[38;5;241m0\u001b[39m] \u001b[38;5;241m=\u001b[39m \u001b[38;5;124m\"\u001b[39m\u001b[38;5;124mAbhi\u001b[39m\u001b[38;5;124m\"\u001b[39m\n",
      "\u001b[1;31mTypeError\u001b[0m: 'tuple' object does not support item assignment"
     ]
    }
   ],
   "source": [
    "tup1[0] = \"Abhi"
   ]
  },
  {
   "cell_type": "code",
   "execution_count": 101,
   "id": "bb86691d-abc0-4e03-9344-8a954096db72",
   "metadata": {},
   "outputs": [
    {
     "ename": "AttributeError",
     "evalue": "'tuple' object has no attribute 'append'",
     "output_type": "error",
     "traceback": [
      "\u001b[1;31m---------------------------------------------------------------------------\u001b[0m",
      "\u001b[1;31mAttributeError\u001b[0m                            Traceback (most recent call last)",
      "Cell \u001b[1;32mIn[101], line 1\u001b[0m\n\u001b[1;32m----> 1\u001b[0m tup1\u001b[38;5;241m.\u001b[39mappend(\u001b[38;5;124m\"\u001b[39m\u001b[38;5;124mAbhi\u001b[39m\u001b[38;5;124m\"\u001b[39m)\n",
      "\u001b[1;31mAttributeError\u001b[0m: 'tuple' object has no attribute 'append'"
     ]
    }
   ],
   "source": [
    "tup1.append(\"Abhi\""
   ]
  },
  {
   "cell_type": "markdown",
   "id": "e6993099-ede2-4219-9ec4-8726b6f6fe32",
   "metadata": {},
   "source": [
    "# Sets"
   ]
  },
  {
   "cell_type": "code",
   "execution_count": 102,
   "id": "e8eb38b5-b423-4317-92f9-2e7d3e6fe80a",
   "metadata": {},
   "outputs": [],
   "source": [
    "a = set()"
   ]
  },
  {
   "cell_type": "code",
   "execution_count": 116,
   "id": "c2b5bc93-7e60-426f-85d1-fea3d9514242",
   "metadata": {},
   "outputs": [],
   "source": [
    "a.add(4)"
   ]
  },
  {
   "cell_type": "code",
   "execution_count": 117,
   "id": "1ea19872-3870-4f95-a5a8-d0f6bb62ede1",
   "metadata": {},
   "outputs": [
    {
     "data": {
      "text/plain": [
       "{1, 2, 3, 4}"
      ]
     },
     "execution_count": 117,
     "metadata": {},
     "output_type": "execute_result"
    }
   ],
   "source": [
    "a"
   ]
  },
  {
   "cell_type": "code",
   "execution_count": 118,
   "id": "6feb1547-a1cb-4371-9cb7-ac46798676db",
   "metadata": {},
   "outputs": [],
   "source": [
    "list1 = [1,2,3,4,4,5,6,7,8,8,9,]\n"
   ]
  },
  {
   "cell_type": "code",
   "execution_count": 119,
   "id": "3008c877-0860-41b8-aec4-38ba5e714810",
   "metadata": {},
   "outputs": [
    {
     "data": {
      "text/plain": [
       "{1, 2, 3, 4, 5, 6, 7, 8, 9}"
      ]
     },
     "execution_count": 119,
     "metadata": {},
     "output_type": "execute_result"
    }
   ],
   "source": [
    "set(list1)"
   ]
  },
  {
   "cell_type": "code",
   "execution_count": 120,
   "id": "d351b368-4015-41ea-9614-601b06325f40",
   "metadata": {},
   "outputs": [
    {
     "data": {
      "text/plain": [
       "False"
      ]
     },
     "execution_count": 120,
     "metadata": {},
     "output_type": "execute_result"
    }
   ],
   "source": [
    "1 > 2"
   ]
  },
  {
   "cell_type": "code",
   "execution_count": 123,
   "id": "1e5a0104-0eb8-4f1b-952d-5463bbaa5e8f",
   "metadata": {},
   "outputs": [
    {
     "name": "stdout",
     "output_type": "stream",
     "text": [
      "It was true\n"
     ]
    }
   ],
   "source": [
    "if True:\n",
    "    print(\"It was true\")"
   ]
  },
  {
   "cell_type": "code",
   "execution_count": 127,
   "id": "29ea824f-10b6-479c-9ae3-21f2a8370c01",
   "metadata": {},
   "outputs": [
    {
     "name": "stdout",
     "output_type": "stream",
     "text": [
      "I will be printed in any case where x is not true\n"
     ]
    }
   ],
   "source": [
    "x = False\n",
    "\n",
    "if x:\n",
    "    print(\"x was true!\")\n",
    "\n",
    "else:\n",
    "    print(\"I will be printed in any case where x is not true\")"
   ]
  },
  {
   "cell_type": "code",
   "execution_count": 131,
   "id": "22da14c6-a178-42e3-908e-5e8768ae1947",
   "metadata": {},
   "outputs": [
    {
     "name": "stdin",
     "output_type": "stream",
     "text": [
      "Enter your input Bank\n"
     ]
    },
    {
     "name": "stdout",
     "output_type": "stream",
     "text": [
      "Welcome to the Bank\n"
     ]
    }
   ],
   "source": [
    "loc = input(\"Enter your input\") #assignment input\n",
    "\n",
    "if loc == \"Auto shop\": # evaluater\n",
    "    print(\"Welcome to the Auto shop!\")\n",
    "\n",
    "elif loc == \"Bank\":\n",
    "    print(\"Welcome to the Bank\")\n",
    "\n",
    "else:\n",
    "    print(\"Where are you\")"
   ]
  },
  {
   "cell_type": "code",
   "execution_count": 140,
   "id": "ba142180-ffda-4017-b0f3-c67c3c08b1fe",
   "metadata": {},
   "outputs": [
    {
     "name": "stdout",
     "output_type": "stream",
     "text": [
      "2\n",
      "4\n",
      "4\n",
      "6\n",
      "8\n",
      "8\n"
     ]
    }
   ],
   "source": [
    "list1 = [1,2,3,4,4,5,6,7,8,8,9,]\n",
    "for n in list1:\n",
    "    if n % 2 == 0:\n",
    "        print(n)"
   ]
  },
  {
   "cell_type": "code",
   "execution_count": 145,
   "id": "280ff673-6a9f-4164-b5c6-d579d6572468",
   "metadata": {},
   "outputs": [
    {
     "name": "stdout",
     "output_type": "stream",
     "text": [
      "1\n",
      "even number\n",
      "3\n",
      "even number\n",
      "even number\n",
      "5\n",
      "even number\n",
      "7\n",
      "even number\n",
      "even number\n",
      "9\n"
     ]
    }
   ],
   "source": [
    "list2 = [1,2,3,4,4,5,6,7,8,8,9]\n",
    "\n",
    "for num in list2:\n",
    "    if num % 2 != 0:\n",
    "        print(num)\n",
    "\n",
    "    else:\n",
    "        print(\"even number\")"
   ]
  },
  {
   "cell_type": "code",
   "execution_count": 150,
   "id": "93466997-2871-41ea-b6dd-bd7f26fe9ca6",
   "metadata": {},
   "outputs": [
    {
     "name": "stdout",
     "output_type": "stream",
     "text": [
      "35\n"
     ]
    }
   ],
   "source": [
    "list3 = [2,4,5,7,8,9]\n",
    "lst_sum = 0\n",
    "\n",
    "for n in list3:\n",
    "    lst_sum += n\n",
    "\n",
    "print(lst_sum)"
   ]
  },
  {
   "cell_type": "code",
   "execution_count": 151,
   "id": "2a6e3ef6-4270-41dd-a639-ef4f67f1b8e9",
   "metadata": {},
   "outputs": [
    {
     "data": {
      "text/plain": [
       "35"
      ]
     },
     "execution_count": 151,
     "metadata": {},
     "output_type": "execute_result"
    }
   ],
   "source": [
    "list4 = sum(list3)\n",
    "list4"
   ]
  },
  {
   "cell_type": "code",
   "execution_count": 153,
   "id": "93992be9-1ede-46b1-ba16-c97d98bbeef9",
   "metadata": {},
   "outputs": [
    {
     "name": "stdout",
     "output_type": "stream",
     "text": [
      "o\n",
      "b\n",
      "j\n",
      "e\n",
      "c\n",
      "t\n",
      " \n",
      "o\n",
      "r\n",
      "i\n",
      "e\n",
      "n\n",
      "t\n",
      "e\n",
      "d\n",
      " \n"
     ]
    }
   ],
   "source": [
    "for letter in \"object oriented \":\n",
    "    print(letter)"
   ]
  },
  {
   "cell_type": "code",
   "execution_count": 154,
   "id": "cb0a4cf1-8e7c-49d5-8bc1-83840cfa9081",
   "metadata": {},
   "outputs": [
    {
     "name": "stdout",
     "output_type": "stream",
     "text": [
      "1\n",
      "2\n",
      "3\n",
      "4\n",
      "5\n"
     ]
    }
   ],
   "source": [
    "tup = (1,2,3,4,5)\n",
    "for t in tup:\n",
    "    print(t)"
   ]
  },
  {
   "cell_type": "code",
   "execution_count": 155,
   "id": "facb2b2b-a281-41b1-9143-11e0a9110121",
   "metadata": {},
   "outputs": [
    {
     "name": "stdout",
     "output_type": "stream",
     "text": [
      "(2, 4)\n",
      "(5, 7)\n",
      "(8, 9)\n"
     ]
    }
   ],
   "source": [
    "list2 = [(2,4),(5,7),(8,9)]\n",
    "for n in list2:\n",
    "    print(n)"
   ]
  },
  {
   "cell_type": "code",
   "execution_count": 160,
   "id": "644846d5-a14c-4752-bf9a-62cf9087c0e1",
   "metadata": {},
   "outputs": [
    {
     "name": "stdout",
     "output_type": "stream",
     "text": [
      "2 4\n",
      "5 7\n",
      "8 9\n"
     ]
    }
   ],
   "source": [
    "list2 = [(2,4),(5,7),(8,9)]\n",
    "for (n1,n2) in list2:\n",
    "    print(n1,n2)"
   ]
  },
  {
   "cell_type": "code",
   "execution_count": 166,
   "id": "fbe78c98-644f-4b66-a065-028144a8ebed",
   "metadata": {},
   "outputs": [
    {
     "name": "stdout",
     "output_type": "stream",
     "text": [
      "Car\n",
      "T.V\n",
      "Fans\n",
      "Cooler\n"
     ]
    }
   ],
   "source": [
    "dic = {\"Car\":10,\"T.V\":100,\"Fans\":200,\"Cooler\":120}\n",
    "\n",
    "for d in dic:\n",
    "    print(d)"
   ]
  },
  {
   "cell_type": "code",
   "execution_count": 164,
   "id": "0576882d-59a0-436e-9e90-9a845406c210",
   "metadata": {},
   "outputs": [
    {
     "data": {
      "text/plain": [
       "dict_items([('Car', 10), ('T.V', 100), ('Fans', 200), ('Cooler', 120)])"
      ]
     },
     "execution_count": 164,
     "metadata": {},
     "output_type": "execute_result"
    }
   ],
   "source": [
    "dic.items()"
   ]
  },
  {
   "cell_type": "code",
   "execution_count": 172,
   "id": "4b29b6fc-de1b-43cd-80bf-1867188cb02b",
   "metadata": {},
   "outputs": [
    {
     "name": "stdout",
     "output_type": "stream",
     "text": [
      "Car : 10\n",
      "T.V : 100\n",
      "Fans : 200\n",
      "Cooler : 120\n"
     ]
    }
   ],
   "source": [
    "dic = {\"Car\":10,\"T.V\":100,\"Fans\":200,\"Cooler\":120}\n",
    "\n",
    "for d,e in dic.items():\n",
    "    print(d,\":\",e)"
   ]
  },
  {
   "cell_type": "code",
   "execution_count": null,
   "id": "f50c9fbc-06dc-4be6-ba5d-610a7ccc98cc",
   "metadata": {},
   "outputs": [],
   "source": []
  },
  {
   "cell_type": "code",
   "execution_count": null,
   "id": "f325f8e4-2442-433b-a4a8-aec192191944",
   "metadata": {},
   "outputs": [],
   "source": []
  },
  {
   "cell_type": "code",
   "execution_count": null,
   "id": "7ce14ba7-e317-4acc-806d-929708c68ce3",
   "metadata": {},
   "outputs": [],
   "source": []
  },
  {
   "cell_type": "code",
   "execution_count": null,
   "id": "46de5851-a0ff-46ed-b145-3875c0b4717e",
   "metadata": {},
   "outputs": [],
   "source": []
  },
  {
   "cell_type": "code",
   "execution_count": null,
   "id": "9bcb68f2-323d-4778-9bbc-73973e0c41c6",
   "metadata": {},
   "outputs": [],
   "source": []
  },
  {
   "cell_type": "code",
   "execution_count": null,
   "id": "97fedf96-f29e-4c94-907b-9e321124425b",
   "metadata": {},
   "outputs": [],
   "source": []
  },
  {
   "cell_type": "code",
   "execution_count": null,
   "id": "0f021a73-1ad3-4605-9a35-172ac8c09546",
   "metadata": {},
   "outputs": [],
   "source": []
  },
  {
   "cell_type": "code",
   "execution_count": null,
   "id": "37132bd1-8f66-4bcc-9a3f-49bbe6cce635",
   "metadata": {},
   "outputs": [],
   "source": []
  },
  {
   "cell_type": "code",
   "execution_count": null,
   "id": "b42409a3-c5a3-4d57-bd05-cbb5ce57760a",
   "metadata": {},
   "outputs": [],
   "source": []
  },
  {
   "cell_type": "code",
   "execution_count": null,
   "id": "e09ebc46-afee-4f57-a487-7fbadaee265f",
   "metadata": {},
   "outputs": [],
   "source": []
  },
  {
   "cell_type": "code",
   "execution_count": null,
   "id": "7a82300e-3884-4dc2-b5fa-c3370aa0e94c",
   "metadata": {},
   "outputs": [],
   "source": []
  },
  {
   "cell_type": "code",
   "execution_count": null,
   "id": "e6980e50-d851-4a83-bfb6-b663ead4d96d",
   "metadata": {},
   "outputs": [],
   "source": []
  }
 ],
 "metadata": {
  "kernelspec": {
   "display_name": "Python 3 (ipykernel)",
   "language": "python",
   "name": "python3"
  },
  "language_info": {
   "codemirror_mode": {
    "name": "ipython",
    "version": 3
   },
   "file_extension": ".py",
   "mimetype": "text/x-python",
   "name": "python",
   "nbconvert_exporter": "python",
   "pygments_lexer": "ipython3",
   "version": "3.11.5"
  }
 },
 "nbformat": 4,
 "nbformat_minor": 5
}
