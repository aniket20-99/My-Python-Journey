{
 "cells": [
  {
   "cell_type": "markdown",
   "id": "fc1311a2-1655-48cc-9222-a569df184d8d",
   "metadata": {},
   "source": [
    "# Strings"
   ]
  },
  {
   "cell_type": "code",
   "execution_count": 46,
   "id": "d9f149d5-4aa7-4367-aab4-f7f2b487b365",
   "metadata": {},
   "outputs": [
    {
     "name": "stdout",
     "output_type": "stream",
     "text": [
      "i am a datascientist i am datascientist\n"
     ]
    }
   ],
   "source": [
    "# Creating a string\n",
    "a = 'i am a datascientist'\n",
    "b = \"i am datascientist\"\n",
    "\n",
    "print(a,b)"
   ]
  },
  {
   "cell_type": "code",
   "execution_count": 98,
   "id": "44a0b425-410e-4bec-8ddc-4b274995d16c",
   "metadata": {},
   "outputs": [
    {
     "name": "stdout",
     "output_type": "stream",
     "text": [
      "A string is a sequence of characters.\n",
      "Python treats anything inside quotes as a string.\n",
      "\n",
      "This includes letters, numbers, and symbols.\n",
      " \n",
      "Python has no character data type so single character is a string of length 1.\n"
     ]
    }
   ],
   "source": [
    "#Multiple line string\n",
    "str1 = \"\"\"A string is a sequence of characters.\\nPython treats anything inside quotes as a string.\\n\n",
    "This includes letters, numbers, and symbols.\\n \n",
    "Python has no character data type so single character is a string of length 1.\"\"\"\n",
    "print(str1)"
   ]
  },
  {
   "cell_type": "code",
   "execution_count": 61,
   "id": "c36388ea-30d3-41dc-b998-ed97e881993c",
   "metadata": {},
   "outputs": [
    {
     "name": "stdout",
     "output_type": "stream",
     "text": [
      "m\n",
      "i am a \n",
      " am a datascientist\n",
      "scientis\n",
      "tsitneicsatad a ma i\n"
     ]
    }
   ],
   "source": [
    "# Accessing character in string\n",
    "s = 'i am a datascientist'\n",
    "print(s[3])\n",
    "print(s[:7])\n",
    "print(s[1:])\n",
    "print(s[-9:-1])\n",
    "print(s[::-1])"
   ]
  },
  {
   "cell_type": "markdown",
   "id": "78400dc5-2e17-4af2-b9f5-ccaecb5fce5d",
   "metadata": {},
   "source": [
    "## String_Method"
   ]
  },
  {
   "cell_type": "markdown",
   "id": "2aa4738c-5bfc-4e72-9865-488f2dbd74ab",
   "metadata": {},
   "source": [
    "| Function Name  | Description |\n",
    "|---------------|-------------|\n",
    "| `capitalize()`  | Converts the first character of the string to a capital (uppercase) letter |\n",
    "| `casefold()`    | Implements caseless string matching |\n",
    "| `center()`      | Pads the string with the specified character |\n",
    "| `count()`       | Returns the number of occurrences of a substring in the string |\n",
    "| `encode()`      | Encodes strings with the specified encoded scheme |\n",
    "| `endswith()`    | Returns `True` if a string ends with the given suffix |\n",
    "| `expandtabs()`  | Specifies the amount of space to be substituted with the `\\t` symbol in the string |\n",
    "| `find()`        | Returns the lowest index of the substring if it is found |\n",
    "| `format()`      | Formats the string for printing it to console |\n",
    "| `format_map()`  | Formats specified values in a string using a dictionary |\n",
    "| `index()`       | Returns the position of the first occurrence of a substring in a string |\n",
    "| `isalnum()`     | Checks whether all the characters in a given string are alphanumeric or not |\n",
    "| `isalpha()`     | Returns `True` if all characters in the string are alphabets |\n",
    "| `isdecimal()`   | Returns `True` if all characters in a string are decimal |\n",
    "| `isdigit()`     | Returns `True` if all characters in the string are digits |\n",
    "| `isidentifier()` | Checks whether a string is a valid identifier or not |\n",
    "| `islower()`     | Checks if all characters in the string are lowercase |\n",
    "| `isnumeric()`   | Returns `True` if all characters in the string are numeric characters |\n",
    "| `isprintable()` | Returns `True` if all characters in the string are printable or the string is empty |\n",
    "| `isspace()`     | Returns `True` if all characters in the string are whitespace characters |\n",
    "| `istitle()`     | Returns `True` if the string is a title-cased string |\n",
    "| `isupper()`     | Checks if all characters in the string are uppercase |\n",
    "| `join()`        | Returns a concatenated string |\n",
    "| `ljust()`       | Left aligns the string according to the width specified |\n",
    "| `lower()`       | Converts all uppercase characters in a string into lowercase |\n",
    "| `lstrip()`      | Returns the string with leading characters removed |\n",
    "| `maketrans()`   | Returns a translation table |\n",
    "| `partition()`   | Splits the string at the first occurrence of the separator |\n",
    "| `replace()`     | Replaces all occurrences of a substring with another substring |\n",
    "| `rfind()`       | Returns the highest index of the substring |\n",
    "| `rindex()`      | Returns the highest index of the substring inside the string |\n",
    "| `rjust()`       | Right aligns the string according to the width specified |\n",
    "| `rpartition()`  | Splits the given string into three parts |\n",
    "| `rsplit()`      | Splits the string from the right by the specified separator |\n",
    "| `rstrip()`      | Removes trailing characters |\n",
    "| `splitlines()`  | Splits the lines at line boundaries |\n",
    "| `startswith()`  | Returns `True` if a string starts with the given prefix |\n",
    "| `strip()`       | Returns the string with both leading and trailing characters removed |\n",
    "| `swapcase()`    | Converts all uppercase characters to lowercase and vice versa |\n",
    "| `title()`       | Converts string to title case |\n",
    "| `translate()`   | Modifies string according to given translation mappings |\n",
    "| `upper()`       | Converts all lowercase characters in a string into uppercase |\n",
    "| `zfill()`       | Returns a copy of the string with `0` characters padded to the left side of the string |"
   ]
  },
  {
   "cell_type": "code",
   "execution_count": 84,
   "id": "87b85ffa-d418-4f1e-b0a0-04fb074246bd",
   "metadata": {},
   "outputs": [
    {
     "name": "stdout",
     "output_type": "stream",
     "text": [
      "A string is a sequence of characters\n",
      "A STRING IS A SEQUENCE OF CHARACTERS\n",
      "a string is a sequence of characters\n",
      "A String Is A Sequence Of Characters\n",
      "15\n",
      "a string is a sequence of characters\n",
      "A string is a sequence of Characters\n",
      "1\n",
      "b'A string is a sequence of Characters'\n",
      "False\n",
      "A string is a sequence of Characters\n",
      "A string is a sequence of Characters\n",
      "A string is a sequence of Characters\n",
      "23\n",
      "False\n",
      "False\n",
      "False\n",
      "False\n",
      "False\n",
      "True\n",
      "False\n",
      "False\n",
      "False\n",
      "A string is a sequence of Characters\n"
     ]
    }
   ],
   "source": [
    "# String_methods\n",
    "s = \"A string is a sequence of Characters\"\n",
    "print(s.capitalize())\n",
    "print(s.upper())\n",
    "print(s.lower())\n",
    "print(s.title())\n",
    "print(s.find(\"e\"))\n",
    "print(s.casefold())\n",
    "print(s.center(0))\n",
    "print(s.count(\"A\"))\n",
    "print(s.encode())\n",
    "print(s.endswith(a))\n",
    "print(s.expandtabs())\n",
    "print(s.format())\n",
    "print(s.format_map(\"string\"))\n",
    "print(s.index(\"o\"))\n",
    "print(s.isalpha())\n",
    "print(s.isdecimal())\n",
    "print(s.isidentifier())\n",
    "print(s.isdigit())\n",
    "print(s.isnumeric())\n",
    "print(s.isprintable())\n",
    "print(s.isupper())\n",
    "print(s.islower())\n",
    "print(s.istitle())\n",
    "print(s.ljust(2))"
   ]
  },
  {
   "cell_type": "code",
   "execution_count": 95,
   "id": "abc141d9-b2ee-48c7-9bad-1353986fd07a",
   "metadata": {},
   "outputs": [
    {
     "name": "stdout",
     "output_type": "stream",
     "text": [
      "bhmitabh\n"
     ]
    }
   ],
   "source": [
    "# String immutabilty\n",
    "name = \"Amitabh\"\n",
    "name = \"b\" + \"h\" + name[1:]\n",
    "print(name)"
   ]
  },
  {
   "cell_type": "code",
   "execution_count": 20,
   "id": "e0959870-11f0-4034-a441-f4c6d0722b01",
   "metadata": {},
   "outputs": [
    {
     "name": "stdout",
     "output_type": "stream",
     "text": [
      "Name:Amitabh, Age:58 \n"
     ]
    }
   ],
   "source": [
    "#String_Formating using f-string\n",
    "name = \"Amitabh\"\n",
    "age = 58\n",
    "print(f\"Name:{name}, Age:{age} \")"
   ]
  },
  {
   "cell_type": "code",
   "execution_count": 21,
   "id": "adfc7fb8-db42-411b-be3b-081122fc47c7",
   "metadata": {},
   "outputs": [
    {
     "name": "stdout",
     "output_type": "stream",
     "text": [
      "My name is Abhishek and i am 28 year old.\n"
     ]
    }
   ],
   "source": [
    "#String_Formating using format()\n",
    "s = \"My name is {} and i am {} year old.\".format(\"Abhishek\",28)\n",
    "print(s)"
   ]
  },
  {
   "cell_type": "code",
   "execution_count": 11,
   "id": "6feba503-4a19-41ea-9906-9e70aaffe19e",
   "metadata": {},
   "outputs": [
    {
     "name": "stdout",
     "output_type": "stream",
     "text": [
      "Anmol Saxena\n"
     ]
    }
   ],
   "source": [
    "# Concetenation\n",
    "\n",
    "s1 = \"Anmol\"\n",
    "s2 = \"Saxena\"\n",
    "s3 = s1 + \" \" + s2\n",
    "print(s3)"
   ]
  },
  {
   "cell_type": "code",
   "execution_count": 7,
   "id": "eb0881a2-eda0-4b13-b5e6-08ab07dbba38",
   "metadata": {},
   "outputs": [
    {
     "name": "stdout",
     "output_type": "stream",
     "text": [
      "4\n"
     ]
    }
   ],
   "source": [
    "a = \"aniketkumar\"\n",
    "print(a.find(\"e\"))"
   ]
  },
  {
   "cell_type": "code",
   "execution_count": 9,
   "id": "9de06eb5-df67-4e7f-a6de-bc02af91b8d2",
   "metadata": {},
   "outputs": [
    {
     "name": "stdout",
     "output_type": "stream",
     "text": [
      "True\n",
      "False\n",
      "False\n",
      "True\n"
     ]
    }
   ],
   "source": [
    "# in membership\n",
    "s = \"Mynameisaniket\"\n",
    "print(\"name\" in s)\n",
    "print(\"age\" in s)\n",
    "print(\"name\" not in s)\n",
    "print(\"abc\" not in s)"
   ]
  },
  {
   "cell_type": "code",
   "execution_count": 97,
   "id": "a9773b87-79c3-4dca-a0d2-5b75ba9c2be6",
   "metadata": {},
   "outputs": [
    {
     "name": "stdout",
     "output_type": "stream",
     "text": [
      "I\n",
      "Love\tcricket\n"
     ]
    }
   ],
   "source": [
    "# escape character\n",
    "escape  = \"I\\nLove\\tcricket\"\n",
    "print(escape)"
   ]
  },
  {
   "cell_type": "code",
   "execution_count": 106,
   "id": "cdb776c2-58f6-47e9-a909-346a13dc1a88",
   "metadata": {},
   "outputs": [
    {
     "name": "stdin",
     "output_type": "stream",
     "text": [
      "Enter your word aaaaa\n"
     ]
    },
    {
     "name": "stdout",
     "output_type": "stream",
     "text": [
      "Palindrome\n",
      "Symmetrical\n"
     ]
    }
   ],
   "source": [
    "# Python program to check whether the string is Symmetrical or Palindrome\n",
    "def palindrome(s):\n",
    "    return s == s[::-1]\n",
    "def symmetrical(s):\n",
    "    length = len(s)\n",
    "    mid = length//2\n",
    "    if length % 2 == 0:\n",
    "        return s[:mid] == s[mid:]\n",
    "    else:\n",
    "        return s[:mid] == s[mid+1:]\n",
    "\n",
    "s = input(\"Enter your word\")\n",
    "if palindrome(s):\n",
    "    print(\"Palindrome\")\n",
    "else:\n",
    "    print(\"Not Palindrome\")\n",
    "    \n",
    "if symmetrical(s):\n",
    "    print(\"Symmetrical\")\n",
    "else:\n",
    "    print(\"Not Symmetrical\")\n",
    "\n",
    "\n"
   ]
  },
  {
   "cell_type": "code",
   "execution_count": 107,
   "id": "c76e25bd-2983-41fc-ae76-5521aba0ebf2",
   "metadata": {},
   "outputs": [
    {
     "name": "stdout",
     "output_type": "stream",
     "text": [
      "Testing string: khokho\n",
      "Symmetrical\n",
      "Not Palindrome\n",
      "Testing string: amaama\n",
      "Symmetrical\n",
      "Palindrome\n",
      "Testing string: malayalam\n",
      "Not Symmetrical\n",
      "Palindrome\n"
     ]
    }
   ],
   "source": [
    "def palindrome(s):\n",
    "    return s == s[::-1]\n",
    "\n",
    "def symmetrical(s):\n",
    "    length = len(s)\n",
    "    mid = length // 2\n",
    "    if length % 2 == 0:\n",
    "        return s[:mid] == s[mid:]\n",
    "    else:\n",
    "        return s[:mid] == s[mid+1:]\n",
    "\n",
    "str = [\"khokho\", \"amaama\", \"malayalam\"]\n",
    "for s in str:\n",
    "    print(f\"Testing string: {s}\")\n",
    "    \n",
    "    if symmetrical(s):\n",
    "        print(\"Symmetrical\")\n",
    "    else:\n",
    "        print(\"Not Symmetrical\")\n",
    "\n",
    "    if palindrome(s):\n",
    "        print(\"Palindrome\")\n",
    "    else:\n",
    "        print(\"Not Palindrome\")"
   ]
  },
  {
   "cell_type": "markdown",
   "id": "28c1b87f-2814-4b57-a803-5d57dff2480c",
   "metadata": {},
   "source": [
    "###  Find length in string"
   ]
  },
  {
   "cell_type": "code",
   "execution_count": 115,
   "id": "42ba936c-79f0-4fc8-9b9f-e9d5fa0235f3",
   "metadata": {},
   "outputs": [
    {
     "name": "stdout",
     "output_type": "stream",
     "text": [
      "6\n"
     ]
    }
   ],
   "source": [
    "# using len()\n",
    "a = \"aniket\"\n",
    "print(len(a))\n",
    "\n"
   ]
  },
  {
   "cell_type": "code",
   "execution_count": 112,
   "id": "a41e2221-bd63-48df-8761-4774a9cf2d3b",
   "metadata": {},
   "outputs": [
    {
     "name": "stdout",
     "output_type": "stream",
     "text": [
      "6\n"
     ]
    }
   ],
   "source": [
    "# using for loop\n",
    "a = \"aniket\"\n",
    "count = 0\n",
    "for i in a:\n",
    "    count += 1\n",
    "print(count)"
   ]
  },
  {
   "cell_type": "code",
   "execution_count": 117,
   "id": "9c8d11a6-331d-4a18-af1c-bfa1ad5008a4",
   "metadata": {},
   "outputs": [
    {
     "name": "stdout",
     "output_type": "stream",
     "text": [
      "6\n"
     ]
    }
   ],
   "source": [
    "#Using str.count()\n",
    "a = \"aniket\"\n",
    "length = a.count(\"\") - 1\n",
    "print(length)"
   ]
  },
  {
   "cell_type": "code",
   "execution_count": 122,
   "id": "0d3fc235-e485-41d3-bccb-8aa8f69d2042",
   "metadata": {},
   "outputs": [
    {
     "name": "stdout",
     "output_type": "stream",
     "text": [
      "6\n"
     ]
    }
   ],
   "source": [
    "a = \"aniket\"\n",
    "#Initialize a variable 'cnt' \n",
    "#to keep track of the string'cnt length\n",
    "cnt = 0\n",
    "\n",
    "for i, a in enumerate(a):\n",
    "    # Increment 'cnt' by 1 for each character in the string\n",
    "    cnt += 1\n",
    "print(cnt)"
   ]
  },
  {
   "cell_type": "code",
   "execution_count": 8,
   "id": "997906fc-df07-41a4-a1f2-915648d6508b",
   "metadata": {},
   "outputs": [
    {
     "name": "stdout",
     "output_type": "stream",
     "text": [
      "0\n",
      "0\n",
      "0\n"
     ]
    }
   ],
   "source": [
    "cnt = 0\n",
    "while (cnt < 3) :\n",
    "    cnt = cnt + 1\n",
    "    print()"
   ]
  },
  {
   "cell_type": "code",
   "execution_count": 6,
   "id": "8f86ac55-a147-45a9-9c53-a07c006e26b8",
   "metadata": {},
   "outputs": [
    {
     "name": "stdout",
     "output_type": "stream",
     "text": [
      "Hello Geek\n",
      "Hello Geek\n",
      "Hello Geek\n"
     ]
    }
   ],
   "source": [
    "cnt = 0\n",
    "while (cnt < 3):\n",
    "    cnt = cnt + 1\n",
    "    print(\"Hello Geek\")"
   ]
  },
  {
   "cell_type": "code",
   "execution_count": null,
   "id": "0f2b1003-7de6-4683-b97a-a493dfb1db42",
   "metadata": {},
   "outputs": [],
   "source": []
  }
 ],
 "metadata": {
  "kernelspec": {
   "display_name": "Python 3 (ipykernel)",
   "language": "python",
   "name": "python3"
  },
  "language_info": {
   "codemirror_mode": {
    "name": "ipython",
    "version": 3
   },
   "file_extension": ".py",
   "mimetype": "text/x-python",
   "name": "python",
   "nbconvert_exporter": "python",
   "pygments_lexer": "ipython3",
   "version": "3.11.5"
  }
 },
 "nbformat": 4,
 "nbformat_minor": 5
}
