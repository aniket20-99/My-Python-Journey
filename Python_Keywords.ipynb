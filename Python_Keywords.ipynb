{
 "cells": [
  {
   "cell_type": "code",
   "execution_count": 3,
   "id": "38a44a0a-8dc8-450f-bc56-51e0cbc42ecf",
   "metadata": {},
   "outputs": [
    {
     "name": "stdout",
     "output_type": "stream",
     "text": [
      "The list of keywords is: \n",
      "['False', 'None', 'True', 'and', 'as', 'assert', 'async', 'await', 'break', 'class', 'continue', 'def', 'del', 'elif', 'else', 'except', 'finally', 'for', 'from', 'global', 'if', 'import', 'in', 'is', 'lambda', 'nonlocal', 'not', 'or', 'pass', 'raise', 'return', 'try', 'while', 'with', 'yield']\n"
     ]
    }
   ],
   "source": [
    "import keyword\n",
    "print(\"The list of keywords is: \")\n",
    "print(keyword.kwlist)"
   ]
  },
  {
   "cell_type": "markdown",
   "id": "aa0bf4ed-7183-4c5e-949d-c60b01137e51",
   "metadata": {},
   "source": [
    "# Category of keywords\n",
    "| Category                |          Keywords                                    |\n",
    "|-------------------------|------------------------------------------------------|\n",
    "| Value Keywords          | True, False, None                                   |\n",
    "| Operator Keywords       | and, or, not, in, is                               |\n",
    "| Control Flow Keywords   | if, else, elif, for, while, break, continue, pass, try, except, finally, raise, assert |\n",
    "| Function and Class      | def, return, lambda, yield, class                  |\n",
    "| Context Management      | with, as                                           |\n",
    "| Import and Module       | import, from, as                                   |\n",
    "| Scope and Namespace     | global, nonlocal                                   |\n",
    "| Async Programming       | async, await                                      |nc, await"
   ]
  },
  {
   "cell_type": "code",
   "execution_count": 6,
   "id": "70c670e7-93a1-49fb-8180-9821385b2a0e",
   "metadata": {},
   "outputs": [
    {
     "name": "stdout",
     "output_type": "stream",
     "text": [
      "True\n",
      "True\n",
      "3\n",
      "1\n",
      "False\n",
      "False\n"
     ]
    }
   ],
   "source": [
    "# Value keywords (True, False, None)\n",
    "\n",
    "print(True == 1)\n",
    "print(False == 0)\n",
    "\n",
    "print(True + True + True)\n",
    "print(True + False + False)\n",
    "\n",
    "print(None == 0)\n",
    "print(None == [])\n"
   ]
  },
  {
   "cell_type": "code",
   "execution_count": 9,
   "id": "12dfdb76-acac-4ccd-9802-5a4496f87ce7",
   "metadata": {},
   "outputs": [
    {
     "name": "stdout",
     "output_type": "stream",
     "text": [
      "-8\n"
     ]
    }
   ],
   "source": [
    "# Operator keywords (and,or, not, in, is)\n",
    "\n",
    "a = 7\n",
    "print(~a)\n"
   ]
  },
  {
   "cell_type": "code",
   "execution_count": null,
   "id": "42cc1727-5766-42c0-8785-7390f5e37be4",
   "metadata": {},
   "outputs": [],
   "source": []
  }
 ],
 "metadata": {
  "kernelspec": {
   "display_name": "Python 3 (ipykernel)",
   "language": "python",
   "name": "python3"
  },
  "language_info": {
   "codemirror_mode": {
    "name": "ipython",
    "version": 3
   },
   "file_extension": ".py",
   "mimetype": "text/x-python",
   "name": "python",
   "nbconvert_exporter": "python",
   "pygments_lexer": "ipython3",
   "version": "3.11.5"
  }
 },
 "nbformat": 4,
 "nbformat_minor": 5
}
