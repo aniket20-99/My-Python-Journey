{
 "cells": [
  {
   "cell_type": "code",
   "execution_count": 2,
   "id": "e8b1ceda-9091-4739-a23f-4dbec6dfaa4c",
   "metadata": {},
   "outputs": [
    {
     "name": "stdout",
     "output_type": "stream",
     "text": [
      "2\n",
      "3\n",
      "4\n",
      "5\n",
      "6\n",
      "7\n",
      "8\n",
      "9\n",
      "10\n",
      "11\n"
     ]
    }
   ],
   "source": [
    "# FOR Loop # range(start,stop,step)\n",
    "for i in range(10):\n",
    "    i += 2\n",
    "    print(i)\n",
    "\n"
   ]
  },
  {
   "cell_type": "code",
   "execution_count": 3,
   "id": "ec50ba69-8396-41c0-879d-312f97dfbe69",
   "metadata": {},
   "outputs": [
    {
     "name": "stdout",
     "output_type": "stream",
     "text": [
      "1\n",
      "3\n",
      "5\n",
      "7\n",
      "9\n",
      "11\n",
      "13\n",
      "15\n",
      "17\n"
     ]
    }
   ],
   "source": [
    "#range(start,stop,step)\n",
    "for i in range(0,17,2):\n",
    "    i += 1    \n",
    "    print(i)\n"
   ]
  },
  {
   "cell_type": "code",
   "execution_count": 4,
   "id": "b924bb10-784f-424e-9542-a662530065e9",
   "metadata": {
    "scrolled": true
   },
   "outputs": [
    {
     "name": "stdout",
     "output_type": "stream",
     "text": [
      "Apple\n",
      "Cherry\n",
      "banana\n",
      "Guava\n"
     ]
    }
   ],
   "source": [
    "# For loop on the list\n",
    "fruits =[\"Apple\", \"Cherry\", \"banana\", \"Guava\"]\n",
    "\n",
    "for fruit in fruits:\n",
    "    \n",
    "    print(fruit)"
   ]
  },
  {
   "cell_type": "code",
   "execution_count": null,
   "id": "c2ff0b4c-1528-4b7c-aeb0-031115fb678b",
   "metadata": {},
   "outputs": [],
   "source": [
    "fruits =[\"Apple\", \"Cherry\", \"banana\", \"Guava\"]\n",
    "\n",
    "for index in range(len(fruits)):\n",
    "    print(fruits[index])"
   ]
  },
  {
   "cell_type": "code",
   "execution_count": null,
   "id": "2c1ddf38-d9df-44d4-93c2-f94e297c7caf",
   "metadata": {},
   "outputs": [],
   "source": [
    "rows = 5\n",
    "\n",
    "for i in range(rows):\n",
    "    for j in range(i+1):\n",
    "        print(\"*\",end= \" \")\n",
    "    print()\n",
    "    "
   ]
  },
  {
   "cell_type": "code",
   "execution_count": null,
   "id": "986fe03d-ff3b-4e38-ad0a-b7aa1a00eb9c",
   "metadata": {},
   "outputs": [],
   "source": [
    "rows = 5\n",
    "\n",
    "for i in range(rows):\n",
    "    for j in range(i+1):\n",
    "        print(\"*\",end= \" \")\n",
    "          \n",
    "        \n",
    "        \n",
    "    print()"
   ]
  },
  {
   "cell_type": "code",
   "execution_count": null,
   "id": "3e114a8d-6ade-4e31-a00b-75fd99729d07",
   "metadata": {},
   "outputs": [],
   "source": [
    "n = int(input(\"Enter n value:- \"))\n",
    "for i in range(n):\n",
    "    print(\"*\")\n",
    "\n"
   ]
  },
  {
   "cell_type": "code",
   "execution_count": null,
   "id": "498e51ff-af07-4cbe-9ece-5fbfd50cf479",
   "metadata": {},
   "outputs": [],
   "source": [
    "text = input(\"enter your text (or quit to exit):\")\n",
    "\n",
    "while text!= \"quit\":\n",
    "    text=input(\"enter your text (or quit to exit):\")\n",
    "    print(\"Your entered text:\", text)\n",
    "\n",
    "\n"
   ]
  },
  {
   "cell_type": "code",
   "execution_count": null,
   "id": "f953d643-8d8b-4529-83b7-01488be01d22",
   "metadata": {},
   "outputs": [],
   "source": [
    "name = \"Aniket\"\n",
    "\n",
    "for i in name:\n",
    "    print(i)\n",
    "    if(i==\"n\"):\n",
    "        print(\"Special character\")\n",
    "    "
   ]
  },
  {
   "cell_type": "code",
   "execution_count": 5,
   "id": "804ea8bb-d253-403c-b9bf-94cf0c2149ec",
   "metadata": {},
   "outputs": [
    {
     "name": "stdout",
     "output_type": "stream",
     "text": [
      "Apple\n",
      "A\n",
      "p\n",
      "p\n",
      "l\n",
      "e\n",
      "Cherry\n",
      "C\n",
      "h\n",
      "e\n",
      "r\n",
      "r\n",
      "y\n",
      "banana\n",
      "b\n",
      "a\n",
      "n\n",
      "a\n",
      "n\n",
      "a\n",
      "Guava\n",
      "G\n",
      "u\n",
      "a\n",
      "v\n",
      "a\n"
     ]
    }
   ],
   "source": [
    "fruits =[\"Apple\", \"Cherry\", \"banana\", \"Guava\"]\n",
    "\n",
    "for fruit in fruits:\n",
    "    print(fruit)\n",
    "    for i in fruit:\n",
    "        print(i)"
   ]
  },
  {
   "cell_type": "code",
   "execution_count": null,
   "id": "3a4b146a-9f69-46f0-bfac-e9755a726281",
   "metadata": {},
   "outputs": [],
   "source": [
    "for i in range(10):\n",
    "    print(i +1)\n"
   ]
  },
  {
   "cell_type": "code",
   "execution_count": null,
   "id": "b672350d-5ce1-4d29-a108-73c476684e69",
   "metadata": {},
   "outputs": [],
   "source": [
    "for i in range(0,20):\n",
    "    print(i)"
   ]
  },
  {
   "cell_type": "code",
   "execution_count": null,
   "id": "741f0843-76ea-42c4-8f9e-ba6d6da0ac1c",
   "metadata": {},
   "outputs": [],
   "source": [
    "n = \"aniket\\n\"\n",
    "\n",
    "print(n*1)"
   ]
  },
  {
   "cell_type": "code",
   "execution_count": null,
   "id": "aab2e325-07f2-4d6a-88ca-43a1d1435db2",
   "metadata": {},
   "outputs": [],
   "source": [
    "i = 0\n",
    "\n",
    "while i <= 3:\n",
    "    print(i)\n",
    "    i = i+1\n",
    "print((\"Done\"))\n",
    "    "
   ]
  },
  {
   "cell_type": "code",
   "execution_count": null,
   "id": "7c227169-9970-4680-9338-c07172137fff",
   "metadata": {},
   "outputs": [],
   "source": [
    "i = int(input(\"Enter your number: \"))\n",
    "\n",
    "while i <= 30:\n",
    "    i = int(input(\"Enter your number: \"))\n",
    "    print(i)"
   ]
  },
  {
   "cell_type": "code",
   "execution_count": null,
   "id": "1825faa5-be63-4867-b769-21758747535d",
   "metadata": {},
   "outputs": [],
   "source": [
    "count = 10\n",
    "while count > 0:\n",
    "    print(count)\n",
    "    count = count - 1\n",
    "    if count == 5:\n",
    "       continue\n",
    "\n",
    "else:\n",
    "    print(\"counter in else\")\n"
   ]
  },
  {
   "cell_type": "code",
   "execution_count": 103,
   "id": "7ec86e89-fdae-4790-9dc6-dd2f547afe26",
   "metadata": {},
   "outputs": [
    {
     "name": "stdout",
     "output_type": "stream",
     "text": [
      "5 X  1 = 5\n",
      "5 X  2 = 10\n",
      "5 X  3 = 15\n",
      "5 X  4 = 20\n",
      "5 X  5 = 25\n",
      "5 X  6 = 30\n",
      "5 X  7 = 35\n",
      "5 X  8 = 40\n",
      "5 X  9 = 45\n",
      "5 X  10 = 50\n"
     ]
    }
   ],
   "source": [
    "for i in range(15):\n",
    "    if i == 10:\n",
    "       break # break the loop\n",
    "    print(\"5 X \",i+1,\"=\", 5*(i+1))\n",
    "   "
   ]
  },
  {
   "cell_type": "code",
   "execution_count": null,
   "id": "35d77011-367e-451b-873f-b34571215341",
   "metadata": {},
   "outputs": [],
   "source": [
    "for i in range(15):\n",
    "    if i == 10:\n",
    "       print(\"skip the iteration\") \n",
    "       continue # skip the iteration\n",
    "    print(\"5 X \",i+1,\"=\", 5*(i+1))"
   ]
  },
  {
   "cell_type": "code",
   "execution_count": 8,
   "id": "74426964-55a2-4d67-a835-d4d70e037b85",
   "metadata": {},
   "outputs": [
    {
     "name": "stdout",
     "output_type": "stream",
     "text": [
      "0\n",
      "1\n",
      "2\n",
      "3\n",
      "4\n",
      "5\n",
      "6\n",
      "7\n",
      "8\n",
      "9\n",
      "10\n",
      "11\n"
     ]
    }
   ],
   "source": [
    "i = 0\n",
    "while True:\n",
    "    print(i)\n",
    "    i = i + 1\n",
    "    if(i%12 == 0):\n",
    "      break "
   ]
  },
  {
   "cell_type": "code",
   "execution_count": 7,
   "id": "fe2214f8-d7d3-4b9c-9e69-ea9e9accca82",
   "metadata": {},
   "outputs": [
    {
     "name": "stdin",
     "output_type": "stream",
     "text": [
      "Enter value of a: 78\n",
      "Enter value of b:  45\n"
     ]
    },
    {
     "name": "stdout",
     "output_type": "stream",
     "text": [
      "123\n",
      "a is greater\n"
     ]
    },
    {
     "name": "stdin",
     "output_type": "stream",
     "text": [
      "Enter value of c: 899\n",
      "Enter value of d:  3566\n"
     ]
    },
    {
     "name": "stdout",
     "output_type": "stream",
     "text": [
      "4465\n",
      "b is greater\n"
     ]
    }
   ],
   "source": [
    "# function\n",
    "\n",
    "def addition(a,b):\n",
    "    add = a+b\n",
    "    print(add)\n",
    "\n",
    "a = int(input(\"Enter value of a:\"))\n",
    "b = int(input(\"Enter value of b: \"))\n",
    "\n",
    "def isgreater(a,b):\n",
    "    if a>b:\n",
    "        print(\"a is greater\")\n",
    "    else:\n",
    "        print(\"b is greater\")\n",
    "def islesser(a,b):\n",
    "    pass\n",
    "\n",
    "addition(a,b)\n",
    "isgreater(a,b)\n",
    "c = int(input(\"Enter value of c:\"))\n",
    "d = int(input(\"Enter value of d: \"))\n",
    "\n",
    "addition(c,d)\n",
    "isgreater(c,d)"
   ]
  },
  {
   "cell_type": "code",
   "execution_count": 15,
   "id": "2c27aa31-5c0a-4fe7-be0f-768f3ec20f95",
   "metadata": {},
   "outputs": [
    {
     "name": "stdin",
     "output_type": "stream",
     "text": [
      "Enter your number 1:  45\n",
      "Enter your number 2:  64\n",
      "Enter your number 3:  75\n",
      "Enter your number 4:  87\n",
      "Enter your number 5:  57\n"
     ]
    },
    {
     "name": "stdout",
     "output_type": "stream",
     "text": [
      "your Entered: [45.0, 64.0, 75.0, 87.0, 57.0]\n"
     ]
    }
   ],
   "source": []
  },
  {
   "cell_type": "code",
   "execution_count": 18,
   "id": "7c4a7be4-c77b-4a41-a806-faa28832dcb9",
   "metadata": {},
   "outputs": [
    {
     "name": "stdin",
     "output_type": "stream",
     "text": [
      "Enter your choice (Sum/Mult): Mult\n",
      "Enter your number:-  40\n",
      "Enter your number:-  40\n"
     ]
    },
    {
     "name": "stdout",
     "output_type": "stream",
     "text": [
      "Multiply of the numbers are:-  1600.0\n"
     ]
    }
   ],
   "source": [
    "choice = input(\"Enter your choice (Sum/Mult):\")\n",
    "\n",
    "a = float(input(\"Enter your number:- \"))\n",
    "b = float(input(\"Enter your number:- \"))\n",
    "\n",
    "\n",
    "\n",
    "if choice == \"Sum\":\n",
    "    print(\"Sum of the numbers are:- \", a + b)\n",
    "    \n",
    "elif choice == \"Mult\":\n",
    "    print(\"Multiply of the numbers are:- \", a * b)\n",
    "    \n",
    "else:\n",
    "    print(\"Invalid choice!\")\n",
    "    "
   ]
  },
  {
   "cell_type": "code",
   "execution_count": 46,
   "id": "52a0954f-2bf3-4205-ae73-6df776d51118",
   "metadata": {},
   "outputs": [
    {
     "name": "stdin",
     "output_type": "stream",
     "text": [
      "Enter your character:  Aniket\n"
     ]
    },
    {
     "name": "stdout",
     "output_type": "stream",
     "text": [
      "A i e "
     ]
    }
   ],
   "source": [
    "#3.Print characters present at an even index number\n",
    "char = input(\"Enter your character: \")\n",
    "\n",
    "for i in range(0, len(char), 2):\n",
    "    print(char[i], end=' ')"
   ]
  },
  {
   "cell_type": "code",
   "execution_count": 47,
   "id": "09def41a-c59c-459b-b4b9-0c891f485714",
   "metadata": {},
   "outputs": [
    {
     "name": "stdin",
     "output_type": "stream",
     "text": [
      "Enter your character:  Aniket\n"
     ]
    },
    {
     "name": "stdout",
     "output_type": "stream",
     "text": [
      "Aie\n"
     ]
    }
   ],
   "source": [
    "char = input(\"Enter your character: \")\n",
    "print(char[::2])"
   ]
  },
  {
   "cell_type": "code",
   "execution_count": 64,
   "id": "16ccfebd-3e70-4e7e-b115-8896ccdca7d5",
   "metadata": {},
   "outputs": [
    {
     "name": "stdin",
     "output_type": "stream",
     "text": [
      "Enter your word:  Anikkk\n",
      "Enter number to remove:  1\n"
     ]
    },
    {
     "name": "stdout",
     "output_type": "stream",
     "text": [
      "nikkk\n",
      "nikkk\n",
      "nikkk\n",
      "nikkk\n",
      "nikkk\n",
      "\n"
     ]
    }
   ],
   "source": [
    "#4Remove first n characters from a string\n",
    "text = input(\"Enter your word: \")\n",
    "n = int(input(\"Enter number to remove: \"))\n",
    "\n",
    "if n >= len(text):\n",
    "   print(\"Error! n is greater than text length\")\n",
    "else:\n",
    "    new_text = \"\"\n",
    "    \n",
    "    for i in range(n,len(text)):\n",
    "        print(text[n:])\n",
    "\n",
    "    print(new_text)\n",
    "    "
   ]
  },
  {
   "cell_type": "code",
   "execution_count": 69,
   "id": "d4a70419-66fa-476a-a300-7e6e99dc7b73",
   "metadata": {},
   "outputs": [
    {
     "name": "stdin",
     "output_type": "stream",
     "text": [
      "Enter your word:  Aniketkumar\n",
      "Enter number to remove:  k\n"
     ]
    },
    {
     "name": "stdout",
     "output_type": "stream",
     "text": [
      "Anietumar\n"
     ]
    }
   ],
   "source": []
  },
  {
   "cell_type": "code",
   "execution_count": 73,
   "id": "fa6c6efe-0585-4ced-97e1-679d6495090b",
   "metadata": {},
   "outputs": [
    {
     "name": "stdout",
     "output_type": "stream",
     "text": [
      "First number:- 24 and last number:- 24 are same. \n"
     ]
    }
   ],
   "source": [
    "#Exercise 5: Check if the first and last numbers of a list are the same\n",
    "lst = [24,87,34,27,28,48,45,68,24]\n",
    "\n",
    "\n",
    "if lst[0] == lst[-1]:\n",
    "    print(f\"First number:- {lst[0]} and last number:- {lst[-1]} are same. \")\n",
    "else:\n",
    "    print(f\"First number:- {lst[0]} and last number:- {lst[-1]} are not  same. \")\n",
    "    "
   ]
  },
  {
   "cell_type": "code",
   "execution_count": 75,
   "id": "859b58e5-0074-49f9-be1e-b611c2b48ea9",
   "metadata": {},
   "outputs": [
    {
     "name": "stdin",
     "output_type": "stream",
     "text": [
      "Enter your number 1234\n"
     ]
    },
    {
     "name": "stdout",
     "output_type": "stream",
     "text": [
      "4321\n"
     ]
    }
   ],
   "source": [
    "num = input(\"Enter your number\")\n",
    "\n",
    "print(num[::-1])"
   ]
  },
  {
   "cell_type": "code",
   "execution_count": 84,
   "id": "9290474a-988a-4c03-91bb-a3210c856094",
   "metadata": {},
   "outputs": [
    {
     "name": "stdout",
     "output_type": "stream",
     "text": [
      "1 2 3 4 5 6 7 8 9 10 "
     ]
    }
   ],
   "source": [
    "#Print first 10 natural numbers using while loop\n",
    "\n",
    "i = 1\n",
    "while i <=10 :\n",
    "    print(i,end=\" \")\n",
    "    i += 1"
   ]
  },
  {
   "cell_type": "code",
   "execution_count": 104,
   "id": "fbdd9866-d734-487c-875c-7dd9d75c5d88",
   "metadata": {},
   "outputs": [
    {
     "name": "stdin",
     "output_type": "stream",
     "text": [
      "Enter your number 1:  24\n",
      "Enter your number 2:  56\n",
      "Enter your number 3:  67\n",
      "Enter your number 4:  34\n",
      "Enter your number 5:  78\n"
     ]
    },
    {
     "name": "stdout",
     "output_type": "stream",
     "text": [
      "your Entered: [24.0, 56.0, 67.0, 34.0, 78.0]\n"
     ]
    }
   ],
   "source": [
    "float_num = []\n",
    "\n",
    "for i in range(5):\n",
    "    num = float(input(f'Enter your number {i + 1}: '))\n",
    "    \n",
    "    float_num.append(num)\n",
    "    \n",
    "print(\"your Entered:\", float_num )"
   ]
  },
  {
   "cell_type": "code",
   "execution_count": 96,
   "id": "1908b971-95af-468e-88e2-e56049a2736f",
   "metadata": {},
   "outputs": [
    {
     "name": "stdin",
     "output_type": "stream",
     "text": [
      "Enter your number:  12345\n"
     ]
    },
    {
     "name": "stdout",
     "output_type": "stream",
     "text": [
      "5\n"
     ]
    }
   ],
   "source": [
    "#Count the total number of digits in a number\n",
    "num = input(\"Enter your number: \")\n",
    "print(len(num))"
   ]
  },
  {
   "cell_type": "code",
   "execution_count": 102,
   "id": "3951747a-7bc3-4224-9734-2a318682fe82",
   "metadata": {},
   "outputs": [
    {
     "name": "stdin",
     "output_type": "stream",
     "text": [
      "Enter your number:  1000\n"
     ]
    },
    {
     "name": "stdout",
     "output_type": "stream",
     "text": [
      "4\n"
     ]
    }
   ],
   "source": [
    "num = int(input(\"Enter your number: \"))\n",
    "\n",
    "count = 0\n",
    "\n",
    "while num > 0 :\n",
    "    num = num // 10\n",
    "    count += 1\n",
    "print(count)"
   ]
  },
  {
   "cell_type": "code",
   "execution_count": 108,
   "id": "88d87e4c-6df1-4045-8af8-166e978b3d6b",
   "metadata": {},
   "outputs": [
    {
     "name": "stdin",
     "output_type": "stream",
     "text": [
      "Enter value of a: 40\n",
      "Enter value of b:  34\n"
     ]
    },
    {
     "name": "stdout",
     "output_type": "stream",
     "text": [
      "sum of the two numbers are:-74\n",
      "product of the two numbers are:- 1360\n"
     ]
    }
   ],
   "source": [
    "#Calculate the multiplication and sum of two numbers\n",
    "\n",
    "def addition(a,b):\n",
    "    add = a + b\n",
    "    print(f\"sum of the two numbers are:-{add}\")\n",
    "\n",
    "a = int(input(\"Enter value of a:\"))\n",
    "b = int(input(\"Enter value of b: \"))\n",
    "\n",
    "def multiplication(a,b):\n",
    "    mult = a * b\n",
    "    print(f\"product of the two numbers are:- {mult}\")\n",
    "addition(a,b)\n",
    "multiplication(a,b)\n"
   ]
  },
  {
   "cell_type": "code",
   "execution_count": 110,
   "id": "c99e58d9-45c3-4e88-b3b0-19ee691e9062",
   "metadata": {},
   "outputs": [
    {
     "name": "stdin",
     "output_type": "stream",
     "text": [
      "Enter value of a: 13\n",
      "Enter value of b:  45\n"
     ]
    },
    {
     "name": "stdout",
     "output_type": "stream",
     "text": [
      "Sum of the two numbers are 58\n",
      "b is greater\n"
     ]
    },
    {
     "name": "stdin",
     "output_type": "stream",
     "text": [
      "Enter value of c: 78\n",
      "Enter value of d:  54\n"
     ]
    },
    {
     "name": "stdout",
     "output_type": "stream",
     "text": [
      "Sum of the two numbers are 132\n",
      "a is greater\n"
     ]
    }
   ],
   "source": [
    "# function\n",
    "\n",
    "def addition(a,b):\n",
    "    add = a+b\n",
    "    print(\"Sum of the two numbers are:-\", add)\n",
    "\n",
    "a = int(input(\"Enter value of a:\"))\n",
    "b = int(input(\"Enter value of b: \"))\n",
    "\n",
    "def isgreater(a,b):\n",
    "    if a>b:\n",
    "        print(\"a is greater\")\n",
    "    else:\n",
    "        print(\"b is greater\")\n",
    "def islesser(a,b):\n",
    "    pass\n",
    "\n",
    "addition(a,b)\n",
    "isgreater(a,b)\n",
    "c = int(input(\"Enter value of c:\"))\n",
    "d = int(input(\"Enter value of d: \"))\n",
    "\n",
    "addition(c,d)\n",
    "isgreater(c,d)"
   ]
  },
  {
   "cell_type": "code",
   "execution_count": 119,
   "id": "cde2cfcd-b2ad-4491-ab4c-e15f4d3cce93",
   "metadata": {},
   "outputs": [
    {
     "name": "stdin",
     "output_type": "stream",
     "text": [
      "Enter your number:-  10\n"
     ]
    },
    {
     "name": "stdout",
     "output_type": "stream",
     "text": [
      "factorial of 10 is:- 120\n"
     ]
    }
   ],
   "source": [
    "def factorial(n):\n",
    "    if n == 0:\n",
    "        return 1\n",
    "    else:\n",
    "        return n * factorial(n-1)\n",
    "n = int(input(\"Enter your number:- \"))\n",
    "print(f'factorial of {n} is:- {factorial(5)}')\n",
    "\n",
    "\n",
    "        \n",
    "\n",
    "    \n",
    "        "
   ]
  },
  {
   "cell_type": "code",
   "execution_count": 128,
   "id": "f13c7ccd-1a6e-4b5d-b7c9-e222acafef8d",
   "metadata": {},
   "outputs": [
    {
     "name": "stdin",
     "output_type": "stream",
     "text": [
      "Enter your number:-  12\n"
     ]
    },
    {
     "name": "stdout",
     "output_type": "stream",
     "text": [
      "Given number 12 is EVEN\n"
     ]
    }
   ],
   "source": [
    "def odd_even(n):\n",
    "    if (n % 2 == 0):\n",
    "        print(f\"Given number {n} is EVEN\")\n",
    "    else:\n",
    "        print(f\"Given number {n}is ODD \")\n",
    "        \n",
    "n = int(input(\"Enter your number:- \"))\n",
    "odd_even(n)\n"
   ]
  },
  {
   "cell_type": "code",
   "execution_count": null,
   "id": "d08e4fd2-8b81-49f5-9b5c-089eaaf4f0fe",
   "metadata": {},
   "outputs": [],
   "source": []
  }
 ],
 "metadata": {
  "kernelspec": {
   "display_name": "Python 3 (ipykernel)",
   "language": "python",
   "name": "python3"
  },
  "language_info": {
   "codemirror_mode": {
    "name": "ipython",
    "version": 3
   },
   "file_extension": ".py",
   "mimetype": "text/x-python",
   "name": "python",
   "nbconvert_exporter": "python",
   "pygments_lexer": "ipython3",
   "version": "3.11.5"
  }
 },
 "nbformat": 4,
 "nbformat_minor": 5
}
