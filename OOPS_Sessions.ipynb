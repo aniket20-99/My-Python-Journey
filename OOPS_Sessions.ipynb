{
 "cells": [
  {
   "cell_type": "markdown",
   "id": "7356818a-c1f6-4124-a8c9-e6c5e53c03ec",
   "metadata": {},
   "source": [
    "# Class\n",
    "* Data or property - Brand,name,wheel,color,enginetype\n",
    "* Functions or behavior -  open air bag, Gps tracking, speedometer"
   ]
  },
  {
   "cell_type": "raw",
   "id": "4326d204-342f-4a4e-8e7e-35985611e598",
   "metadata": {},
   "source": [
    "#Class Basic structure\n",
    "\n",
    "class Car:\n",
    "\n",
    "    color = 'blue' # data\n",
    "    model = 'Sports' #data\n",
    "    def calculateAvgSpeed(km,time):\n",
    "        #some code"
   ]
  },
  {
   "cell_type": "markdown",
   "id": "b54013d2-12e9-4076-9079-be94923c75ee",
   "metadata": {},
   "source": [
    "* Class name should be in pascal case\n",
    "* ex - ThisIsPascalCase\n",
    "* thisispascalcase\n",
    "* Variable name should be in snake_case\n",
    "* ex- color_name"
   ]
  },
  {
   "cell_type": "markdown",
   "id": "3c30c485-0672-4efe-8e16-1cee1c4cf749",
   "metadata": {},
   "source": [
    "Class\n",
    "Private (- show that data  is not available for public)\n",
    " - car\n",
    " - mileage\n",
    " - engine\n",
    "\n",
    "Public (+ show that method is available for public)\n",
    " + car_avg_speed\n",
    " + open_airbag\n",
    " + show_gps\n",
    " "
   ]
  },
  {
   "cell_type": "markdown",
   "id": "13bbaae7-ed17-4672-a25b-4dd79e300aac",
   "metadata": {},
   "source": [
    "# Object\n",
    "* Object is an instance of class\n",
    "\n",
    "1. Car ----> WagonR // wagonr = Car()\n",
    "2. Sports ----> Cricket// cricket = sports()\n",
    "3. Animals ----> Monkey// monkey = Animals()"
   ]
  },
  {
   "cell_type": "markdown",
   "id": "ff424e04-9363-4cf0-8c1f-7b658e9e2923",
   "metadata": {},
   "source": [
    "# Function Vs Methods\n",
    "* Function is a genreal which is available for everyone\n",
    "* Method is a function which is defined in a particular class \n",
    "and it can be anly access by its own class objects.\n",
    "* Function inside class is vcalled methods"
   ]
  },
  {
   "cell_type": "code",
   "execution_count": 7,
   "id": "24bde54b-4a5c-41b7-962d-28b54f020fff",
   "metadata": {},
   "outputs": [
    {
     "data": {
      "text/plain": [
       "[12, 34, 56, 15]"
      ]
     },
     "execution_count": 7,
     "metadata": {},
     "output_type": "execute_result"
    }
   ],
   "source": [
    "\n",
    "L =[12,34,56]\n",
    "len(L)\n",
    "L.append(15)\n",
    "L"
   ]
  },
  {
   "cell_type": "code",
   "execution_count": null,
   "id": "a3fd1557-c88e-46e2-b35a-07f3d0151668",
   "metadata": {},
   "outputs": [],
   "source": [
    "class Atm:\n",
    "    # Constructor ---> It is a special method which code is automatically executed when its object is created.\n",
    "    def __init__(self):\n",
    "        self.pin = \"\"\n",
    "        self.balance = 0\n",
    "        self.menu()\n",
    "    def menu(self):\n",
    "        user_input = input(\"\"\"\n",
    "                        Hello, how would you like to Proceed?\n",
    "                        1. Enter 1 to create pin\n",
    "                        2. Enter 2 to deposit\n",
    "                        3. Enter 3 to withdraw\n",
    "                        4. Enter 4 to check balance\n",
    "                        5. Enter 5 to exit\n",
    "\"\"\")\n",
    "        if user_input == '1':\n",
    "            print('Create pin')\n",
    "        elif user_input == '2':\n",
    "            print('deposit')\n",
    "        elif user_input == '3':\n",
    "            print('Withdraw')\n",
    "        elif user_input == '4':\n",
    "            print('Check balance')\n",
    "        else:\n",
    "            print(\"Exit\")\n",
    "  \n",
    "sbi = Atm()"
   ]
  },
  {
   "cell_type": "code",
   "execution_count": 30,
   "id": "ac398c5f-78e6-43a8-9d8c-60704963ae0f",
   "metadata": {},
   "outputs": [
    {
     "name": "stdout",
     "output_type": "stream",
     "text": [
      "2963773992208\n"
     ]
    },
    {
     "name": "stdin",
     "output_type": "stream",
     "text": [
      "\n",
      "                        Hello, how would you like to Proceed?\n",
      "                        1. Enter 1 to create pin\n",
      "                        2. Enter 2 to deposit\n",
      "                        3. Enter 3 to withdraw\n",
      "                        4. Enter 4 to check balance\n",
      "                        5. Enter 5 to exit\n",
      " 2\n",
      "Enter your pin 1234\n"
     ]
    },
    {
     "name": "stdout",
     "output_type": "stream",
     "text": [
      "Invalid pin\n"
     ]
    },
    {
     "name": "stdin",
     "output_type": "stream",
     "text": [
      "\n",
      "                        Hello, how would you like to Proceed?\n",
      "                        1. Enter 1 to create pin\n",
      "                        2. Enter 2 to deposit\n",
      "                        3. Enter 3 to withdraw\n",
      "                        4. Enter 4 to check balance\n",
      "                        5. Enter 5 to exit\n",
      " 1\n",
      "Enter your pin 1234\n"
     ]
    },
    {
     "name": "stdout",
     "output_type": "stream",
     "text": [
      "Pin Set successfully\n"
     ]
    },
    {
     "name": "stdin",
     "output_type": "stream",
     "text": [
      "\n",
      "                        Hello, how would you like to Proceed?\n",
      "                        1. Enter 1 to create pin\n",
      "                        2. Enter 2 to deposit\n",
      "                        3. Enter 3 to withdraw\n",
      "                        4. Enter 4 to check balance\n",
      "                        5. Enter 5 to exit\n",
      " 2\n",
      "Enter your pin 1234\n",
      "Enter the amount 5000\n"
     ]
    },
    {
     "name": "stdout",
     "output_type": "stream",
     "text": [
      "5000 Deposit Successful\n"
     ]
    },
    {
     "name": "stdin",
     "output_type": "stream",
     "text": [
      "\n",
      "                        Hello, how would you like to Proceed?\n",
      "                        1. Enter 1 to create pin\n",
      "                        2. Enter 2 to deposit\n",
      "                        3. Enter 3 to withdraw\n",
      "                        4. Enter 4 to check balance\n",
      "                        5. Enter 5 to exit\n",
      " 4\n",
      "Enter your pin 1234\n"
     ]
    },
    {
     "name": "stdout",
     "output_type": "stream",
     "text": [
      "your balance is 5000\n"
     ]
    },
    {
     "name": "stdin",
     "output_type": "stream",
     "text": [
      "\n",
      "                        Hello, how would you like to Proceed?\n",
      "                        1. Enter 1 to create pin\n",
      "                        2. Enter 2 to deposit\n",
      "                        3. Enter 3 to withdraw\n",
      "                        4. Enter 4 to check balance\n",
      "                        5. Enter 5 to exit\n",
      " 5\n"
     ]
    },
    {
     "name": "stdout",
     "output_type": "stream",
     "text": [
      "Thank you for using the ATM!\n",
      "2963773874896\n"
     ]
    },
    {
     "name": "stdin",
     "output_type": "stream",
     "text": [
      "\n",
      "                        Hello, how would you like to Proceed?\n",
      "                        1. Enter 1 to create pin\n",
      "                        2. Enter 2 to deposit\n",
      "                        3. Enter 3 to withdraw\n",
      "                        4. Enter 4 to check balance\n",
      "                        5. Enter 5 to exit\n",
      " 5\n"
     ]
    },
    {
     "name": "stdout",
     "output_type": "stream",
     "text": [
      "Thank you for using the ATM!\n"
     ]
    }
   ],
   "source": [
    "class Atm:\n",
    "    # Constructor is an magic method ---> It is a special method which code is automatically executed when its object is created.\n",
    "    def __init__(self):\n",
    "        self.pin = \"\"\n",
    "        self.balance = 0\n",
    "        print(id(self))\n",
    "        self.menu()\n",
    "    def menu(self):\n",
    "        while True:\n",
    "            user_input = input(\"\"\"\n",
    "                        Hello, how would you like to Proceed?\n",
    "                        1. Enter 1 to create pin\n",
    "                        2. Enter 2 to deposit\n",
    "                        3. Enter 3 to withdraw\n",
    "                        4. Enter 4 to check balance\n",
    "                        5. Enter 5 to exit\n",
    "\"\"\")\n",
    "            if user_input == '1':\n",
    "                self.create_pin()\n",
    "            elif user_input == '2':\n",
    "                self.deposit()\n",
    "            elif user_input == '3':\n",
    "                self.withdraw()\n",
    "            elif user_input == '4':\n",
    "                self.check_balance()\n",
    "            elif user_input == '5':\n",
    "                print(\"Thank you for using the ATM!\")\n",
    "                break\n",
    "            else:\n",
    "                print(\"invalid Choice\")\n",
    "    def create_pin(self):\n",
    "        self.pin = input('Enter your pin')\n",
    "        print(\"Pin Set successfully\")\n",
    "\n",
    "    def deposit(self):\n",
    "        temp = input('Enter your pin')\n",
    "        if temp == self.pin:\n",
    "            amount = int(input(\"Enter the amount\"))\n",
    "            self.balance = self.balance + amount\n",
    "            print(f'{amount} Deposit Successful')\n",
    "        else:\n",
    "            print('Invalid pin')\n",
    "\n",
    "    def withdraw(self):\n",
    "        temp = input('Enter your pin')\n",
    "        if temp == self.pin:\n",
    "            amount = int(input('Enter the amount'))\n",
    "            if amount < self.balance:                 \n",
    "                self.balance = self.balance - amount\n",
    "                print(f'{amount} Withdrawl successfully')\n",
    "            else:\n",
    "                print('Insufficient funds')\n",
    "        else:\n",
    "            print('Invalid pin')  \n",
    "    def check_balance(self):\n",
    "        temp = input('Enter your pin')\n",
    "        if temp == self.pin:\n",
    "            print(f\"your balance is {self.balance}\")\n",
    "        else:\n",
    "            print('Invalid pin')\n",
    "    \n",
    "sbi = Atm()\n",
    "hdfc =Atm()"
   ]
  },
  {
   "cell_type": "code",
   "execution_count": 30,
   "id": "2de42a7f-4d2a-4426-8719-0d5d0b58a4d5",
   "metadata": {},
   "outputs": [
    {
     "name": "stdout",
     "output_type": "stream",
     "text": [
      "2963773992208\n"
     ]
    },
    {
     "name": "stdin",
     "output_type": "stream",
     "text": [
      "\n",
      "                        Hello, how would you like to Proceed?\n",
      "                        1. Enter 1 to create pin\n",
      "                        2. Enter 2 to deposit\n",
      "                        3. Enter 3 to withdraw\n",
      "                        4. Enter 4 to check balance\n",
      "                        5. Enter 5 to exit\n",
      " 2\n",
      "Enter your pin 1234\n"
     ]
    },
    {
     "name": "stdout",
     "output_type": "stream",
     "text": [
      "Invalid pin\n"
     ]
    },
    {
     "name": "stdin",
     "output_type": "stream",
     "text": [
      "\n",
      "                        Hello, how would you like to Proceed?\n",
      "                        1. Enter 1 to create pin\n",
      "                        2. Enter 2 to deposit\n",
      "                        3. Enter 3 to withdraw\n",
      "                        4. Enter 4 to check balance\n",
      "                        5. Enter 5 to exit\n",
      " 1\n",
      "Enter your pin 1234\n"
     ]
    },
    {
     "name": "stdout",
     "output_type": "stream",
     "text": [
      "Pin Set successfully\n"
     ]
    },
    {
     "name": "stdin",
     "output_type": "stream",
     "text": [
      "\n",
      "                        Hello, how would you like to Proceed?\n",
      "                        1. Enter 1 to create pin\n",
      "                        2. Enter 2 to deposit\n",
      "                        3. Enter 3 to withdraw\n",
      "                        4. Enter 4 to check balance\n",
      "                        5. Enter 5 to exit\n",
      " 2\n",
      "Enter your pin 1234\n",
      "Enter the amount 5000\n"
     ]
    },
    {
     "name": "stdout",
     "output_type": "stream",
     "text": [
      "5000 Deposit Successful\n"
     ]
    },
    {
     "name": "stdin",
     "output_type": "stream",
     "text": [
      "\n",
      "                        Hello, how would you like to Proceed?\n",
      "                        1. Enter 1 to create pin\n",
      "                        2. Enter 2 to deposit\n",
      "                        3. Enter 3 to withdraw\n",
      "                        4. Enter 4 to check balance\n",
      "                        5. Enter 5 to exit\n",
      " 4\n",
      "Enter your pin 1234\n"
     ]
    },
    {
     "name": "stdout",
     "output_type": "stream",
     "text": [
      "your balance is 5000\n"
     ]
    },
    {
     "name": "stdin",
     "output_type": "stream",
     "text": [
      "\n",
      "                        Hello, how would you like to Proceed?\n",
      "                        1. Enter 1 to create pin\n",
      "                        2. Enter 2 to deposit\n",
      "                        3. Enter 3 to withdraw\n",
      "                        4. Enter 4 to check balance\n",
      "                        5. Enter 5 to exit\n",
      " 5\n"
     ]
    },
    {
     "name": "stdout",
     "output_type": "stream",
     "text": [
      "Thank you for using the ATM!\n",
      "2963773874896\n"
     ]
    },
    {
     "name": "stdin",
     "output_type": "stream",
     "text": [
      "\n",
      "                        Hello, how would you like to Proceed?\n",
      "                        1. Enter 1 to create pin\n",
      "                        2. Enter 2 to deposit\n",
      "                        3. Enter 3 to withdraw\n",
      "                        4. Enter 4 to check balance\n",
      "                        5. Enter 5 to exit\n",
      " 5\n"
     ]
    },
    {
     "name": "stdout",
     "output_type": "stream",
     "text": [
      "Thank you for using the ATM!\n"
     ]
    }
   ],
   "source": [
    "class Atm:\n",
    "    # Constructor is an magic method ---> It is a special method which code is automatically executed when its object is created.\n",
    "    def __init__(self):\n",
    "        self.__pin = \"\" # __ is used to hide or make the data private \n",
    "        self.__balance = 0\n",
    "        print(id(self))\n",
    "        self.menu()\n",
    "    def menu(self):\n",
    "        while True:\n",
    "            user_input = input(\"\"\"\n",
    "                        Hello, how would you like to Proceed?\n",
    "                        1. Enter 1 to create pin\n",
    "                        2. Enter 2 to deposit\n",
    "                        3. Enter 3 to withdraw\n",
    "                        4. Enter 4 to check balance\n",
    "                        5. Enter 5 to exit\n",
    "\"\"\")\n",
    "            if user_input == '1':\n",
    "                self.create_pin()\n",
    "            elif user_input == '2':\n",
    "                self.deposit()\n",
    "            elif user_input == '3':\n",
    "                self.withdraw()\n",
    "            elif user_input == '4':\n",
    "                self.check_balance()\n",
    "            elif user_input == '5':\n",
    "                print(\"Thank you for using the ATM!\")\n",
    "                break\n",
    "            else:\n",
    "                print(\"invalid Choice\")\n",
    "    def create_pin(self):\n",
    "        self.__pin = input('Enter your pin')\n",
    "        print(\"Pin Set successfully\")\n",
    "\n",
    "    def deposit(self):\n",
    "        temp = input('Enter your pin')\n",
    "        if temp == self.__pin:\n",
    "            amount = int(input(\"Enter the amount\"))\n",
    "            self.__balance = self.__balance + amount\n",
    "            print(f'{amount} Deposit Successful')\n",
    "        else:\n",
    "            print('Invalid pin')\n",
    "\n",
    "    def withdraw(self):\n",
    "        temp = input('Enter your pin')\n",
    "        if temp == self.__pin:\n",
    "            amount = int(input('Enter the amount'))\n",
    "            if amount < self.__balance:                 \n",
    "                self.__balance = self.__balance - amount\n",
    "                print(f'{amount} Withdrawl successfully')\n",
    "            else:\n",
    "                print('Insufficient funds')\n",
    "        else:\n",
    "            print('Invalid pin')  \n",
    "    def check_balance(self):\n",
    "        temp = input('Enter your pin')\n",
    "        if temp == self.__pin:\n",
    "            print(f\"your balance is {self.__balance}\")\n",
    "        else:\n",
    "            print('Invalid pin')\n",
    "    \n",
    "sbi = Atm()\n"
   ]
  },
  {
   "cell_type": "code",
   "execution_count": null,
   "id": "12053937-27c1-4d09-abee-a82279a532cd",
   "metadata": {},
   "outputs": [],
   "source": [
    "ek class ka ek method apne  class ke dusre method se directly baat nhi kr skta\n",
    "we can access it through an object where object itself came by becoming self\n",
    "class - sushobit \n",
    "method1 - Ani\n",
    "method - kus"
   ]
  },
  {
   "cell_type": "code",
   "execution_count": 62,
   "id": "97ee8a69-fbfc-434e-a6e1-c8fc0199e899",
   "metadata": {},
   "outputs": [
    {
     "name": "stdout",
     "output_type": "stream",
     "text": [
      "Fraction of 10 and 5 is: 2.0\n",
      "Fraction of 20 and 6 is: 3.3333333333333335\n",
      "160/30\n",
      "-40/30\n",
      "200/30\n",
      "60/100\n"
     ]
    }
   ],
   "source": [
    "# Create your own datatype\n",
    "\n",
    "class Fraction:\n",
    "    def __init__(self,n,d):\n",
    "        self.num = n \n",
    "        self.den = d\n",
    "\n",
    "    def __str__(self):\n",
    "        return(f'Fraction of {self.num} and {self.den} is: {self.num/self.den}')\n",
    "\n",
    "    def __add__(self,other):\n",
    "        temp_num = self.num * other.den + other.num * self.den\n",
    "        temp_den = self.den * other.den\n",
    "        return '{}/{}'.format(temp_num,temp_den)\n",
    "\n",
    "    def __sub__(self,other):\n",
    "        temp_num = self.num * other.den - other.num * self.den\n",
    "        temp_den = self.den * other.den\n",
    "        return '{}/{}'.format(temp_num,temp_den)\n",
    "\n",
    "    def __mul__(self,other):\n",
    "        temp_num = self.num * other.num \n",
    "        temp_den = self.den * other.den\n",
    "        return '{}/{}'.format(temp_num,temp_den)\n",
    "    def __truediv__(self,other):\n",
    "        temp_num = self.num * other.den\n",
    "        temp_den = self.den * other.num\n",
    "        return '{}/{}'.format(temp_num,temp_den)\n",
    "\n",
    "x =Fraction(10,5)         \n",
    "y = Fraction(20,6)\n",
    "print(x)\n",
    "print(y)\n",
    "print(x+y)\n",
    "print(x-y)\n",
    "print(x*y)\n",
    "print(x/y)\n"
   ]
  },
  {
   "cell_type": "markdown",
   "id": "51d160fe-39eb-43ea-9977-c751b2c1524b",
   "metadata": {},
   "source": [
    "# Instance Variable\n",
    "* instance variable ---> Variable which are created inside the constructor is called instance variable\n",
    "* value of instance variables are different for different  object\n"
   ]
  },
  {
   "cell_type": "code",
   "execution_count": 75,
   "id": "15819a4c-3ccb-475e-b6cc-9da46ad61e47",
   "metadata": {},
   "outputs": [
    {
     "name": "stdout",
     "output_type": "stream",
     "text": [
      "2963777697936\n"
     ]
    },
    {
     "name": "stdin",
     "output_type": "stream",
     "text": [
      "\n",
      "                        Hello, how would you like to Proceed?\n",
      "                        1. Enter 1 to create pin\n",
      "                        2. Enter 2 to deposit\n",
      "                        3. Enter 3 to withdraw\n",
      "                        4. Enter 4 to check balance\n",
      "                        5. Enter 5 to exit\n",
      " 1\n",
      "Enter your pin 12\n"
     ]
    },
    {
     "name": "stdout",
     "output_type": "stream",
     "text": [
      "Pin Set successfully\n"
     ]
    },
    {
     "name": "stdin",
     "output_type": "stream",
     "text": [
      "\n",
      "                        Hello, how would you like to Proceed?\n",
      "                        1. Enter 1 to create pin\n",
      "                        2. Enter 2 to deposit\n",
      "                        3. Enter 3 to withdraw\n",
      "                        4. Enter 4 to check balance\n",
      "                        5. Enter 5 to exit\n",
      " 5\n"
     ]
    },
    {
     "name": "stdout",
     "output_type": "stream",
     "text": [
      "Thank you for using the ATM!\n",
      "not allowed\n"
     ]
    }
   ],
   "source": [
    "class Atm:\n",
    "    # Constructor is an magic method ---> It is a special method which code is automatically executed when its object is created.\n",
    "    def __init__(self):\n",
    "        self.__pin = \"\" # __ is used to hide or make the data private \n",
    "        self.__balance = 0\n",
    "        print(id(self))\n",
    "        self.__menu()\n",
    "\n",
    "    def get_pin(self):\n",
    "        return self.__pin\n",
    "\n",
    "    def set_pin(self,new_pin):\n",
    "        if type(new_pin) == str:\n",
    "            self.__pin = new_pin\n",
    "            print(\"Pin changed\")\n",
    "        else:\n",
    "            print(\"not allowed\")\n",
    "        \n",
    "    def __menu(self):\n",
    "        while True:\n",
    "            user_input = input(\"\"\"\n",
    "                        Hello, how would you like to Proceed?\n",
    "                        1. Enter 1 to create pin\n",
    "                        2. Enter 2 to deposit\n",
    "                        3. Enter 3 to withdraw\n",
    "                        4. Enter 4 to check balance\n",
    "                        5. Enter 5 to exit\n",
    "\"\"\")\n",
    "            if user_input == '1':\n",
    "                self.create_pin()\n",
    "            elif user_input == '2':\n",
    "                self.deposit()\n",
    "            elif user_input == '3':\n",
    "                self.withdraw()\n",
    "            elif user_input == '4':\n",
    "                self.check_balance()\n",
    "            elif user_input == '5':\n",
    "                print(\"Thank you for using the ATM!\")\n",
    "                break\n",
    "            else:\n",
    "                print(\"invalid Choice\")\n",
    "    def create_pin(self):\n",
    "        self.__pin = input('Enter your pin')\n",
    "        print(\"Pin Set successfully\")\n",
    "\n",
    "    def deposit(self):\n",
    "        temp = input('Enter your pin')\n",
    "        if temp == self.__pin:\n",
    "            amount = int(input(\"Enter the amount\"))\n",
    "            self.__balance = self.__balance + amount\n",
    "            print(f'{amount} Deposit Successful')\n",
    "        else:\n",
    "            print('Invalid pin')\n",
    "\n",
    "    def withdraw(self):\n",
    "        temp = input('Enter your pin')\n",
    "        if temp == self.__pin:\n",
    "            amount = int(input('Enter the amount'))\n",
    "            if amount < self.__balance:                 \n",
    "                self.__balance = self.__balance - amount\n",
    "                print(f'{amount} Withdrawl successfully')\n",
    "            else:\n",
    "                print('Insufficient funds')\n",
    "        else:\n",
    "            print('Invalid pin')  \n",
    "    def check_balance(self):\n",
    "        temp = input('Enter your pin')\n",
    "        if temp == self.__pin:\n",
    "            print(f\"your balance is {self.__balance}\")\n",
    "        else:\n",
    "            print('Invalid pin')\n",
    "sbi = Atm()\n",
    "sbi.set_pin(123)"
   ]
  },
  {
   "cell_type": "code",
   "execution_count": null,
   "id": "debbb8f6-2ae4-4507-b879-9565082fbc10",
   "metadata": {},
   "outputs": [],
   "source": [
    "sbi.get_pin()\n",
    "sbi.set_pin()"
   ]
  },
  {
   "cell_type": "markdown",
   "id": "fadc93a9-5437-436b-8e83-6e1df10ae928",
   "metadata": {},
   "source": [
    "* self.__balance / __ is used to hide or make the data private \n",
    "* we can access by these to change it means nothing in python is private\n",
    "* sbi._Atm__balance =\"abcdh\""
   ]
  },
  {
   "cell_type": "code",
   "execution_count": null,
   "id": "63b146ee-3f79-4dde-87a8-883599903ef8",
   "metadata": {},
   "outputs": [],
   "source": [
    "# Reference Variable \n",
    "# While creating any object, object which is stored to the variable that variable is known as reference variable\n",
    "sbi = Atm() # Here sbi is the reference variable for the object ATM() "
   ]
  },
  {
   "cell_type": "code",
   "execution_count": null,
   "id": "d2d70631-f78b-40ef-a395-36be9c5798b8",
   "metadata": {},
   "outputs": [],
   "source": [
    "#Pass by reference"
   ]
  },
  {
   "cell_type": "code",
   "execution_count": 87,
   "id": "0909292a-2eb5-4f66-94f8-6963c0a11a47",
   "metadata": {},
   "outputs": [
    {
     "name": "stdout",
     "output_type": "stream",
     "text": [
      "Hello Aniket Sir\n",
      "Male\n",
      "Hello Ankita Ma'am\n"
     ]
    },
    {
     "data": {
      "text/plain": [
       "<__main__.Customer at 0x2b20db17790>"
      ]
     },
     "execution_count": 87,
     "metadata": {},
     "output_type": "execute_result"
    }
   ],
   "source": [
    "class Customer:\n",
    "    def __init__(self,name,gender):\n",
    "        self.name = name\n",
    "        self.gender = gender\n",
    "\n",
    "def greet(customer):\n",
    "    if customer.gender == \"Male\":\n",
    "        print(\"Hello\",customer.name,'Sir')\n",
    "    else:\n",
    "        print(\"Hello\",customer.name,\"Ma'am\")\n",
    "\n",
    "    cust = Customer('Aniket','Male')\n",
    "    return cust\n",
    "cust1 = Customer('Ankita','Female')\n",
    "\n",
    "new_cust = greet(cust)\n",
    "print(new_cust.gender)\n",
    "greet(cust1)"
   ]
  },
  {
   "cell_type": "code",
   "execution_count": 104,
   "id": "f9323647-d66c-4d8e-b851-78760b19f3cb",
   "metadata": {},
   "outputs": [
    {
     "name": "stdout",
     "output_type": "stream",
     "text": [
      "2963778113424\n",
      "2963778113424\n",
      "Amit\n",
      "2963778113424\n",
      "Amit\n"
     ]
    }
   ],
   "source": [
    "class Customer:\n",
    "    def __init__(self,name):\n",
    "        self.name = name\n",
    "\n",
    "def greet(customer):      \n",
    "    print(id(customer))  \n",
    "    customer.name = 'Amit'\n",
    "    print(customer.name)\n",
    "    print(id(customer)) \n",
    "\n",
    "#Aliasing    \n",
    "'''cust = id\n",
    "id = customer'''\n",
    "'''if an object is passed into a function and if that function has \n",
    "edited that object than the changes will also occured in the original object'''\n",
    "# object of any class in python are also mutable like (list,dict & sets)\n",
    "\n",
    "cust = Customer('Aniket')\n",
    "print(id(cust))\n",
    "\n",
    "greet(cust)\n",
    "print(cust.name) "
   ]
  },
  {
   "cell_type": "code",
   "execution_count": 108,
   "id": "44d4d7a0-f1f5-406b-b5f0-8f24d7ff2ae0",
   "metadata": {},
   "outputs": [
    {
     "name": "stdout",
     "output_type": "stream",
     "text": [
      "2963777308608\n",
      "[1, 2, 3, 4]\n",
      "2963757160832\n",
      "2963757160832\n",
      "[1, 2, 3, 4]\n"
     ]
    }
   ],
   "source": [
    "def change(L):\n",
    "    print(id(L))\n",
    "    L.append(5)\n",
    "    print(id(L))\n",
    "\n",
    "L1 = [1,2,3,4]\n",
    "print(id(L1))\n",
    "print(L1)\n",
    "# if we are taking a function call and have to put a list into it,\n",
    "#so dont put your original list into it can change the data permanently \n",
    "#in the outer side of list because of its(function) internal operation. \n",
    "# So we used cloning so that data shoudnt be changed in outer side list\n",
    "print(L1)\n",
    "change(L1[:])"
   ]
  },
  {
   "cell_type": "code",
   "execution_count": 110,
   "id": "75553137-1371-49b6-bae7-6f5f0c01317e",
   "metadata": {},
   "outputs": [
    {
     "name": "stdout",
     "output_type": "stream",
     "text": [
      "2963784201168\n",
      "(1, 2, 3, 4)\n",
      "(1, 2, 3, 4)\n",
      "2963784201168\n",
      "2963784270272\n"
     ]
    }
   ],
   "source": [
    "def change(L):\n",
    "    print(id(L))\n",
    "    L = L + (5,6)\n",
    "    print(id(L))\n",
    "\n",
    "L1 = (1,2,3,4)\n",
    "print(id(L1))\n",
    "print(L1)\n",
    "print(L1)\n",
    "change(L1[:])\n",
    "\n"
   ]
  },
  {
   "cell_type": "markdown",
   "id": "8c9ec86a-0d31-4816-8031-aa0d62754530",
   "metadata": {},
   "source": [
    "#Conclusion (Pass by reference)\n",
    "* If we send mutable datatypes with pass by reference then it occured change ioriginal, but it will not change in original by immutable datatypes.\n"
   ]
  },
  {
   "cell_type": "markdown",
   "id": "230ca2a5-6c1d-483d-90f8-64f4604d9d12",
   "metadata": {},
   "source": [
    "# Collection of objects"
   ]
  },
  {
   "cell_type": "code",
   "execution_count": 112,
   "id": "e8093d40-35f5-48c3-b8a0-6b219d2e3826",
   "metadata": {},
   "outputs": [
    {
     "name": "stdout",
     "output_type": "stream",
     "text": [
      "Aniket 25\n",
      "Ankit 34\n",
      "Priya 27\n"
     ]
    }
   ],
   "source": [
    "class customer:\n",
    "    def __init__(self,name,age):\n",
    "        self.name = name\n",
    "        self.age = age\n",
    "\n",
    "c1 = customer('Aniket',25)\n",
    "c2 = customer('Ankit',34)\n",
    "c3 = customer('Priya',27)\n",
    "\n",
    "L= [c1,c2,c3]\n",
    "for i in L:\n",
    "    print(i.name,i.age)"
   ]
  },
  {
   "cell_type": "code",
   "execution_count": 113,
   "id": "e522c3b0-31ff-451a-84cf-e7b8c03114d1",
   "metadata": {},
   "outputs": [
    {
     "name": "stdout",
     "output_type": "stream",
     "text": [
      "i am Aniket and i am 25\n",
      "i am Ankit and i am 34\n",
      "i am Priya and i am 27\n"
     ]
    }
   ],
   "source": [
    "class customer:\n",
    "    def __init__(self,name,age):\n",
    "        self.name = name\n",
    "        self.age = age\n",
    "    def intro(self):\n",
    "        print('i am', self.name, 'and i am',self.age)\n",
    "\n",
    "c1 = customer('Aniket',25)\n",
    "c2 = customer('Ankit',34)\n",
    "c3 = customer('Priya',27)\n",
    "\n",
    "L= [c1,c2,c3]\n",
    "for i in L:\n",
    "    i.intro()"
   ]
  },
  {
   "cell_type": "markdown",
   "id": "5ac10eb8-7380-471b-b5bc-fb56c4936c1e",
   "metadata": {},
   "source": [
    "# Static"
   ]
  },
  {
   "cell_type": "markdown",
   "id": "d9fda63a-8ed2-4665-8eed-d17a76e7b691",
   "metadata": {},
   "source": [
    "#Instance Variable\n",
    "* instance variable ---> Variable which are created inside the constructor is called instance variable\n",
    "* value of instance variables are different for different  object\n",
    "* To access instance variable we always use self.\n",
    "* ex ---> account no, cgpa\n",
    "#Static/class variable \n",
    "* Variable which value is same for every objects\n",
    "* static/class variable is always created outside the constructor\n",
    "* To access static/class variable we use Class name like class.class_variable_name\n",
    "* ex ---> IFSC code, degree name\n",
    "\n",
    "#Static methods\n",
    "*  Methods which is dealing with the static or class variable then that method is called static method and we dont pass self\n",
    "*  and to specify this we used @staticmethod this shows that we dont any object to access this method"
   ]
  },
  {
   "cell_type": "code",
   "execution_count": 149,
   "id": "428735b1-b1d1-4ce9-b3aa-e95984f49359",
   "metadata": {},
   "outputs": [
    {
     "name": "stdout",
     "output_type": "stream",
     "text": [
      "1\n",
      "2\n",
      "3\n",
      "4\n",
      "None\n",
      "6\n"
     ]
    }
   ],
   "source": [
    "class Atm:\n",
    "    # Static/class variable\n",
    "    __counter = 1\n",
    "    \n",
    "    def __init__(self):\n",
    "        self.__pin = \"\"\n",
    "        self.__balance = 0\n",
    "        self.sno = Atm.__counter\n",
    "        Atm.__counter = Atm.__counter + 1\n",
    "        #self.__menu()\n",
    "    @staticmethod\n",
    "    def get_counter():\n",
    "        return Atm.__counter\n",
    "\n",
    "    def set_counter(new):\n",
    "        if type(new) == int:\n",
    "            Atm.__counter = new\n",
    "        else:\n",
    "            print(\"not allowed\")\n",
    "\n",
    "    def get_pin(self):\n",
    "        return self.__pin\n",
    "\n",
    "    def set_pin(self,new_pin):\n",
    "        if type(new_pin) == str:\n",
    "            self.__pin = new_pin\n",
    "            print(\"Pin changed\")\n",
    "        else:\n",
    "            print(\"not allowed\")\n",
    "            \n",
    "    def __menu(self):\n",
    "        while True:\n",
    "            user_input = input(\"\"\"\n",
    "                        Hello, how would you like to Proceed?\n",
    "                        1. Enter 1 to create pin\n",
    "                        2. Enter 2 to deposit\n",
    "                        3. Enter 3 to withdraw\n",
    "                        4. Enter 4 to check balance\n",
    "                        5. Enter 5 to exit\n",
    "\"\"\")\n",
    "            if user_input == '1':\n",
    "                self.create_pin()\n",
    "            elif user_input == '2':\n",
    "                self.deposit()\n",
    "            elif user_input == '3':\n",
    "                self.withdraw()\n",
    "            elif user_input == '4':\n",
    "                self.check_balance()\n",
    "            elif user_input == '5':\n",
    "                print(\"Thank you for using the ATM!\")\n",
    "                break\n",
    "            else:\n",
    "                print(\"invalid Choice\")\n",
    "    def create_pin(self):\n",
    "        self.__pin = input('Enter your pin')\n",
    "        print(\"Pin Set successfully\")\n",
    "\n",
    "    def deposit(self):\n",
    "        temp = input('Enter your pin')\n",
    "        if temp == self.__pin:\n",
    "            amount = int(input(\"Enter the amount\"))\n",
    "            self.__balance = self.__balance + amount\n",
    "            print(f'{amount} Deposit Successful')\n",
    "        else:\n",
    "            print('Invalid pin')\n",
    "\n",
    "    def withdraw(self):\n",
    "        temp = input('Enter your pin')\n",
    "        if temp == self.__pin:\n",
    "            amount = int(input('Enter the amount'))\n",
    "            if amount <= self.__balance:                 \n",
    "                self.__balance = self.__balance - amount\n",
    "                print(f'{amount} Withdrawl successfully')\n",
    "            else:\n",
    "                print('Insufficient funds')\n",
    "        else:\n",
    "            print('Invalid pin')  \n",
    "    def check_balance(self):\n",
    "        temp = input('Enter your pin')\n",
    "        if temp == self.__pin:\n",
    "            print(f\"your balance is {self.__balance}\")\n",
    "        else:\n",
    "            print('Invalid pin')\n",
    "\n",
    "c1 = Atm()\n",
    "c2 = Atm()\n",
    "c3 = Atm()\n",
    "\n",
    "print(c1.sno)\n",
    "print(c2.sno)\n",
    "print(c3.sno)\n",
    "print(Atm.get_counter())\n",
    "print(Atm.set_counter(6))\n",
    "\n",
    "print(Atm.get_counter())"
   ]
  },
  {
   "cell_type": "markdown",
   "id": "ab580745-0cf0-4314-bba0-201e914ffed7",
   "metadata": {},
   "source": [
    "# Relationship between classes\n",
    "* Aggregation ---> Has a relation\n",
    "* Inheritance ---> Is a relation"
   ]
  },
  {
   "cell_type": "code",
   "execution_count": 168,
   "id": "f28f19b6-862e-4693-b26c-10abc1282a6f",
   "metadata": {},
   "outputs": [
    {
     "name": "stdout",
     "output_type": "stream",
     "text": [
      "Hydrabad\n",
      "735203\n",
      "Telangana\n"
     ]
    }
   ],
   "source": [
    "# Aggregation ---> Has a relation\n",
    "class customer:\n",
    "    def __init__(self,name,gender,address):\n",
    "        self.name = name\n",
    "        self.gender = gender\n",
    "        self.address = address\n",
    "    def edit_profile(self,new_name,new_city,new_pincode,new_state):\n",
    "        self.name = new_name\n",
    "        self.address.change_address(new_city,new_pincode,new_state)\n",
    "\n",
    "class Address:\n",
    "    def __init__(self,city,pincode,state):\n",
    "        self.city = city\n",
    "        self.pincode = pincode\n",
    "        self.state = state\n",
    "    def change_address(self,new_city,new_pincode,new_state):\n",
    "        self.city = new_city\n",
    "        self.pincode = new_pincode\n",
    "        self.state = new_state\n",
    "        \n",
    "add = Address('Hydrabad',735203,'Telangana')\n",
    "cust = customer('Aniket','male',add)\n",
    "\n",
    "print(cust.address.city)\n",
    "print(cust.address.pincode)\n",
    "print(cust.address.state)\n",
    "\n"
   ]
  },
  {
   "cell_type": "code",
   "execution_count": 167,
   "id": "f50c0490-6015-44f3-bb7e-bd099854a3d7",
   "metadata": {},
   "outputs": [
    {
     "name": "stdout",
     "output_type": "stream",
     "text": [
      "400234\n"
     ]
    }
   ],
   "source": [
    "class customer:\n",
    "    def __init__(self,name,gender,address):\n",
    "        self.name = name\n",
    "        self.gender = gender\n",
    "        self.address = address\n",
    "    def edit_profile(self,new_name,new_city,new_pincode,new_state):\n",
    "        self.name = new_name\n",
    "        self.address.change_address(new_city,new_pincode,new_state)\n",
    "\n",
    "class Address:\n",
    "    def __init__(self,city,pincode,state):\n",
    "        self.city = city\n",
    "        self.pincode = pincode\n",
    "        self.state = state\n",
    "    def change_address(self,new_city,new_pincode,new_state):\n",
    "        self.city = new_city\n",
    "        self.pincode = new_pincode\n",
    "        self.state = new_state\n",
    "        \n",
    "add = Address('Hydrabad',735203,'Telangana')\n",
    "cust = customer('Aniket','male',add)\n",
    "\n",
    "\n",
    "cust.edit_profile('Ankit','Mumbai',400234,'Maharashtra')\n",
    "print(cust.address.pincode)"
   ]
  },
  {
   "cell_type": "markdown",
   "id": "e57f6bdd-8625-4693-996b-4a5516dc38c4",
   "metadata": {},
   "source": [
    "#Inheritance ---> Is a relation\n",
    "* Benifits of using Inheritance is code reusabilty\n",
    "  \n",
    "** What a child class can inheritate from its parent class\n",
    "* Data members\n",
    "* Member function or method\n",
    "* cinstructor\n",
    "* private members are not inheritate"
   ]
  },
  {
   "cell_type": "code",
   "execution_count": 174,
   "id": "34ea17c7-6496-4707-a59a-a1a171087dfd",
   "metadata": {},
   "outputs": [
    {
     "name": "stdout",
     "output_type": "stream",
     "text": [
      "Enroll\n",
      "Register\n",
      "login\n",
      "Review\n"
     ]
    }
   ],
   "source": [
    "#Inheritance \n",
    "class User:\n",
    "    def login(self):\n",
    "        print('login')\n",
    "    def register(self):\n",
    "        print('Register')\n",
    "\n",
    "class Student(User):\n",
    "#  class student is the subclass of class User\n",
    "    def enroll(self):\n",
    "        print('Enroll')\n",
    "\n",
    "    def review(self):\n",
    "        print(\"Review\")\n",
    "\n",
    "stud1 = Student()\n",
    "stud1.enroll()\n",
    "stud1.register()\n",
    "stud1.login()\n",
    "stud1.review()\n",
    "\n",
    "#Here only student (childclass of User) can inheritate the property of\n",
    "#User(Parent class of Student vice versa is not true)'''"
   ]
  },
  {
   "cell_type": "code",
   "execution_count": 185,
   "id": "19fe6c8c-1f3d-466e-ae58-c1e08d33b82d",
   "metadata": {},
   "outputs": [
    {
     "data": {
      "image/png": "[encoded data removed]",
      "text/plain": [
       "<Figure size 640x480 with 1 Axes>"
      ]
     },
     "metadata": {},
     "output_type": "display_data"
    }
   ],
   "source": [
    "import matplotlib.pyplot as plt\n",
    "import matplotlib.image as mpimg\n",
    "img = mpimg.imread(r'C:\\Users\\suraj\\OneDrive\\Desktop\\Inheritence_class_dia.png')\n",
    "imgplot = plt.imshow(img)\n",
    "plt.axis('off') \n",
    "plt.show()"
   ]
  },
  {
   "cell_type": "code",
   "execution_count": 190,
   "id": "819c11ff-4f4f-4df3-b9de-c04e0ca1d764",
   "metadata": {},
   "outputs": [
    {
     "name": "stdout",
     "output_type": "stream",
     "text": [
      "Inside phone constructor\n",
      "Apple\n",
      "108pxl\n"
     ]
    }
   ],
   "source": [
    "# Inheritating Constructor\n",
    "class Phone:\n",
    "    def __init__(self,price,brand,camera):\n",
    "        print('Inside phone constructor')\n",
    "        self.price = price\n",
    "        self.brand = brand\n",
    "        self.camera = camera\n",
    "\n",
    "class SmartPhone(Phone):\n",
    "    pass\n",
    "\n",
    "M = SmartPhone(20000,'Apple','108pxl')\n",
    "print(M.brand)\n",
    "print(M.camera)"
   ]
  },
  {
   "cell_type": "raw",
   "id": "5ac91485-ac51-4f7a-9ae4-1e16ad62e207",
   "metadata": {},
   "source": [
    "# Inheritating Private member\n",
    "class Phone:\n",
    "    def __init__(self,price,brand,camera):\n",
    "        print('Inside phone constructor')\n",
    "        self.price = price\n",
    "        self.__brand = brand # Private data member\n",
    "        self.camera = camera\n",
    "# While inheritating object of child class can only access the public attributes of its parent class\n",
    "class SmartPhone(Phone):\n",
    "    pass\n",
    "\n",
    "M = SmartPhone(20000,'Apple','108pxl')\n",
    "print(M.__brand)\n"
   ]
  },
  {
   "cell_type": "markdown",
   "id": "b1ca3289-979c-4992-9487-2121f3023134",
   "metadata": {},
   "source": [
    "# Polymorphism\n",
    "\n",
    "* Method Overriding\n",
    "* Method Overloading\n",
    "* Operator Overloading"
   ]
  },
  {
   "cell_type": "markdown",
   "id": "9b5fae83-64c4-4b1e-87ba-b9464a875f15",
   "metadata": {},
   "source": [
    "# Method Overriding"
   ]
  },
  {
   "cell_type": "code",
   "execution_count": 193,
   "id": "babb81e6-6d09-40cb-bf37-eb0ad502b79d",
   "metadata": {},
   "outputs": [
    {
     "name": "stdout",
     "output_type": "stream",
     "text": [
      "Inside phone constructor\n",
      "Buying a smartphone\n"
     ]
    }
   ],
   "source": [
    "# Method Overriding\n",
    "class Phone:\n",
    "    def __init__(self,price,brand,camera):\n",
    "        print('Inside phone constructor')\n",
    "        self.price = price\n",
    "        self.brand = brand\n",
    "        self.camera = camera\n",
    "\n",
    "    def buy(self):\n",
    "        print(\"Buying a phone\")\n",
    "\n",
    "class SmartPhone(Phone):\n",
    "    def buy(self):\n",
    "        print(\"Buying a smartphone\")\n",
    "\n",
    "M = SmartPhone(20000,'Apple','108pxl')\n",
    "M.buy()"
   ]
  },
  {
   "cell_type": "code",
   "execution_count": 197,
   "id": "cdf218ba-ab3c-4687-a1ed-d02a4ed5d409",
   "metadata": {},
   "outputs": [
    {
     "name": "stdout",
     "output_type": "stream",
     "text": [
      "100\n",
      "This is in child class\n"
     ]
    }
   ],
   "source": [
    "# Example --> 1\n",
    "class parent:\n",
    "    def __init__(self,num):\n",
    "        self.__num = num\n",
    "        \n",
    "    def get_num(self):\n",
    "        return self.__num\n",
    "\n",
    "class Child(parent):\n",
    "    def show(self):\n",
    "        print('This is in child class')\n",
    "\n",
    "son = Child(100)\n",
    "print(son.get_num())\n",
    "son.show()"
   ]
  },
  {
   "cell_type": "code",
   "execution_count": 205,
   "id": "cd1ce0c6-da86-4cfe-a9ae-075c2020e94e",
   "metadata": {},
   "outputs": [
    {
     "name": "stdout",
     "output_type": "stream",
     "text": [
      "Parent: Num: 10\n",
      "Child: val: 100\n"
     ]
    }
   ],
   "source": [
    "# Example --> 2\n",
    "class parent:\n",
    "    def __init__(self,num):\n",
    "        self.__num = num\n",
    "\n",
    "    def get_num(self):\n",
    "        return self.__num\n",
    "\n",
    "class Child(parent):\n",
    "    def __init__(self,val,num):\n",
    "       # super().__init__(num)\n",
    "        self.__val = val\n",
    "# If child class has its own constructor than constructor of parent class will not invoke automatically.\n",
    "# Parent class constructor will only invoke automatically if there child class dont there constructor.\n",
    "    def get_val(self):\n",
    "        return self.__val\n",
    "\n",
    "son = Child(100,10)\n",
    "print('Parent: Num:',son.get_num())\n",
    "print('Child: val:',son.get_val())\n"
   ]
  },
  {
   "cell_type": "code",
   "execution_count": 209,
   "id": "75356cf5-ea54-40b6-9c86-a3465928c1bd",
   "metadata": {},
   "outputs": [
    {
     "name": "stdout",
     "output_type": "stream",
     "text": [
      "Class A: 100\n"
     ]
    }
   ],
   "source": [
    "# Example --> 3\n",
    "\n",
    "class A:\n",
    "    def __init__(self):\n",
    "        self.var1 = 100\n",
    "\n",
    "    def display1(self,var1):\n",
    "        print('Class A:', self.var1)\n",
    "\n",
    "class B(A):\n",
    "\n",
    "    def display2(self,var1):\n",
    "        print('class B:',self.var1)\n",
    "\n",
    "obj = B()\n",
    "obj.display1(200)"
   ]
  },
  {
   "cell_type": "markdown",
   "id": "f9c4bce3-f310-4505-89fa-ab56e75044c2",
   "metadata": {},
   "source": [
    "# super()"
   ]
  },
  {
   "cell_type": "code",
   "execution_count": 212,
   "id": "a9d1b252-be3e-4a21-80dc-9e3b19455a53",
   "metadata": {},
   "outputs": [
    {
     "name": "stdout",
     "output_type": "stream",
     "text": [
      "Inside phone constructor\n",
      "Buying a smartphone\n",
      "Buying a phone\n"
     ]
    }
   ],
   "source": [
    "# super(). it is use to invoke the parent class constructor or method\n",
    "class Phone:\n",
    "    def __init__(self,price,brand,camera):\n",
    "        print('Inside phone constructor')\n",
    "        self.price = price\n",
    "        self.brand = brand\n",
    "        self.camera = camera\n",
    "\n",
    "    def buy(self):\n",
    "        print(\"Buying a phone\")\n",
    "\n",
    "class SmartPhone(Phone):\n",
    "    def buy(self):\n",
    "        #super().buy()\n",
    "        print(\"Buying a smartphone\")\n",
    "        super().buy()\n",
    "\n",
    "M = SmartPhone(20000,'Apple','108pxl')\n",
    "M.buy()"
   ]
  },
  {
   "cell_type": "code",
   "execution_count": 216,
   "id": "1a032c8b-5bb7-43f5-93ca-016ddccea5e4",
   "metadata": {},
   "outputs": [
    {
     "name": "stdout",
     "output_type": "stream",
     "text": [
      "Inside Car constructor\n",
      "Buying a a sports car\n",
      "Buying a car\n"
     ]
    }
   ],
   "source": [
    "\n",
    "class Car:\n",
    "    def __init__(self,price,brand,color):\n",
    "        print('Inside Car constructor')\n",
    "        self.price = price\n",
    "        self.brand = brand\n",
    "        self.color = color\n",
    "\n",
    "    def buy(self):\n",
    "        print(\"Buying a car\")\n",
    "\n",
    "class Sportscar(Car):\n",
    "    def buy(self):\n",
    "        #super().buy()\n",
    "        print(\"Buying a a sports car\")\n",
    "        super().buy()\n",
    "\n",
    "car1 = Sportscar(2000000,'BMW-M8','Black')\n",
    "car1.buy()"
   ]
  },
  {
   "cell_type": "code",
   "execution_count": 7,
   "id": "36c3aef8-8dff-4508-b924-34c133402710",
   "metadata": {},
   "outputs": [
    {
     "name": "stdout",
     "output_type": "stream",
     "text": [
      "Inside smartphone constructor\n",
      "Android 16\n",
      "120000 samsung 108pxl\n"
     ]
    }
   ],
   "source": [
    "# Example of super() with constructor\n",
    "class Phone:\n",
    "    def __init__(self,price,brand,camera):\n",
    "        self.price = price\n",
    "        self.brand = brand\n",
    "        self.camera = camera\n",
    "\n",
    "class SmartPhone(Phone):\n",
    "    def __init__(self,price,brand,camera,os,ram):\n",
    "        super().__init__(price,brand,camera)\n",
    "        self.os = os\n",
    "        self.ram = ram\n",
    "        print(\"Inside smartphone constructor\")\n",
    "\n",
    "S = SmartPhone(120000,'samsung','108pxl','Android',16)\n",
    "print(S.os,S.ram)\n",
    "print(S.price,S.brand,S.camera)"
   ]
  },
  {
   "cell_type": "code",
   "execution_count": 16,
   "id": "63f4d482-90ad-4555-8a24-99e2085865e9",
   "metadata": {},
   "outputs": [
    {
     "name": "stdout",
     "output_type": "stream",
     "text": [
      "5 8\n"
     ]
    }
   ],
   "source": [
    "#Example\n",
    "\n",
    "class Parent:\n",
    "\n",
    "    def __init__(self,num):\n",
    "        self.__num = num\n",
    "\n",
    "    def get_num(self):\n",
    "        return self.__num\n",
    "\n",
    "class child(Parent):\n",
    "    def __init__(self,num,val):\n",
    "        super().__init__(num) # super() should be the first statement in constructor\n",
    "        self.__val = val\n",
    "    def get_val(self):\n",
    "        return self.__val\n",
    "\n",
    "son = child(5,8)\n",
    "print(son.get_num(),son.get_val())"
   ]
  },
  {
   "cell_type": "code",
   "execution_count": 19,
   "id": "6386af77-dd1c-43d2-ac8f-f1abd12a6b3e",
   "metadata": {},
   "outputs": [
    {
     "name": "stdout",
     "output_type": "stream",
     "text": [
      "100\n",
      "200\n",
      "None\n"
     ]
    }
   ],
   "source": [
    "#Example\n",
    "\n",
    "class Parent:\n",
    "    def __init__(self):\n",
    "        self.num = 100\n",
    "\n",
    "class child(Parent):\n",
    "    def __init__(self):\n",
    "        super().__init__()\n",
    "        self.val = 200\n",
    "\n",
    "    def show(self):\n",
    "        print(self.num)\n",
    "        print(self.val)\n",
    "\n",
    "son = child()\n",
    "print(son.show())"
   ]
  },
  {
   "cell_type": "code",
   "execution_count": 24,
   "id": "5716ee5a-2a94-42f3-aa3a-fa76fc5d5a88",
   "metadata": {},
   "outputs": [
    {
     "name": "stdout",
     "output_type": "stream",
     "text": [
      "Parent 100\n",
      "None\n"
     ]
    },
    {
     "ename": "AttributeError",
     "evalue": "'Child' object has no attribute '_Child__val'",
     "output_type": "error",
     "traceback": [
      "\u001b[1;31m---------------------------------------------------------------------------\u001b[0m",
      "\u001b[1;31mAttributeError\u001b[0m                            Traceback (most recent call last)",
      "Cell \u001b[1;32mIn[24], line 21\u001b[0m\n\u001b[0;32m     18\u001b[0m \u001b[38;5;28mprint\u001b[39m(dad\u001b[38;5;241m.\u001b[39mshow())\n\u001b[0;32m     20\u001b[0m son \u001b[38;5;241m=\u001b[39mChild()\n\u001b[1;32m---> 21\u001b[0m \u001b[38;5;28mprint\u001b[39m(son\u001b[38;5;241m.\u001b[39mshow())\n",
      "Cell \u001b[1;32mIn[24], line 15\u001b[0m, in \u001b[0;36mChild.show\u001b[1;34m(self)\u001b[0m\n\u001b[0;32m     14\u001b[0m \u001b[38;5;28;01mdef\u001b[39;00m \u001b[38;5;21mshow\u001b[39m(\u001b[38;5;28mself\u001b[39m):\n\u001b[1;32m---> 15\u001b[0m     \u001b[38;5;28mprint\u001b[39m(\u001b[38;5;124m'\u001b[39m\u001b[38;5;124mChild\u001b[39m\u001b[38;5;124m'\u001b[39m,\u001b[38;5;28mself\u001b[39m\u001b[38;5;241m.\u001b[39m__val)\n",
      "\u001b[1;31mAttributeError\u001b[0m: 'Child' object has no attribute '_Child__val'"
     ]
    }
   ],
   "source": [
    "#Example\n",
    "class Parent:\n",
    "    def __init__(self):\n",
    "        self.__num = 100\n",
    "\n",
    "    def show(self):\n",
    "        print(\"Parent\",self.__num)\n",
    "\n",
    "class Child(Parent):\n",
    "    def __init(self):\n",
    "        super().__init__()\n",
    "        self.__val = 200\n",
    "\n",
    "    def show(self):\n",
    "        print('Child',self.__val)\n",
    "\n",
    "dad = Parent()\n",
    "print(dad.show())\n",
    "\n",
    "son =Child()\n",
    "print(son.show())\n",
    "\n",
    "\n",
    "    "
   ]
  },
  {
   "cell_type": "markdown",
   "id": "ff3d1a52-4e05-4c22-a68f-236b499afe24",
   "metadata": {},
   "source": [
    "# Types of Inheritance\n",
    "\n",
    "1. Single-Level-Inheritance\n",
    "--> In this there is a single parent class and a single child class and the child class inheting with the parent class.\n",
    "\n",
    "2. Multi-Level-Inheritance \n",
    "--> In this there are multiple class in which every child class can inheritate with there parent class and also with parents parent class.\n",
    "\n",
    "3.  Heirarical-Inheritance   \n",
    "--> In this a single parent class can have multiple child class.\n",
    "\n",
    "4. Multiple-Inheritance #it is not available in JAVA\n",
    "--> In this a single child class can have two parent class.\n",
    "\n",
    "5. Hybrid- Inheritance\n",
    "--> Mixture off all the above inheritance"
   ]
  },
  {
   "cell_type": "code",
   "execution_count": 28,
   "id": "b3a2c4b2-5e9f-4085-9d96-10c085951bed",
   "metadata": {},
   "outputs": [
    {
     "name": "stdout",
     "output_type": "stream",
     "text": [
      "inside phone constructor\n",
      "Buying a phone\n",
      "Review the product\n"
     ]
    }
   ],
   "source": [
    "#Multiple-Inheritance \n",
    "\n",
    "class Phone:\n",
    "    def __init__(self,price,brand,camera):\n",
    "        print('inside phone constructor')\n",
    "        self.price = price\n",
    "        self.brand = brand\n",
    "        self.camera = camera\n",
    "    def buy(self):\n",
    "        print(\"Buying a phone\")\n",
    "\n",
    "class product:\n",
    "    def review(self):\n",
    "        print('Review the product')\n",
    "\n",
    "class Smartphone(Phone,product):\n",
    "    pass\n",
    "\n",
    "s =  Smartphone(20000,\"Apple\",12)\n",
    "\n",
    "s.buy()\n",
    "s.review()"
   ]
  },
  {
   "cell_type": "code",
   "execution_count": 31,
   "id": "b239f88c-bd7a-48fc-a9a9-05abcbba3c66",
   "metadata": {},
   "outputs": [
    {
     "name": "stdout",
     "output_type": "stream",
     "text": [
      "inside phone constructor\n",
      "Buy a product\n"
     ]
    }
   ],
   "source": [
    "# MRO --> mMthod resolustion orded\n",
    "class Phone:\n",
    "    def __init__(self,price,brand,camera):\n",
    "        print('inside phone constructor')\n",
    "        self.price = price\n",
    "        self.brand = brand\n",
    "        self.camera = camera\n",
    "    def buy(self):\n",
    "        print(\"Buying a phone\")\n",
    "\n",
    "class product:\n",
    "    def buy(self):\n",
    "        print('Buy a product')\n",
    "#class Smartphone(Phone,product):\n",
    "class Smartphone(product,Phone):\n",
    "    pass\n",
    "\n",
    "s =  Smartphone(20000,\"Apple\",12)\n",
    "\n",
    "s.buy()"
   ]
  },
  {
   "cell_type": "code",
   "execution_count": 36,
   "id": "6d76ebff-5531-44c5-ad43-def8202cff5b",
   "metadata": {},
   "outputs": [
    {
     "name": "stdout",
     "output_type": "stream",
     "text": [
      "20\n",
      "30\n",
      "40\n",
      "90\n"
     ]
    }
   ],
   "source": [
    "# Example\n",
    "class A:\n",
    "    def m1(self):\n",
    "        return 20\n",
    "\n",
    "class B(A):\n",
    "    def m1(self):\n",
    "        return 30\n",
    "\n",
    "    def m2(self):\n",
    "        return 50\n",
    "\n",
    "class C(B):\n",
    "    def m2(self):\n",
    "        return 40\n",
    "\n",
    "obj1 =A()\n",
    "obj2 =B()\n",
    "obj3 = C()\n",
    "\n",
    "print(obj1.m1())\n",
    "print(obj3.m1())\n",
    "print(obj3.m2())\n",
    "\n",
    "print(obj1.m1() + obj3.m1() + obj3.m2())"
   ]
  },
  {
   "cell_type": "code",
   "execution_count": 38,
   "id": "1bdc560f-48da-4f14-abae-e0e71cb4a7e7",
   "metadata": {},
   "outputs": [
    {
     "ename": "RecursionError",
     "evalue": "maximum recursion depth exceeded",
     "output_type": "error",
     "traceback": [
      "\u001b[1;31m---------------------------------------------------------------------------\u001b[0m",
      "\u001b[1;31mRecursionError\u001b[0m                            Traceback (most recent call last)",
      "Cell \u001b[1;32mIn[38], line 17\u001b[0m\n\u001b[0;32m     15\u001b[0m \u001b[38;5;66;03m# infinite recursion\u001b[39;00m\n\u001b[0;32m     16\u001b[0m obj \u001b[38;5;241m=\u001b[39m C()\n\u001b[1;32m---> 17\u001b[0m \u001b[38;5;28mprint\u001b[39m(obj\u001b[38;5;241m.\u001b[39mm1())\n",
      "Cell \u001b[1;32mIn[38], line 13\u001b[0m, in \u001b[0;36mC.m1\u001b[1;34m(self)\u001b[0m\n\u001b[0;32m     12\u001b[0m \u001b[38;5;28;01mdef\u001b[39;00m \u001b[38;5;21mm1\u001b[39m(\u001b[38;5;28mself\u001b[39m):\n\u001b[1;32m---> 13\u001b[0m     val \u001b[38;5;241m=\u001b[39m \u001b[38;5;28mself\u001b[39m\u001b[38;5;241m.\u001b[39mm1() \u001b[38;5;241m+\u001b[39m \u001b[38;5;241m20\u001b[39m\n\u001b[0;32m     14\u001b[0m     \u001b[38;5;28;01mreturn\u001b[39;00m val\n",
      "Cell \u001b[1;32mIn[38], line 13\u001b[0m, in \u001b[0;36mC.m1\u001b[1;34m(self)\u001b[0m\n\u001b[0;32m     12\u001b[0m \u001b[38;5;28;01mdef\u001b[39;00m \u001b[38;5;21mm1\u001b[39m(\u001b[38;5;28mself\u001b[39m):\n\u001b[1;32m---> 13\u001b[0m     val \u001b[38;5;241m=\u001b[39m \u001b[38;5;28mself\u001b[39m\u001b[38;5;241m.\u001b[39mm1() \u001b[38;5;241m+\u001b[39m \u001b[38;5;241m20\u001b[39m\n\u001b[0;32m     14\u001b[0m     \u001b[38;5;28;01mreturn\u001b[39;00m val\n",
      "    \u001b[1;31m[... skipping similar frames: C.m1 at line 13 (2970 times)]\u001b[0m\n",
      "Cell \u001b[1;32mIn[38], line 13\u001b[0m, in \u001b[0;36mC.m1\u001b[1;34m(self)\u001b[0m\n\u001b[0;32m     12\u001b[0m \u001b[38;5;28;01mdef\u001b[39;00m \u001b[38;5;21mm1\u001b[39m(\u001b[38;5;28mself\u001b[39m):\n\u001b[1;32m---> 13\u001b[0m     val \u001b[38;5;241m=\u001b[39m \u001b[38;5;28mself\u001b[39m\u001b[38;5;241m.\u001b[39mm1() \u001b[38;5;241m+\u001b[39m \u001b[38;5;241m20\u001b[39m\n\u001b[0;32m     14\u001b[0m     \u001b[38;5;28;01mreturn\u001b[39;00m val\n",
      "\u001b[1;31mRecursionError\u001b[0m: maximum recursion depth exceeded"
     ]
    }
   ],
   "source": [
    "# Example\n",
    "class A:\n",
    "    def m1(self):\n",
    "        return 20\n",
    "\n",
    "class B(A):\n",
    "    def m1(self):\n",
    "        val=super().m1()+30\n",
    "        return val\n",
    "\n",
    "class C(B):\n",
    "    def m1(self):\n",
    "        val = self.m1() + 20\n",
    "        return val\n",
    "# infinite recursion\n",
    "obj = C()\n",
    "print(obj.m1()) "
   ]
  },
  {
   "cell_type": "markdown",
   "id": "9c3330ae-1d91-4547-953d-1d0558e9a6a5",
   "metadata": {},
   "source": [
    "# Method Overloading\n",
    "* Technically this method doesnt exist in python but we can do it by making own logics."
   ]
  },
  {
   "cell_type": "code",
   "execution_count": 44,
   "id": "71039d77-9d88-450f-b40e-7bb6f922ed27",
   "metadata": {},
   "outputs": [
    {
     "ename": "TypeError",
     "evalue": "Geometry.area() missing 1 required positional argument: 'breadth'",
     "output_type": "error",
     "traceback": [
      "\u001b[1;31m---------------------------------------------------------------------------\u001b[0m",
      "\u001b[1;31mTypeError\u001b[0m                                 Traceback (most recent call last)",
      "Cell \u001b[1;32mIn[44], line 9\u001b[0m\n\u001b[0;32m      6\u001b[0m         \u001b[38;5;28;01mreturn\u001b[39;00m \u001b[38;5;28mlen\u001b[39m \u001b[38;5;241m*\u001b[39m breadth\n\u001b[0;32m      8\u001b[0m obj \u001b[38;5;241m=\u001b[39m Geometry()\n\u001b[1;32m----> 9\u001b[0m \u001b[38;5;28mprint\u001b[39m(obj\u001b[38;5;241m.\u001b[39marea(\u001b[38;5;241m5\u001b[39m))\n",
      "\u001b[1;31mTypeError\u001b[0m: Geometry.area() missing 1 required positional argument: 'breadth'"
     ]
    }
   ],
   "source": [
    "class Geometry:\n",
    "    def area(self,radius):\n",
    "        return 3.14 * radius * radius\n",
    "\n",
    "    def area(self,len,breadth):\n",
    "        return len * breadth\n",
    "\n",
    "obj = Geometry()\n",
    "print(obj.area(5))"
   ]
  },
  {
   "cell_type": "code",
   "execution_count": 46,
   "id": "407afbeb-d504-44df-b5a5-e0db194ec984",
   "metadata": {},
   "outputs": [
    {
     "name": "stdout",
     "output_type": "stream",
     "text": [
      "Circle 78.5\n",
      "None\n",
      "Rect 50\n",
      "None\n"
     ]
    }
   ],
   "source": [
    "class Geometry:\n",
    "    def area(self,a,b=0):\n",
    "        if b==0:\n",
    "            print('Circle',3.14 *a*a)\n",
    "        else:\n",
    "            print('Rect',a * b)\n",
    "            \n",
    "obj = Geometry()\n",
    "print(obj.area(5))\n",
    "print(obj.area(5,10))"
   ]
  },
  {
   "cell_type": "markdown",
   "id": "6085ec90-93f2-4518-8ae1-fe1db4b7fbc4",
   "metadata": {},
   "source": [
    "# Operator Overloading\n",
    "*  Operator overloading in Python is the practice of defining or modifying the behavior of operators (such as +, -, *, ==, etc.)\n",
    "* For user-defined classes by implementing special methods. These special methods have predefined names, such as __add__, __sub__, and __mul__, and allow objects of a class to interact with standard operators in a customized way.\n",
    "  \n",
    "### Summary of common operator overload methods:\r\n",
    "\r\n",
    "- **Addition (`+`)**: `__add__(self, other)`\r\n",
    "- **Subtraction (`-`)**: `__sub__(self, other)`\r\n",
    "- **Multiplication (`*`)**: `__mul__(self, other)`\r\n",
    "- **Division (`/`)**: `__truediv__(self, other)`\r\n",
    "- **Equality (`==`)**: `__eq__(self, other)`\r\n",
    "- **Less than (`<`)**: `__lt__(self, other)`\r\n",
    "- **Greater than (`>`)**: `__gt__(self, other)`\r\n",
    "- **String representation (`str()`)**: `__str__(self)`\r\n",
    "- **Indexing (`[]`)**: `__getitem__(self, index)`\r\n",
    "\n",
    "\n"
   ]
  },
  {
   "cell_type": "code",
   "execution_count": 47,
   "id": "03fce014-e751-490a-b21f-c769a4278d96",
   "metadata": {},
   "outputs": [
    {
     "name": "stdout",
     "output_type": "stream",
     "text": [
      "Requirement already satisfied: requests in c:\\users\\suraj\\anaconda3\\lib\\site-packages (2.31.0)\n",
      "Requirement already satisfied: charset-normalizer<4,>=2 in c:\\users\\suraj\\anaconda3\\lib\\site-packages (from requests) (2.0.4)\n",
      "Requirement already satisfied: idna<4,>=2.5 in c:\\users\\suraj\\anaconda3\\lib\\site-packages (from requests) (3.4)\n",
      "Requirement already satisfied: urllib3<3,>=1.21.1 in c:\\users\\suraj\\anaconda3\\lib\\site-packages (from requests) (1.26.18)\n",
      "Requirement already satisfied: certifi>=2017.4.17 in c:\\users\\suraj\\anaconda3\\lib\\site-packages (from requests) (2023.11.17)\n"
     ]
    }
   ],
   "source": [
    "!pip install requests"
   ]
  },
  {
   "cell_type": "code",
   "execution_count": 48,
   "id": "512308bb-99b6-4f90-ba4e-743105a9722f",
   "metadata": {},
   "outputs": [
    {
     "name": "stdin",
     "output_type": "stream",
     "text": [
      "How would you like to proceed?\n",
      "        1. Enter 1 to check live train status\n",
      "        2. Enter 2 to check PNR\n",
      "        3. Enter 3 to check train schedule 3\n",
      "Enter the train number 12222\n"
     ]
    },
    {
     "name": "stdout",
     "output_type": "stream",
     "text": [
      "[{'SerialNo': '1', 'StationCode': 'HWH', 'StationName': 'HOWRAH JN.', 'ArrivalTime': '08:20:00', 'DepartureTime': '08:20:00', 'Distance': '0', 'Day': None}, {'SerialNo': '2', 'StationCode': 'TATA', 'StationName': 'TATANAGAR JN', 'ArrivalTime': '11:38:00', 'DepartureTime': '11:48:00', 'Distance': '254', 'Day': None}, {'SerialNo': '3', 'StationCode': 'BSP', 'StationName': 'BILASPUR JN.', 'ArrivalTime': '17:35:00', 'DepartureTime': '17:45:00', 'Distance': '720', 'Day': None}, {'SerialNo': '4', 'StationCode': 'NGP', 'StationName': 'NAGPUR JN.(C', 'ArrivalTime': '23:20:00', 'DepartureTime': '23:25:00', 'Distance': '1137', 'Day': None}, {'SerialNo': '5', 'StationCode': 'BSL', 'StationName': 'BHUSAVAL JN.', 'ArrivalTime': '03:42:00', 'DepartureTime': '03:47:00', 'Distance': '1534', 'Day': None}, {'SerialNo': '6', 'StationCode': 'MMR', 'StationName': 'MANMAD JN.', 'ArrivalTime': '06:00:00', 'DepartureTime': '06:03:00', 'Distance': '1718', 'Day': None}, {'SerialNo': '7', 'StationCode': 'DD', 'StationName': 'DAUND JN.', 'ArrivalTime': '10:00:00', 'DepartureTime': '10:15:00', 'Distance': '1955', 'Day': None}, {'SerialNo': '8', 'StationCode': 'PUNE', 'StationName': 'PUNE JN.', 'ArrivalTime': '11:45:00', 'DepartureTime': '11:45:00', 'Distance': '2033', 'Day': None}]\n",
      "HOWRAH JN. | 08:20:00 08:20:00 0 kms\n",
      "TATANAGAR JN | 11:38:00 11:48:00 254 kms\n",
      "BILASPUR JN. | 17:35:00 17:45:00 720 kms\n",
      "NAGPUR JN.(C | 23:20:00 23:25:00 1137 kms\n",
      "BHUSAVAL JN. | 03:42:00 03:47:00 1534 kms\n",
      "MANMAD JN. | 06:00:00 06:03:00 1718 kms\n",
      "DAUND JN. | 10:00:00 10:15:00 1955 kms\n",
      "PUNE JN. | 11:45:00 11:45:00 2033 kms\n",
      "<__main__.IRCTC object at 0x000001DC8DB4C510>\n"
     ]
    }
   ],
   "source": [
    "import requests\n",
    "\n",
    "class IRCTC:\n",
    "    def __init__(self):\n",
    "\n",
    "        user_input = input(\"\"\"How would you like to proceed?\n",
    "        1. Enter 1 to check live train status\n",
    "        2. Enter 2 to check PNR\n",
    "        3. Enter 3 to check train schedule\"\"\")\n",
    "\n",
    "        if user_input == '1':\n",
    "            print(\"live train status\")\n",
    "\n",
    "        elif user_input == '2':\n",
    "            print('PNR')\n",
    "        else:\n",
    "            self.train_schedule()\n",
    "\n",
    "    def train_schedule(self):\n",
    "            train_no = input(\"Enter the train number\")\n",
    "            self.fetch_data(train_no)\n",
    "\n",
    "    def fetch_data(self,train_no):\n",
    "        data = requests.get(f\"https://indianrailapi.com/api/v2/TrainSchedule/apikey/cd09157f1dd7fa20cd97fb763d25f2b9/TrainNumber/{train_no}\")\n",
    "\n",
    "        data = data.json()\n",
    "        print(data['Route'])\n",
    "        for i in data['Route']:\n",
    "            print(i['StationName'],'|',i['ArrivalTime'],i['DepartureTime'],i['Distance'],'kms')\n",
    "obj = IRCTC()\n",
    "\n",
    "print(obj)\n"
   ]
  },
  {
   "cell_type": "code",
   "execution_count": null,
   "id": "26bb7bd2-9435-4e80-9e2d-2ae011a8deb2",
   "metadata": {},
   "outputs": [],
   "source": []
  }
 ],
 "metadata": {
  "kernelspec": {
   "display_name": "Python 3 (ipykernel)",
   "language": "python",
   "name": "python3"
  },
  "language_info": {
   "codemirror_mode": {
    "name": "ipython",
    "version": 3
   },
   "file_extension": ".py",
   "mimetype": "text/x-python",
   "name": "python",
   "nbconvert_exporter": "python",
   "pygments_lexer": "ipython3",
   "version": "3.11.5"
  }
 },
 "nbformat": 4,
 "nbformat_minor": 5
}
