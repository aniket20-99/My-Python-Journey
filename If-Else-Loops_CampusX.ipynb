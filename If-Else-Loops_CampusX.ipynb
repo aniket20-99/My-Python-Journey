{
 "cells": [
  {
   "cell_type": "markdown",
   "id": "ec7d35ac-8742-44b2-b4b1-a00590466d31",
   "metadata": {},
   "source": [
    "# Operators in Python\n",
    "\n",
    "* Arithmatic Operators\n",
    "* Relational Operators\n",
    "* Logical Operators\n",
    "* Bitwise Operators\n",
    "* Assignment Operators\n",
    "* Membership Operators"
   ]
  },
  {
   "cell_type": "code",
   "execution_count": 7,
   "id": "571ce666-7238-4c05-94a4-d36715a97ba2",
   "metadata": {},
   "outputs": [
    {
     "name": "stdout",
     "output_type": "stream",
     "text": [
      "29\n",
      "7\n",
      "45\n",
      "3.3333333333333335\n",
      "3.5\n"
     ]
    }
   ],
   "source": [
    "#Arithmatic operator\n",
    "\n",
    "print(10+19)\n",
    "print(20-13)\n",
    "print(5*9)\n",
    "print(10/3)\n",
    "print(7/2)"
   ]
  },
  {
   "cell_type": "code",
   "execution_count": 8,
   "id": "7b8555c1-47e3-418c-b737-62d77349c6f3",
   "metadata": {},
   "outputs": [
    {
     "name": "stdout",
     "output_type": "stream",
     "text": [
      "False\n",
      "False\n",
      "False\n",
      "False\n",
      "True\n",
      "True\n"
     ]
    }
   ],
   "source": [
    "#Relational Operators\n",
    "print(4>5)\n",
    "print(10<8)\n",
    "print(4>=8)\n",
    "print(9<=3)\n",
    "print(5==5)\n",
    "print(9!=8)\n"
   ]
  },
  {
   "cell_type": "code",
   "execution_count": 11,
   "id": "d2863bd5-2903-4449-b0e3-9e4948541f11",
   "metadata": {},
   "outputs": [
    {
     "name": "stdout",
     "output_type": "stream",
     "text": [
      "0\n",
      "1\n",
      "False\n"
     ]
    }
   ],
   "source": [
    "#Logical Operators\n",
    "print(1 and 0)\n",
    "print(1 or 0)\n",
    "print( not 1)"
   ]
  },
  {
   "cell_type": "code",
   "execution_count": 13,
   "id": "4d8fcf34-c017-4667-bc7e-06fcf59dbb14",
   "metadata": {},
   "outputs": [
    {
     "name": "stdout",
     "output_type": "stream",
     "text": [
      "2\n",
      "3\n",
      "1\n"
     ]
    }
   ],
   "source": [
    "#Bitwise Operators\n",
    "#bitwise and\n",
    "print(2 & 3)\n",
    "\n",
    "#bitwise or\n",
    "print( 2 | 3) \n",
    "\n",
    "#bitwise xor\n",
    "print(2 ^ 3) \n",
    "\n",
    "#bitwise not\n",
    "print(~3)\n",
    "\n",
    "#bitwise left \n",
    "print(4>>2) \n",
    "\n",
    "#bitwise right\n",
    "print(5<<2) \n"
   ]
  },
  {
   "cell_type": "code",
   "execution_count": 15,
   "id": "cc1ce8b1-61b8-4e71-86d5-76adab98f987",
   "metadata": {},
   "outputs": [
    {
     "name": "stdout",
     "output_type": "stream",
     "text": [
      "4\n"
     ]
    }
   ],
   "source": [
    "# Assignment operators\n",
    "a = 2\n",
    "a += 2\n",
    "print(a)"
   ]
  },
  {
   "cell_type": "code",
   "execution_count": 19,
   "id": "95cf90e5-f8b0-4c24-a2d2-448dce671f04",
   "metadata": {},
   "outputs": [
    {
     "name": "stdout",
     "output_type": "stream",
     "text": [
      "True\n",
      "False\n"
     ]
    }
   ],
   "source": [
    "# Membership Operators\n",
    "\n",
    "# in/not in operator\n",
    "\n",
    "print('D' in 'Delhi')\n",
    "print('e' not in 'Delhi')"
   ]
  },
  {
   "cell_type": "code",
   "execution_count": 29,
   "id": "4de3e9ee-f9bf-4c49-acb5-4fa297d3c64d",
   "metadata": {},
   "outputs": [
    {
     "name": "stdin",
     "output_type": "stream",
     "text": [
      "Enter three digit number 567\n"
     ]
    },
    {
     "name": "stdout",
     "output_type": "stream",
     "text": [
      "18\n"
     ]
    }
   ],
   "source": [
    "# Program Find the sum of 3 digit number entered by the user\n",
    "\n",
    "num  = int(input(\"Enter three digit number\"))\n",
    "\n",
    "# 345%10 --> 5\n",
    "a = num%10\n",
    "\n",
    "num = num//10\n",
    "\n",
    "# 34%10-->4\n",
    "b = num % 10\n",
    "\n",
    "num = num // 10\n",
    "\n",
    "# 3 % 10 --> 3\n",
    "\n",
    "c = num % 10\n",
    "\n",
    "print( a + b +c)\n"
   ]
  },
  {
   "cell_type": "markdown",
   "id": "f433665e-3d51-452f-a030-6e13937b83a5",
   "metadata": {},
   "source": [
    "# If-else Statement"
   ]
  },
  {
   "cell_type": "code",
   "execution_count": 31,
   "id": "335f8713-54af-43fa-bacf-867cc5ffdd69",
   "metadata": {},
   "outputs": [
    {
     "name": "stdin",
     "output_type": "stream",
     "text": [
      "Enter your Email suraj77448@gmail.com\n",
      "Enter Password 78888\n"
     ]
    },
    {
     "name": "stdout",
     "output_type": "stream",
     "text": [
      "Welcome\n"
     ]
    }
   ],
   "source": [
    "# login program and indentation\n",
    "# email -> suraj77448@gmail.com\n",
    "# password =78888\n",
    "\n",
    "'''if condition:\n",
    "    #code\n",
    "else:\n",
    "    #code'''\n",
    "\n",
    "email = input('Enter your Email')\n",
    "password = input('Enter Password')\n",
    "\n",
    "if email == 'suraj77448@gmail.com' and password == '78888':\n",
    "    print('Welcome')\n",
    "else:\n",
    "    print('Invalid credential')"
   ]
  },
  {
   "cell_type": "code",
   "execution_count": 33,
   "id": "ee8eacf8-1ffd-4132-b4ef-20bf4dd886d3",
   "metadata": {},
   "outputs": [
    {
     "name": "stdin",
     "output_type": "stream",
     "text": [
      "Enter your Email suraj77448@gmail.com\n",
      "Enter Password 74848\n"
     ]
    },
    {
     "name": "stdout",
     "output_type": "stream",
     "text": [
      "Incorrect password\n"
     ]
    },
    {
     "name": "stdin",
     "output_type": "stream",
     "text": [
      "enter password again 78888\n"
     ]
    },
    {
     "name": "stdout",
     "output_type": "stream",
     "text": [
      "Welcome finally\n"
     ]
    }
   ],
   "source": [
    "# if-elif statement\n",
    "\n",
    "email = input('Enter your Email')\n",
    "password = input('Enter Password')\n",
    "\n",
    "if email == 'suraj77448@gmail.com' and password == '78888':\n",
    "    print('Welcome')\n",
    "\n",
    "elif email == 'suraj77448@gmail.com' and password != '78888':\n",
    "    print('Incorrect password')\n",
    "    password = input('enter password again')\n",
    "\n",
    "    if password == '78888':\n",
    "        print('Welcome finally')\n",
    "    else:\n",
    "        ('Incorrect password')\n",
    "else:\n",
    "    print('Invalid credential')"
   ]
  },
  {
   "cell_type": "code",
   "execution_count": 35,
   "id": "b1e127f0-c7cf-481f-a315-032e274e7851",
   "metadata": {},
   "outputs": [
    {
     "name": "stdin",
     "output_type": "stream",
     "text": [
      "Enter 1st num 10\n",
      "Enter 2nd num 10\n",
      "Enter 3rd num 10\n"
     ]
    },
    {
     "name": "stdout",
     "output_type": "stream",
     "text": [
      "Smaller num is 10\n"
     ]
    }
   ],
   "source": [
    "# min of three number\n",
    "a  = int(input('Enter 1st num'))\n",
    "b  = int(input('Enter 2nd num'))\n",
    "c  = int(input('Enter 3rd num'))\n",
    "\n",
    "if a < b and a < c :\n",
    "    print(f'smaller num is {a}')\n",
    "\n",
    "elif b < c:\n",
    "    print(f'smaller num is {b}')\n",
    "\n",
    "else:\n",
    "    print(f\"Smaller num is {c}\")"
   ]
  },
  {
   "cell_type": "code",
   "execution_count": 37,
   "id": "fef4c061-678d-49a3-9cba-2b66ffb6375f",
   "metadata": {},
   "outputs": [
    {
     "name": "stdin",
     "output_type": "stream",
     "text": [
      "Enter the 1st num 40\n",
      "Enter the 2nd num 10\n",
      "Enter your choice +,-,*,/ *\n"
     ]
    },
    {
     "name": "stdout",
     "output_type": "stream",
     "text": [
      "400\n"
     ]
    }
   ],
   "source": [
    "# Menu driven calculator\n",
    "num1 = int(input('Enter the 1st num'))\n",
    "num2 = int(input('Enter the 2nd num'))\n",
    "\n",
    "choice = input('Enter your choice +,-,*,/')\n",
    "\n",
    "if choice == '+':\n",
    "    print(num1 + num2)\n",
    "\n",
    "elif choice == '-':\n",
    "    print(num1 - num2)\n",
    "elif choice == '*':\n",
    "    print(num1 * num2)\n",
    "\n",
    "elif choice == '/':\n",
    "    print(num1/num2)\n",
    "\n",
    "else:\n",
    "    print(\"Invalid choice\")"
   ]
  },
  {
   "cell_type": "code",
   "execution_count": null,
   "id": "88558593-de0f-4a17-9aff-c2df65c93a90",
   "metadata": {},
   "outputs": [],
   "source": []
  },
  {
   "cell_type": "markdown",
   "id": "e37a10ef-faa5-4b40-bca1-387208108a4a",
   "metadata": {},
   "source": [
    "### `Problem 1`: Write a program that will give you in hand monthly salary after deduction on CTC - HRA(10%), DA(5%), PF(3%) and taxes deduction as below:\n",
    "\n",
    "> Salary(Lakhs) : Tax(%)\n",
    "\n",
    "*   Below 5 : 0%\n",
    "*   5-10 : 10%\n",
    "*   10-20 : 20%\n",
    "*   aboove 20 : 30%"
   ]
  },
  {
   "cell_type": "code",
   "execution_count": 69,
   "id": "2d08918c-30aa-412f-aebb-461de02c830b",
   "metadata": {},
   "outputs": [
    {
     "name": "stdin",
     "output_type": "stream",
     "text": [
      "Enter your CTC 800000\n"
     ]
    },
    {
     "name": "stdout",
     "output_type": "stream",
     "text": [
      "HRA: 80000.0\n",
      "DA: 40000.0\n",
      "PF: 24000.0\n",
      "Tax: 80000.0\n",
      "Total Anual deduction: 224000.0\n",
      "Your Anual Inhand Salary: 576000.0\n",
      "Total Monthly deduction: 18666.666666666668\n",
      "Your Monthly Inhand Salary: 48000.0\n"
     ]
    }
   ],
   "source": [
    "CTC  = int(input(\"Enter your CTC\"))\n",
    "\n",
    "HRA = (CTC * 10)/100\n",
    "print(f'HRA:',HRA)\n",
    "DA = (CTC * 5)/100\n",
    "print(f'DA:',DA)\n",
    "PF = (CTC * 3)/100\n",
    "print(f'PF:',PF)\n",
    "\n",
    "if CTC <= 500000:\n",
    "    tax = 0\n",
    "    print(f'Tax:',tax)\n",
    "elif CTC > 500000 and CTC<= 1000000:\n",
    "    tax = (CTC * 10)/100\n",
    "    print(f'Tax:',tax)\n",
    "\n",
    "elif CTC >1000000 and CTC <= 2000000:\n",
    "    tax = (CTC * 20)/100\n",
    "    print(f'Tax:',tax)\n",
    "\n",
    "else:\n",
    "    tax = (CTC * 30)/100\n",
    "    print(f'Tax:',tax)\n",
    "\n",
    "inhand_salary = (CTC - (HRA + DA + PF + tax))\n",
    "Total_Deduction  = HRA + DA + PF + tax\n",
    "print('Total Anual deduction:',Total_Deduction)\n",
    "print('Your Anual Inhand Salary:',inhand_salary)\n",
    "print('Total Monthly deduction:',Total_Deduction/12)\n",
    "print('Your Monthly Inhand Salary:',inhand_salary/12)"
   ]
  },
  {
   "cell_type": "code",
   "execution_count": 45,
   "id": "006802ae-429b-49da-ad1c-1dba3edc33ee",
   "metadata": {},
   "outputs": [
    {
     "name": "stdout",
     "output_type": "stream",
     "text": [
      "0.0\n"
     ]
    }
   ],
   "source": [
    "#Problem 2. Write a program that take a user input of three angles and will find out whether it can form a triangle or not.\n"
   ]
  },
  {
   "cell_type": "markdown",
   "id": "10d0ca17-a9e7-48a5-80ed-a6e6123a0264",
   "metadata": {},
   "source": [
    "# Modules in Python\n",
    "--> Module is basicallly a file in which some function are written into it.We can import that file and extract into our code, so benifit is   to reuse the code.The that is written previously by someone.\n",
    "* math\n",
    "* keywords\n",
    "* random\n",
    "* datetime"
   ]
  },
  {
   "cell_type": "code",
   "execution_count": 3,
   "id": "a008fd4d-8fd6-4b7e-a7ca-d13b9387f748",
   "metadata": {},
   "outputs": [
    {
     "data": {
      "text/plain": [
       "120"
      ]
     },
     "execution_count": 3,
     "metadata": {},
     "output_type": "execute_result"
    }
   ],
   "source": [
    "# math --> In this all the function are vaailable which are required to make mathematical software\n",
    "import math \n",
    "math.factorial(5)"
   ]
  },
  {
   "cell_type": "code",
   "execution_count": 4,
   "id": "ccab25e1-0b66-4b31-b048-2a0a2db874f7",
   "metadata": {},
   "outputs": [
    {
     "data": {
      "text/plain": [
       "6"
      ]
     },
     "execution_count": 4,
     "metadata": {},
     "output_type": "execute_result"
    }
   ],
   "source": [
    "math.floor(6.8)"
   ]
  },
  {
   "cell_type": "code",
   "execution_count": null,
   "id": "c17e04ae-6a46-48b6-9cd9-6cb455c2da17",
   "metadata": {},
   "outputs": [],
   "source": []
  },
  {
   "cell_type": "code",
   "execution_count": 7,
   "id": "8ea46e40-901f-4fac-bb92-946fc1fed36c",
   "metadata": {},
   "outputs": [
    {
     "data": {
      "text/plain": [
       "12.0"
      ]
     },
     "execution_count": 7,
     "metadata": {},
     "output_type": "execute_result"
    }
   ],
   "source": [
    "math.sqrt(144)"
   ]
  },
  {
   "cell_type": "code",
   "execution_count": 9,
   "id": "e787648d-a2d4-42c8-b6bc-da90db218ee5",
   "metadata": {},
   "outputs": [
    {
     "name": "stdout",
     "output_type": "stream",
     "text": [
      "['False', 'None', 'True', 'and', 'as', 'assert', 'async', 'await', 'break', 'class', 'continue', 'def', 'del', 'elif', 'else', 'except', 'finally', 'for', 'from', 'global', 'if', 'import', 'in', 'is', 'lambda', 'nonlocal', 'not', 'or', 'pass', 'raise', 'return', 'try', 'while', 'with', 'yield']\n"
     ]
    }
   ],
   "source": [
    "#keywords --> Keywords are the reserved words in python\n",
    "import keyword\n",
    "print(keyword.kwlist)"
   ]
  },
  {
   "cell_type": "code",
   "execution_count": 12,
   "id": "1425f736-749e-4441-8c8f-5adb66c03fe4",
   "metadata": {},
   "outputs": [
    {
     "name": "stdout",
     "output_type": "stream",
     "text": [
      "44\n"
     ]
    }
   ],
   "source": [
    "#Random -->Gives the random number \n",
    "import random\n",
    "print(random.randint(1,100))"
   ]
  },
  {
   "cell_type": "code",
   "execution_count": 13,
   "id": "f63f0f3f-5479-4f29-89fc-0b46195c2c47",
   "metadata": {},
   "outputs": [
    {
     "name": "stdout",
     "output_type": "stream",
     "text": [
      "2025-03-24 21:08:44.491692\n"
     ]
    }
   ],
   "source": [
    "#datetime --> function related to date and time\n",
    "import datetime \n",
    "print(datetime.datetime.now())"
   ]
  },
  {
   "cell_type": "code",
   "execution_count": 15,
   "id": "beda0794-dd93-461e-b4f4-03cde96ca79a",
   "metadata": {},
   "outputs": [
    {
     "name": "stdout",
     "output_type": "stream",
     "text": [
      "\n",
      "Please wait a moment while I gather a list of all available modules...\n",
      "\n"
     ]
    },
    {
     "ename": "Skipped",
     "evalue": "could not import 'hypothesis': No module named 'hypothesis'",
     "output_type": "error",
     "traceback": [
      "\u001b[1;31m---------------------------------------------------------------------------\u001b[0m",
      "\u001b[1;31mSkipped\u001b[0m                                   Traceback (most recent call last)",
      "Cell \u001b[1;32mIn[15], line 1\u001b[0m\n\u001b[1;32m----> 1\u001b[0m help(\u001b[38;5;124m'\u001b[39m\u001b[38;5;124mmodules\u001b[39m\u001b[38;5;124m'\u001b[39m)\n",
      "File \u001b[1;32m<frozen _sitebuiltins>:103\u001b[0m, in \u001b[0;36m__call__\u001b[1;34m(self, *args, **kwds)\u001b[0m\n",
      "File \u001b[1;32m~\\anaconda3\\Lib\\pydoc.py:2011\u001b[0m, in \u001b[0;36mHelper.__call__\u001b[1;34m(self, request)\u001b[0m\n\u001b[0;32m   2009\u001b[0m \u001b[38;5;28;01mif\u001b[39;00m request \u001b[38;5;129;01mis\u001b[39;00m \u001b[38;5;129;01mnot\u001b[39;00m \u001b[38;5;28mself\u001b[39m\u001b[38;5;241m.\u001b[39m_GoInteractive:\n\u001b[0;32m   2010\u001b[0m     \u001b[38;5;28;01mtry\u001b[39;00m:\n\u001b[1;32m-> 2011\u001b[0m         \u001b[38;5;28mself\u001b[39m\u001b[38;5;241m.\u001b[39mhelp(request)\n\u001b[0;32m   2012\u001b[0m     \u001b[38;5;28;01mexcept\u001b[39;00m \u001b[38;5;167;01mImportError\u001b[39;00m \u001b[38;5;28;01mas\u001b[39;00m e:\n\u001b[0;32m   2013\u001b[0m         \u001b[38;5;28mself\u001b[39m\u001b[38;5;241m.\u001b[39moutput\u001b[38;5;241m.\u001b[39mwrite(\u001b[38;5;124mf\u001b[39m\u001b[38;5;124m'\u001b[39m\u001b[38;5;132;01m{\u001b[39;00me\u001b[38;5;132;01m}\u001b[39;00m\u001b[38;5;130;01m\\n\u001b[39;00m\u001b[38;5;124m'\u001b[39m)\n",
      "File \u001b[1;32m~\\anaconda3\\Lib\\pydoc.py:2060\u001b[0m, in \u001b[0;36mHelper.help\u001b[1;34m(self, request, is_cli)\u001b[0m\n\u001b[0;32m   2058\u001b[0m \u001b[38;5;28;01melif\u001b[39;00m request \u001b[38;5;241m==\u001b[39m \u001b[38;5;124m'\u001b[39m\u001b[38;5;124msymbols\u001b[39m\u001b[38;5;124m'\u001b[39m: \u001b[38;5;28mself\u001b[39m\u001b[38;5;241m.\u001b[39mlistsymbols()\n\u001b[0;32m   2059\u001b[0m \u001b[38;5;28;01melif\u001b[39;00m request \u001b[38;5;241m==\u001b[39m \u001b[38;5;124m'\u001b[39m\u001b[38;5;124mtopics\u001b[39m\u001b[38;5;124m'\u001b[39m: \u001b[38;5;28mself\u001b[39m\u001b[38;5;241m.\u001b[39mlisttopics()\n\u001b[1;32m-> 2060\u001b[0m \u001b[38;5;28;01melif\u001b[39;00m request \u001b[38;5;241m==\u001b[39m \u001b[38;5;124m'\u001b[39m\u001b[38;5;124mmodules\u001b[39m\u001b[38;5;124m'\u001b[39m: \u001b[38;5;28mself\u001b[39m\u001b[38;5;241m.\u001b[39mlistmodules()\n\u001b[0;32m   2061\u001b[0m \u001b[38;5;28;01melif\u001b[39;00m request[:\u001b[38;5;241m8\u001b[39m] \u001b[38;5;241m==\u001b[39m \u001b[38;5;124m'\u001b[39m\u001b[38;5;124mmodules \u001b[39m\u001b[38;5;124m'\u001b[39m:\n\u001b[0;32m   2062\u001b[0m     \u001b[38;5;28mself\u001b[39m\u001b[38;5;241m.\u001b[39mlistmodules(request\u001b[38;5;241m.\u001b[39msplit()[\u001b[38;5;241m1\u001b[39m])\n",
      "File \u001b[1;32m~\\anaconda3\\Lib\\pydoc.py:2212\u001b[0m, in \u001b[0;36mHelper.listmodules\u001b[1;34m(self, key)\u001b[0m\n\u001b[0;32m   2210\u001b[0m             \u001b[38;5;28;01mdef\u001b[39;00m \u001b[38;5;21monerror\u001b[39m(modname):\n\u001b[0;32m   2211\u001b[0m                 callback(\u001b[38;5;28;01mNone\u001b[39;00m, modname, \u001b[38;5;28;01mNone\u001b[39;00m)\n\u001b[1;32m-> 2212\u001b[0m             ModuleScanner()\u001b[38;5;241m.\u001b[39mrun(callback, onerror\u001b[38;5;241m=\u001b[39monerror)\n\u001b[0;32m   2213\u001b[0m             \u001b[38;5;28mself\u001b[39m\u001b[38;5;241m.\u001b[39mlist(modules\u001b[38;5;241m.\u001b[39mkeys())\n\u001b[0;32m   2214\u001b[0m             \u001b[38;5;28mself\u001b[39m\u001b[38;5;241m.\u001b[39moutput\u001b[38;5;241m.\u001b[39mwrite(\u001b[38;5;124m'''\u001b[39m\n\u001b[0;32m   2215\u001b[0m \u001b[38;5;124mEnter any module name to get more help.  Or, type \u001b[39m\u001b[38;5;124m\"\u001b[39m\u001b[38;5;124mmodules spam\u001b[39m\u001b[38;5;124m\"\u001b[39m\u001b[38;5;124m to search\u001b[39m\n\u001b[0;32m   2216\u001b[0m \u001b[38;5;124mfor modules whose name or summary contain the string \u001b[39m\u001b[38;5;124m\"\u001b[39m\u001b[38;5;124mspam\u001b[39m\u001b[38;5;124m\"\u001b[39m\u001b[38;5;124m.\u001b[39m\n\u001b[0;32m   2217\u001b[0m \u001b[38;5;124m'''\u001b[39m)\n",
      "File \u001b[1;32m~\\anaconda3\\Lib\\pydoc.py:2241\u001b[0m, in \u001b[0;36mModuleScanner.run\u001b[1;34m(self, callback, key, completer, onerror)\u001b[0m\n\u001b[0;32m   2238\u001b[0m             \u001b[38;5;28;01mif\u001b[39;00m name\u001b[38;5;241m.\u001b[39mlower()\u001b[38;5;241m.\u001b[39mfind(key) \u001b[38;5;241m>\u001b[39m\u001b[38;5;241m=\u001b[39m \u001b[38;5;241m0\u001b[39m:\n\u001b[0;32m   2239\u001b[0m                 callback(\u001b[38;5;28;01mNone\u001b[39;00m, modname, desc)\n\u001b[1;32m-> 2241\u001b[0m \u001b[38;5;28;01mfor\u001b[39;00m importer, modname, ispkg \u001b[38;5;129;01min\u001b[39;00m pkgutil\u001b[38;5;241m.\u001b[39mwalk_packages(onerror\u001b[38;5;241m=\u001b[39monerror):\n\u001b[0;32m   2242\u001b[0m     \u001b[38;5;28;01mif\u001b[39;00m \u001b[38;5;28mself\u001b[39m\u001b[38;5;241m.\u001b[39mquit:\n\u001b[0;32m   2243\u001b[0m         \u001b[38;5;28;01mbreak\u001b[39;00m\n",
      "File \u001b[1;32m~\\anaconda3\\Lib\\pkgutil.py:107\u001b[0m, in \u001b[0;36mwalk_packages\u001b[1;34m(path, prefix, onerror)\u001b[0m\n\u001b[0;32m    104\u001b[0m \u001b[38;5;66;03m# don't traverse path items we've seen before\u001b[39;00m\n\u001b[0;32m    105\u001b[0m path \u001b[38;5;241m=\u001b[39m [p \u001b[38;5;28;01mfor\u001b[39;00m p \u001b[38;5;129;01min\u001b[39;00m path \u001b[38;5;28;01mif\u001b[39;00m \u001b[38;5;129;01mnot\u001b[39;00m seen(p)]\n\u001b[1;32m--> 107\u001b[0m \u001b[38;5;28;01myield from\u001b[39;00m walk_packages(path, info\u001b[38;5;241m.\u001b[39mname\u001b[38;5;241m+\u001b[39m\u001b[38;5;124m'\u001b[39m\u001b[38;5;124m.\u001b[39m\u001b[38;5;124m'\u001b[39m, onerror)\n",
      "File \u001b[1;32m~\\anaconda3\\Lib\\pkgutil.py:92\u001b[0m, in \u001b[0;36mwalk_packages\u001b[1;34m(path, prefix, onerror)\u001b[0m\n\u001b[0;32m     90\u001b[0m \u001b[38;5;28;01mif\u001b[39;00m info\u001b[38;5;241m.\u001b[39mispkg:\n\u001b[0;32m     91\u001b[0m     \u001b[38;5;28;01mtry\u001b[39;00m:\n\u001b[1;32m---> 92\u001b[0m         \u001b[38;5;28m__import__\u001b[39m(info\u001b[38;5;241m.\u001b[39mname)\n\u001b[0;32m     93\u001b[0m     \u001b[38;5;28;01mexcept\u001b[39;00m \u001b[38;5;167;01mImportError\u001b[39;00m:\n\u001b[0;32m     94\u001b[0m         \u001b[38;5;28;01mif\u001b[39;00m onerror \u001b[38;5;129;01mis\u001b[39;00m \u001b[38;5;129;01mnot\u001b[39;00m \u001b[38;5;28;01mNone\u001b[39;00m:\n",
      "File \u001b[1;32m~\\anaconda3\\Lib\\site-packages\\xgboost\\testing\\__init__.py:47\u001b[0m\n\u001b[0;32m     38\u001b[0m \u001b[38;5;28;01mfrom\u001b[39;00m \u001b[38;5;21;01mxgboost\u001b[39;00m\u001b[38;5;21;01m.\u001b[39;00m\u001b[38;5;21;01msklearn\u001b[39;00m \u001b[38;5;28;01mimport\u001b[39;00m SklObjective\n\u001b[0;32m     39\u001b[0m \u001b[38;5;28;01mfrom\u001b[39;00m \u001b[38;5;21;01mxgboost\u001b[39;00m\u001b[38;5;21;01m.\u001b[39;00m\u001b[38;5;21;01mtesting\u001b[39;00m\u001b[38;5;21;01m.\u001b[39;00m\u001b[38;5;21;01mdata\u001b[39;00m \u001b[38;5;28;01mimport\u001b[39;00m (\n\u001b[0;32m     40\u001b[0m     get_california_housing,\n\u001b[0;32m     41\u001b[0m     get_cancer,\n\u001b[1;32m   (...)\u001b[0m\n\u001b[0;32m     44\u001b[0m     memory,\n\u001b[0;32m     45\u001b[0m )\n\u001b[1;32m---> 47\u001b[0m hypothesis \u001b[38;5;241m=\u001b[39m pytest\u001b[38;5;241m.\u001b[39mimportorskip(\u001b[38;5;124m\"\u001b[39m\u001b[38;5;124mhypothesis\u001b[39m\u001b[38;5;124m\"\u001b[39m)\n\u001b[0;32m     49\u001b[0m \u001b[38;5;66;03m# pylint:disable=wrong-import-position,wrong-import-order\u001b[39;00m\n\u001b[0;32m     50\u001b[0m \u001b[38;5;28;01mfrom\u001b[39;00m \u001b[38;5;21;01mhypothesis\u001b[39;00m \u001b[38;5;28;01mimport\u001b[39;00m strategies\n",
      "File \u001b[1;32m~\\anaconda3\\Lib\\site-packages\\_pytest\\outcomes.py:296\u001b[0m, in \u001b[0;36mimportorskip\u001b[1;34m(modname, minversion, reason)\u001b[0m\n\u001b[0;32m    294\u001b[0m         \u001b[38;5;28;01mif\u001b[39;00m reason \u001b[38;5;129;01mis\u001b[39;00m \u001b[38;5;28;01mNone\u001b[39;00m:\n\u001b[0;32m    295\u001b[0m             reason \u001b[38;5;241m=\u001b[39m \u001b[38;5;124mf\u001b[39m\u001b[38;5;124m\"\u001b[39m\u001b[38;5;124mcould not import \u001b[39m\u001b[38;5;132;01m{\u001b[39;00mmodname\u001b[38;5;132;01m!r}\u001b[39;00m\u001b[38;5;124m: \u001b[39m\u001b[38;5;132;01m{\u001b[39;00mexc\u001b[38;5;132;01m}\u001b[39;00m\u001b[38;5;124m\"\u001b[39m\n\u001b[1;32m--> 296\u001b[0m         \u001b[38;5;28;01mraise\u001b[39;00m Skipped(reason, allow_module_level\u001b[38;5;241m=\u001b[39m\u001b[38;5;28;01mTrue\u001b[39;00m) \u001b[38;5;28;01mfrom\u001b[39;00m \u001b[38;5;28;01mNone\u001b[39;00m\n\u001b[0;32m    297\u001b[0m mod \u001b[38;5;241m=\u001b[39m sys\u001b[38;5;241m.\u001b[39mmodules[modname]\n\u001b[0;32m    298\u001b[0m \u001b[38;5;28;01mif\u001b[39;00m minversion \u001b[38;5;129;01mis\u001b[39;00m \u001b[38;5;28;01mNone\u001b[39;00m:\n",
      "\u001b[1;31mSkipped\u001b[0m: could not import 'hypothesis': No module named 'hypothesis'"
     ]
    }
   ],
   "source": [
    "help('modules')"
   ]
  },
  {
   "cell_type": "markdown",
   "id": "89217552-15f1-4e34-9069-e6575e2919da",
   "metadata": {},
   "source": [
    "# Loops in python\n",
    "* Need for loops \n",
    "--> loops are used to fetch the data from a datasets which are stored in a container. for an example if a container have stored 500 products so to find the particular products loop will iterate to each product and return the particular product according to the condition applied in the loop.\n",
    "\n",
    "* while loop  \n",
    "* for loop"
   ]
  },
  {
   "cell_type": "code",
   "execution_count": 16,
   "id": "0171a266-13c3-49ca-b594-26860372e31d",
   "metadata": {},
   "outputs": [],
   "source": [
    "# While loop example --> program to print the table"
   ]
  },
  {
   "cell_type": "code",
   "execution_count": 19,
   "id": "9958e62a-786a-44ac-8c45-5fb68e74b36c",
   "metadata": {},
   "outputs": [
    {
     "name": "stdin",
     "output_type": "stream",
     "text": [
      "Enter your number 12\n"
     ]
    },
    {
     "name": "stdout",
     "output_type": "stream",
     "text": [
      "12 * 1 = 12\n",
      "12 * 2 = 24\n",
      "12 * 3 = 36\n",
      "12 * 4 = 48\n",
      "12 * 5 = 60\n",
      "12 * 6 = 72\n",
      "12 * 7 = 84\n",
      "12 * 8 = 96\n",
      "12 * 9 = 108\n",
      "12 * 10 = 120\n"
     ]
    }
   ],
   "source": [
    "num = int(input('Enter your number'))\n",
    "i=1\n",
    "while i<11:\n",
    "    print(num , '*' , i,'=',num * i)\n",
    "    i += 1"
   ]
  },
  {
   "cell_type": "code",
   "execution_count": 24,
   "id": "ad9c1a50-f9b0-4cb6-a60a-b2f615affbd0",
   "metadata": {},
   "outputs": [
    {
     "name": "stdout",
     "output_type": "stream",
     "text": [
      "1\n",
      "2\n",
      "3\n",
      "4\n",
      "limit exceeded\n"
     ]
    }
   ],
   "source": [
    "#while loop with else\n",
    "\n",
    "x = 1\n",
    "while x < 5:\n",
    "    print(x)\n",
    "    x += 1\n",
    "    \n",
    "else:\n",
    "    print('limit exceeded')\n"
   ]
  },
  {
   "cell_type": "code",
   "execution_count": 29,
   "id": "59e9f60e-cb43-4bc8-979c-96862bb5606e",
   "metadata": {},
   "outputs": [
    {
     "name": "stdin",
     "output_type": "stream",
     "text": [
      "Guess your number 56\n"
     ]
    },
    {
     "name": "stdout",
     "output_type": "stream",
     "text": [
      "wrong! guess lower\n"
     ]
    },
    {
     "name": "stdin",
     "output_type": "stream",
     "text": [
      "Guess your number again 34\n"
     ]
    },
    {
     "name": "stdout",
     "output_type": "stream",
     "text": [
      "wrong! guess lower\n"
     ]
    },
    {
     "name": "stdin",
     "output_type": "stream",
     "text": [
      "Guess your number again 24\n"
     ]
    },
    {
     "name": "stdout",
     "output_type": "stream",
     "text": [
      "wrong! guess higher\n"
     ]
    },
    {
     "name": "stdin",
     "output_type": "stream",
     "text": [
      "Guess your number again 30\n"
     ]
    },
    {
     "name": "stdout",
     "output_type": "stream",
     "text": [
      "wrong! guess lower\n"
     ]
    },
    {
     "name": "stdin",
     "output_type": "stream",
     "text": [
      "Guess your number again 27\n"
     ]
    },
    {
     "name": "stdout",
     "output_type": "stream",
     "text": [
      "wrong! guess higher\n"
     ]
    },
    {
     "name": "stdin",
     "output_type": "stream",
     "text": [
      "Guess your number again 28\n"
     ]
    },
    {
     "name": "stdout",
     "output_type": "stream",
     "text": [
      "correct guess\n",
      "attempts 6\n"
     ]
    }
   ],
   "source": [
    "# guessing game\n",
    "#generate a random integer between 1 and 100\n",
    "\n",
    "import random\n",
    "jackpot = random.randint(1,100)\n",
    "\n",
    "guess = int(input('Guess your number'))\n",
    "counter = 1\n",
    "while guess != jackpot:\n",
    "\n",
    "    if guess < jackpot:\n",
    "        print('wrong! guess higher')\n",
    "    else:\n",
    "        print('wrong! guess lower')\n",
    "\n",
    "    guess = int(input('Guess your number again'))\n",
    "    counter += 1\n",
    "else:\n",
    "    print('correct guess')\n",
    "    print('attempts',counter)"
   ]
  },
  {
   "cell_type": "code",
   "execution_count": 35,
   "id": "73c714d6-2043-4c32-af8e-ec2fd4857907",
   "metadata": {},
   "outputs": [
    {
     "name": "stdout",
     "output_type": "stream",
     "text": [
      "1\n",
      "2\n",
      "3\n",
      "4\n",
      "5\n",
      "6\n",
      "7\n",
      "8\n",
      "9\n"
     ]
    }
   ],
   "source": [
    "# For loop demo\n",
    "\n",
    "for i in range(1,10,1):\n",
    "    print(i)"
   ]
  },
  {
   "cell_type": "code",
   "execution_count": 36,
   "id": "5bd17eb2-5136-486f-b90d-1fcfd116848a",
   "metadata": {},
   "outputs": [
    {
     "name": "stdout",
     "output_type": "stream",
     "text": [
      "10\n",
      "9\n",
      "8\n",
      "7\n",
      "6\n",
      "5\n",
      "4\n",
      "3\n",
      "2\n",
      "1\n"
     ]
    }
   ],
   "source": [
    "\n",
    "for i in range(10,0,-1):\n",
    "    print(i)"
   ]
  },
  {
   "cell_type": "code",
   "execution_count": 37,
   "id": "5da5944c-3c6b-4017-bbc8-6edfbffc8330",
   "metadata": {},
   "outputs": [
    {
     "name": "stdout",
     "output_type": "stream",
     "text": [
      "M\n",
      "a\n",
      "h\n",
      "a\n",
      "r\n",
      "a\n",
      "s\n",
      "h\n",
      "t\n",
      "r\n",
      "a\n"
     ]
    }
   ],
   "source": [
    "for i in 'Maharashtra':\n",
    "    print(i)"
   ]
  },
  {
   "cell_type": "code",
   "execution_count": 39,
   "id": "6d8ad6d0-9ed1-483b-a7c9-39f434b8707a",
   "metadata": {},
   "outputs": [
    {
     "name": "stdout",
     "output_type": "stream",
     "text": [
      "1\n",
      "27\n",
      "36\n",
      "56\n"
     ]
    }
   ],
   "source": [
    "for i in [1,27,36,56]:\n",
    "    print(i)"
   ]
  },
  {
   "cell_type": "markdown",
   "id": "01548be5-85a6-4710-a624-21f82f298464",
   "metadata": {},
   "source": [
    "# For loop example\n",
    "Program - The current population of a town is 10000. \n",
    "The population of the town is increasing at the rate of 10% per year. \n",
    "You have to write a program to find out the population at the end of each of the last 10 years."
   ]
  },
  {
   "cell_type": "code",
   "execution_count": 42,
   "id": "dbf0b9cc-c463-47b7-b43f-675b6c340df8",
   "metadata": {},
   "outputs": [
    {
     "name": "stdout",
     "output_type": "stream",
     "text": [
      "10 10000\n",
      "9 9090.90909090909\n",
      "8 8264.462809917353\n",
      "7 7513.148009015775\n",
      "6 6830.134553650703\n",
      "5 6209.213230591548\n",
      "4 5644.739300537771\n",
      "3 5131.5811823070635\n",
      "2 4665.07380209733\n",
      "1 4240.976183724845\n"
     ]
    }
   ],
   "source": [
    "curr_pop = 10000\n",
    "\n",
    "for i in range(10,0,-1):\n",
    "    print(i,curr_pop)\n",
    "    curr_pop = curr_pop/1.1 \n",
    "    "
   ]
  },
  {
   "cell_type": "markdown",
   "id": "ad8efcde-9237-4838-91e0-e6014a96d328",
   "metadata": {},
   "source": [
    "# sequence sum\n",
    "1/1! + 2/2! + 3/3! + ..."
   ]
  },
  {
   "cell_type": "code",
   "execution_count": 49,
   "id": "3cf543b5-c658-421d-8a5e-d0ab1e6f46f9",
   "metadata": {},
   "outputs": [
    {
     "name": "stdin",
     "output_type": "stream",
     "text": [
      "Enter n  3\n"
     ]
    },
    {
     "name": "stdout",
     "output_type": "stream",
     "text": [
      "2.5\n"
     ]
    }
   ],
   "source": [
    "n = int(input('Enter n '))\n",
    "\n",
    "result = 0 \n",
    "fact = 1\n",
    "for i in range(1,n+1):\n",
    "    fact = fact * i\n",
    "    result = result + i/fact\n",
    "print(result)"
   ]
  },
  {
   "cell_type": "code",
   "execution_count": 51,
   "id": "2c479792-3eac-48f1-8d30-3ab456a5471d",
   "metadata": {},
   "outputs": [
    {
     "name": "stdin",
     "output_type": "stream",
     "text": [
      "Enter n  5\n"
     ]
    },
    {
     "name": "stdout",
     "output_type": "stream",
     "text": [
      "120\n"
     ]
    }
   ],
   "source": [
    "n = int(input('Enter n '))\n",
    "\n",
    "result = 0 \n",
    "fact = 1\n",
    "for i in range(1,n+1):\n",
    "    fact = fact * i\n",
    "\n",
    "print(fact)\n"
   ]
  },
  {
   "cell_type": "code",
   "execution_count": 54,
   "id": "d316b476-91a3-4409-ac61-19a7da47c47e",
   "metadata": {},
   "outputs": [
    {
     "name": "stdin",
     "output_type": "stream",
     "text": [
      "Enter n  5\n"
     ]
    },
    {
     "data": {
      "text/plain": [
       "120"
      ]
     },
     "execution_count": 54,
     "metadata": {},
     "output_type": "execute_result"
    }
   ],
   "source": [
    "import math\n",
    "n = int(input('Enter n '))\n",
    "\n",
    "math.factorial(n)"
   ]
  },
  {
   "cell_type": "markdown",
   "id": "3028c8cc-b5cc-45c5-a83e-3e13c2382317",
   "metadata": {},
   "source": [
    "# Nested loops"
   ]
  },
  {
   "cell_type": "code",
   "execution_count": 60,
   "id": "2430d392-93fa-4b54-b148-530a3350ae8b",
   "metadata": {},
   "outputs": [
    {
     "name": "stdout",
     "output_type": "stream",
     "text": [
      "1 1\n",
      "1 2\n",
      "1 3\n",
      "1 4\n",
      "2 1\n",
      "2 2\n",
      "2 3\n",
      "2 4\n",
      "3 1\n",
      "3 2\n",
      "3 3\n",
      "3 4\n",
      "4 1\n",
      "4 2\n",
      "4 3\n",
      "4 4\n"
     ]
    }
   ],
   "source": [
    "#Example --> unique pairs\n",
    "#ex --> class and student name\n",
    "for i in range(1,5):\n",
    "    for j in range(1,5):\n",
    "            print(i,j)"
   ]
  },
  {
   "cell_type": "code",
   "execution_count": 68,
   "id": "c98c15c0-423e-4658-b361-25ea33e0fda0",
   "metadata": {},
   "outputs": [
    {
     "name": "stdin",
     "output_type": "stream",
     "text": [
      "Enter no of rows 5\n"
     ]
    },
    {
     "name": "stdout",
     "output_type": "stream",
     "text": [
      "* \n",
      "* * \n",
      "* * * \n",
      "* * * * \n",
      "* * * * * \n"
     ]
    }
   ],
   "source": [
    "#Pattern\n",
    "num = int(input('Enter no of rows'))\n",
    "for i in range(1,num+1):\n",
    "    for j in range(1,i+1):\n",
    "        print(\"*\",end = ' ')\n",
    "    print()"
   ]
  },
  {
   "cell_type": "code",
   "execution_count": 86,
   "id": "9bd24ae5-1ec9-42df-8578-3ae8526196aa",
   "metadata": {},
   "outputs": [
    {
     "name": "stdin",
     "output_type": "stream",
     "text": [
      "Enter no of rows 5\n"
     ]
    },
    {
     "name": "stdout",
     "output_type": "stream",
     "text": [
      "1\n",
      "121\n",
      "12321\n",
      "1234321\n",
      "123454321\n"
     ]
    }
   ],
   "source": [
    "num = int(input('Enter no of rows'))\n",
    "for i in range(1,num+1):\n",
    "    for j in range(1,i+1):\n",
    "        print(j, end ='')\n",
    "    for k in range(i-1,0,-1):\n",
    "        print(k,end = '')\n",
    "    print()"
   ]
  },
  {
   "cell_type": "code",
   "execution_count": 101,
   "id": "97f8a8f0-d91a-4de9-99b0-530f8309c0ad",
   "metadata": {},
   "outputs": [
    {
     "name": "stdin",
     "output_type": "stream",
     "text": [
      "Enter your text 5\n"
     ]
    },
    {
     "name": "stdout",
     "output_type": "stream",
     "text": [
      "* \n",
      "* * \n",
      "* * * \n",
      "* * * * \n",
      "* * * * * \n"
     ]
    }
   ],
   "source": [
    "num  = int(input('Enter your text'))\n",
    "\n",
    "for i in range(1,num+1):\n",
    "    \n",
    "    for j in range(1,i+1):\n",
    "        print('*',end = ' ')\n",
    "    print()"
   ]
  },
  {
   "cell_type": "code",
   "execution_count": 103,
   "id": "48203971-b9cf-4a45-89bb-4d2c9b137095",
   "metadata": {},
   "outputs": [
    {
     "name": "stdin",
     "output_type": "stream",
     "text": [
      "Enter your text 5\n"
     ]
    },
    {
     "name": "stdout",
     "output_type": "stream",
     "text": [
      "1 \n",
      "1 2 1 \n",
      "1 2 3 2 1 \n",
      "1 2 3 4 3 2 1 \n",
      "1 2 3 4 5 4 3 2 1 \n"
     ]
    }
   ],
   "source": [
    "num  = int(input('Enter your text'))\n",
    "\n",
    "for i in range(1,num+1):\n",
    "    for j in range(1,i+1):\n",
    "        print(j ,end = ' ')\n",
    "    for k in range(i-1,0,-1):\n",
    "        print(k, end = ' ')\n",
    "    print()"
   ]
  },
  {
   "cell_type": "markdown",
   "id": "14b70546-00e7-4320-81a5-9b0431f8a327",
   "metadata": {},
   "source": [
    "# Loop Control Statement\n",
    "* Break\n",
    "* Continue\n",
    "* Pass"
   ]
  },
  {
   "cell_type": "code",
   "execution_count": 108,
   "id": "a466ea8b-e801-4bba-8895-74f294323f11",
   "metadata": {},
   "outputs": [
    {
     "name": "stdout",
     "output_type": "stream",
     "text": [
      "1\n",
      "2\n",
      "3\n",
      "4\n"
     ]
    }
   ],
   "source": [
    "# Break Statement\n",
    "# ex --> linear searching\n",
    "for i in range(1,10):\n",
    "    if i == 5:\n",
    "       break\n",
    "    print(i)"
   ]
  },
  {
   "cell_type": "code",
   "execution_count": 114,
   "id": "36b8ba7d-84a3-479d-9262-f6cb8053570d",
   "metadata": {},
   "outputs": [
    {
     "name": "stdin",
     "output_type": "stream",
     "text": [
      "Enter lower range 10\n",
      "Enter upper range 100\n"
     ]
    },
    {
     "name": "stdout",
     "output_type": "stream",
     "text": [
      "11\n",
      "13\n",
      "17\n",
      "19\n",
      "23\n",
      "29\n",
      "31\n",
      "37\n",
      "41\n",
      "43\n",
      "47\n",
      "53\n",
      "59\n",
      "61\n",
      "67\n",
      "71\n",
      "73\n",
      "79\n",
      "83\n",
      "89\n",
      "97\n"
     ]
    }
   ],
   "source": [
    "lower = int(input('Enter lower range'))\n",
    "upper = int(input('Enter upper range'))\n",
    "\n",
    "for i in range(lower,upper+1):\n",
    "    for j in range(2,i):\n",
    "        if i % j == 0:\n",
    "           break\n",
    "    else:\n",
    "        print(i)\n",
    "            \n",
    "            \n",
    "    \n",
    "    "
   ]
  },
  {
   "cell_type": "code",
   "execution_count": 115,
   "id": "043b6388-532b-49ce-8691-e2017c05ad75",
   "metadata": {},
   "outputs": [
    {
     "name": "stdout",
     "output_type": "stream",
     "text": [
      "1\n",
      "2\n",
      "3\n",
      "4\n",
      "6\n",
      "7\n",
      "8\n",
      "9\n"
     ]
    }
   ],
   "source": [
    "# Continue\n",
    "for i in range(1,10):\n",
    "    if i == 5:\n",
    "       continue\n",
    "    print(i)"
   ]
  },
  {
   "cell_type": "code",
   "execution_count": 116,
   "id": "cc8c3723-0aa2-4986-81fd-5896dbe99d3f",
   "metadata": {},
   "outputs": [],
   "source": [
    "# Pass -->\n",
    "for i in range(1,10):\n",
    "    pass"
   ]
  },
  {
   "cell_type": "code",
   "execution_count": null,
   "id": "c42ee722-9b02-4504-8807-b8be1186dc23",
   "metadata": {},
   "outputs": [],
   "source": []
  }
 ],
 "metadata": {
  "kernelspec": {
   "display_name": "Python 3 (ipykernel)",
   "language": "python",
   "name": "python3"
  },
  "language_info": {
   "codemirror_mode": {
    "name": "ipython",
    "version": 3
   },
   "file_extension": ".py",
   "mimetype": "text/x-python",
   "name": "python",
   "nbconvert_exporter": "python",
   "pygments_lexer": "ipython3",
   "version": "3.11.5"
  }
 },
 "nbformat": 4,
 "nbformat_minor": 5
}
